{
 "cells": [
  {
   "cell_type": "code",
   "execution_count": 5,
   "id": "3c10e207",
   "metadata": {},
   "outputs": [],
   "source": [
    "# pip install pymongo"
   ]
  },
  {
   "cell_type": "code",
   "execution_count": 6,
   "id": "fe75809c",
   "metadata": {},
   "outputs": [
    {
     "data": {
      "text/plain": [
       "Database(MongoClient(host=['localhost:27017'], document_class=dict, tz_aware=False, connect=True), 'python_test')"
      ]
     },
     "execution_count": 6,
     "metadata": {},
     "output_type": "execute_result"
    }
   ],
   "source": [
    "from pymongo import MongoClient\n",
    "from gridfs import GridFS\n",
    "db = MongoClient().python_test\n",
    "db"
   ]
  },
  {
   "cell_type": "code",
   "execution_count": 7,
   "id": "f2a825aa",
   "metadata": {},
   "outputs": [
    {
     "data": {
      "text/plain": [
       "<gridfs.GridFS at 0x20c20b324c0>"
      ]
     },
     "execution_count": 7,
     "metadata": {},
     "output_type": "execute_result"
    }
   ],
   "source": [
    "fs = GridFS(db) # 이진데이터를 저장\n",
    "fs"
   ]
  },
  {
   "cell_type": "code",
   "execution_count": 9,
   "id": "2ce71329",
   "metadata": {},
   "outputs": [
    {
     "name": "stdout",
     "output_type": "stream",
     "text": [
      "f=  <_io.BufferedReader name='test.txt'>\n"
     ]
    }
   ],
   "source": [
    "with open('test.txt','rb')as f:\n",
    "    fs.put(f, filename='test.txt')\n",
    "    print('f= ',f)"
   ]
  },
  {
   "cell_type": "code",
   "execution_count": 10,
   "id": "3ad31b48",
   "metadata": {},
   "outputs": [
    {
     "name": "stdout",
     "output_type": "stream",
     "text": [
      "<pymongo.cursor.Cursor object at 0x0000020C20B32C10>\n"
     ]
    }
   ],
   "source": [
    "print(db.fs.files.find())"
   ]
  },
  {
   "cell_type": "code",
   "execution_count": 12,
   "id": "2f32e89a",
   "metadata": {},
   "outputs": [
    {
     "name": "stdout",
     "output_type": "stream",
     "text": [
      "len : 1\n"
     ]
    }
   ],
   "source": [
    "fs_list = list(db.fs.files.find())\n",
    "print(\"len :\", len(fs_list))"
   ]
  },
  {
   "cell_type": "code",
   "execution_count": 13,
   "id": "9b9c666d",
   "metadata": {},
   "outputs": [
    {
     "data": {
      "text/plain": [
       "[{'_id': ObjectId('6360891c58c6a22afdc85c99'),\n",
       "  'filename': 'test.txt',\n",
       "  'chunkSize': 261120,\n",
       "  'length': 35,\n",
       "  'uploadDate': datetime.datetime(2022, 11, 1, 2, 49, 0, 623000)}]"
      ]
     },
     "execution_count": 13,
     "metadata": {},
     "output_type": "execute_result"
    }
   ],
   "source": [
    "fs_list"
   ]
  },
  {
   "cell_type": "code",
   "execution_count": 16,
   "id": "d91ab21f",
   "metadata": {},
   "outputs": [
    {
     "data": {
      "text/plain": [
       "'mongo test 몽고DB 저장할내용'"
      ]
     },
     "execution_count": 16,
     "metadata": {},
     "output_type": "execute_result"
    }
   ],
   "source": [
    "f = fs.get_last_version(filename=\"test.txt\")\n",
    "f_decode = f.read().decode('utf-8')\n",
    "f_decode"
   ]
  },
  {
   "cell_type": "code",
   "execution_count": null,
   "id": "6b30086f",
   "metadata": {},
   "outputs": [],
   "source": []
  }
 ],
 "metadata": {
  "kernelspec": {
   "display_name": "Python 3",
   "language": "python",
   "name": "python3"
  },
  "language_info": {
   "codemirror_mode": {
    "name": "ipython",
    "version": 3
   },
   "file_extension": ".py",
   "mimetype": "text/x-python",
   "name": "python",
   "nbconvert_exporter": "python",
   "pygments_lexer": "ipython3",
   "version": "3.8.8"
  }
 },
 "nbformat": 4,
 "nbformat_minor": 5
}
