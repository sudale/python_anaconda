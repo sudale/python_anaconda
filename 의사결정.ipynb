{
 "cells": [
  {
   "cell_type": "code",
   "execution_count": 1,
   "id": "73391dce",
   "metadata": {},
   "outputs": [],
   "source": [
    "# Decision Tree\n",
    "# 날개 유무 / 몸무게 / 골밀도 / 날 수 있는지\n",
    "\n",
    "data = {\n",
    "    'wing' : [False, True, True, True, True],\n",
    "    'weight' : ['light','heavy','light','heavy','light'],\n",
    "    'density' : ['low','high','high','high','low'],\n",
    "    'fly' : [False, False, False, False, True],\n",
    "}"
   ]
  },
  {
   "cell_type": "code",
   "execution_count": 2,
   "id": "473db4f1",
   "metadata": {},
   "outputs": [
    {
     "name": "stdout",
     "output_type": "stream",
     "text": [
      "참새  : 날 수 있는지 확인합니다\n"
     ]
    }
   ],
   "source": [
    "target_index = 4\n",
    "target_names = ['고양이','펭귄','닭','타조','참새']\n",
    "print(target_names[target_index], \" : 날 수 있는지 확인합니다\")"
   ]
  },
  {
   "cell_type": "code",
   "execution_count": 3,
   "id": "0a938ce0",
   "metadata": {},
   "outputs": [
    {
     "name": "stdout",
     "output_type": "stream",
     "text": [
      "날 수 있다\n"
     ]
    }
   ],
   "source": [
    "# 날개유무\n",
    "if data['wing'][target_index]: # 날개 있으면\n",
    "    if data['weight'][target_index]=='heavy':\n",
    "        print('날 수 없다')\n",
    "    else: # 골밀도\n",
    "        if data['density'][target_index]=='high':\n",
    "            print('날 수 없다')\n",
    "        else:\n",
    "            print('날 수 있다')\n",
    "else : # 날개 없음\n",
    "    print('날 수 없다')"
   ]
  },
  {
   "cell_type": "code",
   "execution_count": 4,
   "id": "af887243",
   "metadata": {},
   "outputs": [],
   "source": [
    "# 나이, 발사이즈 성별판단\n",
    "data = {\n",
    "    'age' : [28,22,11,10],\n",
    "    'fsize' : [270,235,180,120],\n",
    "    'density' : ['male','female','male','female']\n",
    "}"
   ]
  },
  {
   "cell_type": "code",
   "execution_count": 5,
   "id": "f8eeb6c8",
   "metadata": {},
   "outputs": [
    {
     "name": "stdout",
     "output_type": "stream",
     "text": [
      "3번회원  : 성별을 확인합니다\n"
     ]
    }
   ],
   "source": [
    "target_index = 2\n",
    "target_names = ['1번회원','2번회원','3번회원','4번회원']\n",
    "print(target_names[target_index], \" : 성별을 확인합니다\")"
   ]
  },
  {
   "cell_type": "code",
   "execution_count": 6,
   "id": "01c51082",
   "metadata": {},
   "outputs": [
    {
     "name": "stdout",
     "output_type": "stream",
     "text": [
      "male\n"
     ]
    }
   ],
   "source": [
    "if data['age'][target_index] <=20:\n",
    "    if data['fsize'][target_index] >=160:\n",
    "        print('male')\n",
    "    else:\n",
    "        print('female')\n",
    "else: # 20 이상\n",
    "    if data['fsize'][target_index]>=260:\n",
    "        print('male')\n",
    "    else:\n",
    "        print('female')"
   ]
  }
 ],
 "metadata": {
  "kernelspec": {
   "display_name": "Python 3",
   "language": "python",
   "name": "python3"
  },
  "language_info": {
   "codemirror_mode": {
    "name": "ipython",
    "version": 3
   },
   "file_extension": ".py",
   "mimetype": "text/x-python",
   "name": "python",
   "nbconvert_exporter": "python",
   "pygments_lexer": "ipython3",
   "version": "3.8.8"
  }
 },
 "nbformat": 4,
 "nbformat_minor": 5
}
