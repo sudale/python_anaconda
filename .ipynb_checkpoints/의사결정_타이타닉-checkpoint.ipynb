{
 "cells": [
  {
   "cell_type": "code",
   "execution_count": 2,
   "id": "a62ef51f",
   "metadata": {},
   "outputs": [
    {
     "data": {
      "text/html": [
       "<div>\n",
       "<style scoped>\n",
       "    .dataframe tbody tr th:only-of-type {\n",
       "        vertical-align: middle;\n",
       "    }\n",
       "\n",
       "    .dataframe tbody tr th {\n",
       "        vertical-align: top;\n",
       "    }\n",
       "\n",
       "    .dataframe thead th {\n",
       "        text-align: right;\n",
       "    }\n",
       "</style>\n",
       "<table border=\"1\" class=\"dataframe\">\n",
       "  <thead>\n",
       "    <tr style=\"text-align: right;\">\n",
       "      <th></th>\n",
       "      <th>PassengerId</th>\n",
       "      <th>Survived</th>\n",
       "      <th>Pclass</th>\n",
       "      <th>Name</th>\n",
       "      <th>Sex</th>\n",
       "      <th>Age</th>\n",
       "      <th>SibSp</th>\n",
       "      <th>Parch</th>\n",
       "      <th>Ticket</th>\n",
       "      <th>Fare</th>\n",
       "      <th>Cabin</th>\n",
       "      <th>Embarked</th>\n",
       "    </tr>\n",
       "  </thead>\n",
       "  <tbody>\n",
       "    <tr>\n",
       "      <th>0</th>\n",
       "      <td>1</td>\n",
       "      <td>0</td>\n",
       "      <td>3</td>\n",
       "      <td>Braund, Mr. Owen Harris</td>\n",
       "      <td>male</td>\n",
       "      <td>22.0</td>\n",
       "      <td>1</td>\n",
       "      <td>0</td>\n",
       "      <td>A/5 21171</td>\n",
       "      <td>7.2500</td>\n",
       "      <td>NaN</td>\n",
       "      <td>S</td>\n",
       "    </tr>\n",
       "    <tr>\n",
       "      <th>1</th>\n",
       "      <td>2</td>\n",
       "      <td>1</td>\n",
       "      <td>1</td>\n",
       "      <td>Cumings, Mrs. John Bradley (Florence Briggs Th...</td>\n",
       "      <td>female</td>\n",
       "      <td>38.0</td>\n",
       "      <td>1</td>\n",
       "      <td>0</td>\n",
       "      <td>PC 17599</td>\n",
       "      <td>71.2833</td>\n",
       "      <td>C85</td>\n",
       "      <td>C</td>\n",
       "    </tr>\n",
       "    <tr>\n",
       "      <th>2</th>\n",
       "      <td>3</td>\n",
       "      <td>1</td>\n",
       "      <td>3</td>\n",
       "      <td>Heikkinen, Miss. Laina</td>\n",
       "      <td>female</td>\n",
       "      <td>26.0</td>\n",
       "      <td>0</td>\n",
       "      <td>0</td>\n",
       "      <td>STON/O2. 3101282</td>\n",
       "      <td>7.9250</td>\n",
       "      <td>NaN</td>\n",
       "      <td>S</td>\n",
       "    </tr>\n",
       "    <tr>\n",
       "      <th>3</th>\n",
       "      <td>4</td>\n",
       "      <td>1</td>\n",
       "      <td>1</td>\n",
       "      <td>Futrelle, Mrs. Jacques Heath (Lily May Peel)</td>\n",
       "      <td>female</td>\n",
       "      <td>35.0</td>\n",
       "      <td>1</td>\n",
       "      <td>0</td>\n",
       "      <td>113803</td>\n",
       "      <td>53.1000</td>\n",
       "      <td>C123</td>\n",
       "      <td>S</td>\n",
       "    </tr>\n",
       "    <tr>\n",
       "      <th>4</th>\n",
       "      <td>5</td>\n",
       "      <td>0</td>\n",
       "      <td>3</td>\n",
       "      <td>Allen, Mr. William Henry</td>\n",
       "      <td>male</td>\n",
       "      <td>35.0</td>\n",
       "      <td>0</td>\n",
       "      <td>0</td>\n",
       "      <td>373450</td>\n",
       "      <td>8.0500</td>\n",
       "      <td>NaN</td>\n",
       "      <td>S</td>\n",
       "    </tr>\n",
       "  </tbody>\n",
       "</table>\n",
       "</div>"
      ],
      "text/plain": [
       "   PassengerId  Survived  Pclass  \\\n",
       "0            1         0       3   \n",
       "1            2         1       1   \n",
       "2            3         1       3   \n",
       "3            4         1       1   \n",
       "4            5         0       3   \n",
       "\n",
       "                                                Name     Sex   Age  SibSp  \\\n",
       "0                            Braund, Mr. Owen Harris    male  22.0      1   \n",
       "1  Cumings, Mrs. John Bradley (Florence Briggs Th...  female  38.0      1   \n",
       "2                             Heikkinen, Miss. Laina  female  26.0      0   \n",
       "3       Futrelle, Mrs. Jacques Heath (Lily May Peel)  female  35.0      1   \n",
       "4                           Allen, Mr. William Henry    male  35.0      0   \n",
       "\n",
       "   Parch            Ticket     Fare Cabin Embarked  \n",
       "0      0         A/5 21171   7.2500   NaN        S  \n",
       "1      0          PC 17599  71.2833   C85        C  \n",
       "2      0  STON/O2. 3101282   7.9250   NaN        S  \n",
       "3      0            113803  53.1000  C123        S  \n",
       "4      0            373450   8.0500   NaN        S  "
      ]
     },
     "execution_count": 2,
     "metadata": {},
     "output_type": "execute_result"
    }
   ],
   "source": [
    "import pandas as pd\n",
    "import numpy as np\n",
    "\n",
    "# train.csv 읽어 df에 저장\n",
    "df = pd.read_csv('train.csv')\n",
    "# 5개 출력\n",
    "df.head()"
   ]
  },
  {
   "cell_type": "code",
   "execution_count": 6,
   "id": "b6783fbc",
   "metadata": {},
   "outputs": [
    {
     "data": {
      "text/html": [
       "<div>\n",
       "<style scoped>\n",
       "    .dataframe tbody tr th:only-of-type {\n",
       "        vertical-align: middle;\n",
       "    }\n",
       "\n",
       "    .dataframe tbody tr th {\n",
       "        vertical-align: top;\n",
       "    }\n",
       "\n",
       "    .dataframe thead th {\n",
       "        text-align: right;\n",
       "    }\n",
       "</style>\n",
       "<table border=\"1\" class=\"dataframe\">\n",
       "  <thead>\n",
       "    <tr style=\"text-align: right;\">\n",
       "      <th></th>\n",
       "      <th>Pclass</th>\n",
       "      <th>Sex</th>\n",
       "      <th>Embarked</th>\n",
       "    </tr>\n",
       "  </thead>\n",
       "  <tbody>\n",
       "    <tr>\n",
       "      <th>0</th>\n",
       "      <td>3</td>\n",
       "      <td>male</td>\n",
       "      <td>S</td>\n",
       "    </tr>\n",
       "    <tr>\n",
       "      <th>1</th>\n",
       "      <td>1</td>\n",
       "      <td>female</td>\n",
       "      <td>C</td>\n",
       "    </tr>\n",
       "    <tr>\n",
       "      <th>2</th>\n",
       "      <td>3</td>\n",
       "      <td>female</td>\n",
       "      <td>S</td>\n",
       "    </tr>\n",
       "    <tr>\n",
       "      <th>3</th>\n",
       "      <td>1</td>\n",
       "      <td>female</td>\n",
       "      <td>S</td>\n",
       "    </tr>\n",
       "    <tr>\n",
       "      <th>4</th>\n",
       "      <td>3</td>\n",
       "      <td>male</td>\n",
       "      <td>S</td>\n",
       "    </tr>\n",
       "  </tbody>\n",
       "</table>\n",
       "</div>"
      ],
      "text/plain": [
       "   Pclass     Sex Embarked\n",
       "0       3    male        S\n",
       "1       1  female        C\n",
       "2       3  female        S\n",
       "3       1  female        S\n",
       "4       3    male        S"
      ]
     },
     "execution_count": 6,
     "metadata": {},
     "output_type": "execute_result"
    }
   ],
   "source": [
    "# Pclass Sex Embarked 만 추출해서 5개 출력\n",
    "df[['Pclass', 'Sex', 'Embarked']].head()"
   ]
  },
  {
   "cell_type": "code",
   "execution_count": 9,
   "id": "d26ace46",
   "metadata": {},
   "outputs": [
    {
     "data": {
      "text/html": [
       "<div>\n",
       "<style scoped>\n",
       "    .dataframe tbody tr th:only-of-type {\n",
       "        vertical-align: middle;\n",
       "    }\n",
       "\n",
       "    .dataframe tbody tr th {\n",
       "        vertical-align: top;\n",
       "    }\n",
       "\n",
       "    .dataframe thead th {\n",
       "        text-align: right;\n",
       "    }\n",
       "</style>\n",
       "<table border=\"1\" class=\"dataframe\">\n",
       "  <thead>\n",
       "    <tr style=\"text-align: right;\">\n",
       "      <th></th>\n",
       "      <th>PassengerId</th>\n",
       "      <th>Pclass</th>\n",
       "      <th>Name</th>\n",
       "      <th>Sex</th>\n",
       "      <th>Age</th>\n",
       "      <th>SibSp</th>\n",
       "      <th>Parch</th>\n",
       "      <th>Ticket</th>\n",
       "      <th>Fare</th>\n",
       "      <th>Cabin</th>\n",
       "      <th>Embarked</th>\n",
       "    </tr>\n",
       "  </thead>\n",
       "  <tbody>\n",
       "    <tr>\n",
       "      <th>0</th>\n",
       "      <td>892</td>\n",
       "      <td>3</td>\n",
       "      <td>Kelly, Mr. James</td>\n",
       "      <td>male</td>\n",
       "      <td>34.5</td>\n",
       "      <td>0</td>\n",
       "      <td>0</td>\n",
       "      <td>330911</td>\n",
       "      <td>7.8292</td>\n",
       "      <td>NaN</td>\n",
       "      <td>Q</td>\n",
       "    </tr>\n",
       "    <tr>\n",
       "      <th>1</th>\n",
       "      <td>893</td>\n",
       "      <td>3</td>\n",
       "      <td>Wilkes, Mrs. James (Ellen Needs)</td>\n",
       "      <td>female</td>\n",
       "      <td>47.0</td>\n",
       "      <td>1</td>\n",
       "      <td>0</td>\n",
       "      <td>363272</td>\n",
       "      <td>7.0000</td>\n",
       "      <td>NaN</td>\n",
       "      <td>S</td>\n",
       "    </tr>\n",
       "    <tr>\n",
       "      <th>2</th>\n",
       "      <td>894</td>\n",
       "      <td>2</td>\n",
       "      <td>Myles, Mr. Thomas Francis</td>\n",
       "      <td>male</td>\n",
       "      <td>62.0</td>\n",
       "      <td>0</td>\n",
       "      <td>0</td>\n",
       "      <td>240276</td>\n",
       "      <td>9.6875</td>\n",
       "      <td>NaN</td>\n",
       "      <td>Q</td>\n",
       "    </tr>\n",
       "    <tr>\n",
       "      <th>3</th>\n",
       "      <td>895</td>\n",
       "      <td>3</td>\n",
       "      <td>Wirz, Mr. Albert</td>\n",
       "      <td>male</td>\n",
       "      <td>27.0</td>\n",
       "      <td>0</td>\n",
       "      <td>0</td>\n",
       "      <td>315154</td>\n",
       "      <td>8.6625</td>\n",
       "      <td>NaN</td>\n",
       "      <td>S</td>\n",
       "    </tr>\n",
       "    <tr>\n",
       "      <th>4</th>\n",
       "      <td>896</td>\n",
       "      <td>3</td>\n",
       "      <td>Hirvonen, Mrs. Alexander (Helga E Lindqvist)</td>\n",
       "      <td>female</td>\n",
       "      <td>22.0</td>\n",
       "      <td>1</td>\n",
       "      <td>1</td>\n",
       "      <td>3101298</td>\n",
       "      <td>12.2875</td>\n",
       "      <td>NaN</td>\n",
       "      <td>S</td>\n",
       "    </tr>\n",
       "  </tbody>\n",
       "</table>\n",
       "</div>"
      ],
      "text/plain": [
       "   PassengerId  Pclass                                          Name     Sex  \\\n",
       "0          892       3                              Kelly, Mr. James    male   \n",
       "1          893       3              Wilkes, Mrs. James (Ellen Needs)  female   \n",
       "2          894       2                     Myles, Mr. Thomas Francis    male   \n",
       "3          895       3                              Wirz, Mr. Albert    male   \n",
       "4          896       3  Hirvonen, Mrs. Alexander (Helga E Lindqvist)  female   \n",
       "\n",
       "    Age  SibSp  Parch   Ticket     Fare Cabin Embarked  \n",
       "0  34.5      0      0   330911   7.8292   NaN        Q  \n",
       "1  47.0      1      0   363272   7.0000   NaN        S  \n",
       "2  62.0      0      0   240276   9.6875   NaN        Q  \n",
       "3  27.0      0      0   315154   8.6625   NaN        S  \n",
       "4  22.0      1      1  3101298  12.2875   NaN        S  "
      ]
     },
     "execution_count": 9,
     "metadata": {},
     "output_type": "execute_result"
    }
   ],
   "source": [
    "# train.csv 읽어 test_df에 저장\n",
    "test_df = pd.read_csv('test.csv')\n",
    "# 5개 출력\n",
    "test_df.head()"
   ]
  },
  {
   "cell_type": "code",
   "execution_count": 18,
   "id": "b0659b0b",
   "metadata": {},
   "outputs": [
    {
     "data": {
      "text/plain": [
       "0      22.0\n",
       "1      38.0\n",
       "2      26.0\n",
       "3      35.0\n",
       "4      35.0\n",
       "       ... \n",
       "886    27.0\n",
       "887    19.0\n",
       "888    28.0\n",
       "889    26.0\n",
       "890    32.0\n",
       "Name: Age, Length: 891, dtype: float64"
      ]
     },
     "execution_count": 18,
     "metadata": {},
     "output_type": "execute_result"
    }
   ],
   "source": [
    "df['Age']"
   ]
  },
  {
   "cell_type": "code",
   "execution_count": 25,
   "id": "0759eda8",
   "metadata": {},
   "outputs": [
    {
     "data": {
      "text/plain": [
       "PassengerId      0\n",
       "Survived         0\n",
       "Pclass           0\n",
       "Name             0\n",
       "Sex              0\n",
       "Age              0\n",
       "SibSp            0\n",
       "Parch            0\n",
       "Ticket           0\n",
       "Fare             0\n",
       "Cabin          687\n",
       "Embarked         2\n",
       "dtype: int64"
      ]
     },
     "execution_count": 25,
     "metadata": {},
     "output_type": "execute_result"
    }
   ],
   "source": [
    "df.isnull().sum()"
   ]
  },
  {
   "cell_type": "code",
   "execution_count": 15,
   "id": "fe76d6f8",
   "metadata": {},
   "outputs": [],
   "source": [
    "df['Age']=df['Age'].fillna(df['Age'].mean())"
   ]
  },
  {
   "cell_type": "code",
   "execution_count": 24,
   "id": "cde7bdb7",
   "metadata": {},
   "outputs": [
    {
     "data": {
      "text/plain": [
       "PassengerId      0\n",
       "Pclass           0\n",
       "Name             0\n",
       "Sex              0\n",
       "Age              0\n",
       "SibSp            0\n",
       "Parch            0\n",
       "Ticket           0\n",
       "Fare             0\n",
       "Cabin          327\n",
       "Embarked         0\n",
       "dtype: int64"
      ]
     },
     "execution_count": 24,
     "metadata": {},
     "output_type": "execute_result"
    }
   ],
   "source": [
    "test_df.isnull().sum()"
   ]
  },
  {
   "cell_type": "code",
   "execution_count": 20,
   "id": "ee09d471",
   "metadata": {},
   "outputs": [],
   "source": [
    "# test 셋도 적용\n",
    "test_df['Age']=test_df['Age'].fillna(test_df['Age'].mean())"
   ]
  },
  {
   "cell_type": "code",
   "execution_count": 23,
   "id": "35ee9f0c",
   "metadata": {},
   "outputs": [],
   "source": [
    "# Fare 빈칸을 평균으로 대체\n",
    "df['Fare']=df['Fare'].fillna(df['Fare'].mean())\n",
    "test_df['Fare']=test_df['Fare'].fillna(test_df['Fare'].mean())"
   ]
  },
  {
   "cell_type": "code",
   "execution_count": 27,
   "id": "f4368987",
   "metadata": {},
   "outputs": [
    {
     "data": {
      "text/html": [
       "<div>\n",
       "<style scoped>\n",
       "    .dataframe tbody tr th:only-of-type {\n",
       "        vertical-align: middle;\n",
       "    }\n",
       "\n",
       "    .dataframe tbody tr th {\n",
       "        vertical-align: top;\n",
       "    }\n",
       "\n",
       "    .dataframe thead th {\n",
       "        text-align: right;\n",
       "    }\n",
       "</style>\n",
       "<table border=\"1\" class=\"dataframe\">\n",
       "  <thead>\n",
       "    <tr style=\"text-align: right;\">\n",
       "      <th></th>\n",
       "      <th>PassengerId</th>\n",
       "      <th>Survived</th>\n",
       "      <th>Pclass</th>\n",
       "      <th>Name</th>\n",
       "      <th>Sex</th>\n",
       "      <th>Age</th>\n",
       "      <th>SibSp</th>\n",
       "      <th>Parch</th>\n",
       "      <th>Ticket</th>\n",
       "      <th>Fare</th>\n",
       "      <th>Cabin</th>\n",
       "      <th>Embarked</th>\n",
       "      <th>FamilySize</th>\n",
       "    </tr>\n",
       "  </thead>\n",
       "  <tbody>\n",
       "    <tr>\n",
       "      <th>0</th>\n",
       "      <td>1</td>\n",
       "      <td>0</td>\n",
       "      <td>3</td>\n",
       "      <td>Braund, Mr. Owen Harris</td>\n",
       "      <td>male</td>\n",
       "      <td>22.0</td>\n",
       "      <td>1</td>\n",
       "      <td>0</td>\n",
       "      <td>A/5 21171</td>\n",
       "      <td>7.2500</td>\n",
       "      <td>NaN</td>\n",
       "      <td>S</td>\n",
       "      <td>1</td>\n",
       "    </tr>\n",
       "    <tr>\n",
       "      <th>1</th>\n",
       "      <td>2</td>\n",
       "      <td>1</td>\n",
       "      <td>1</td>\n",
       "      <td>Cumings, Mrs. John Bradley (Florence Briggs Th...</td>\n",
       "      <td>female</td>\n",
       "      <td>38.0</td>\n",
       "      <td>1</td>\n",
       "      <td>0</td>\n",
       "      <td>PC 17599</td>\n",
       "      <td>71.2833</td>\n",
       "      <td>C85</td>\n",
       "      <td>C</td>\n",
       "      <td>1</td>\n",
       "    </tr>\n",
       "    <tr>\n",
       "      <th>2</th>\n",
       "      <td>3</td>\n",
       "      <td>1</td>\n",
       "      <td>3</td>\n",
       "      <td>Heikkinen, Miss. Laina</td>\n",
       "      <td>female</td>\n",
       "      <td>26.0</td>\n",
       "      <td>0</td>\n",
       "      <td>0</td>\n",
       "      <td>STON/O2. 3101282</td>\n",
       "      <td>7.9250</td>\n",
       "      <td>NaN</td>\n",
       "      <td>S</td>\n",
       "      <td>0</td>\n",
       "    </tr>\n",
       "    <tr>\n",
       "      <th>3</th>\n",
       "      <td>4</td>\n",
       "      <td>1</td>\n",
       "      <td>1</td>\n",
       "      <td>Futrelle, Mrs. Jacques Heath (Lily May Peel)</td>\n",
       "      <td>female</td>\n",
       "      <td>35.0</td>\n",
       "      <td>1</td>\n",
       "      <td>0</td>\n",
       "      <td>113803</td>\n",
       "      <td>53.1000</td>\n",
       "      <td>C123</td>\n",
       "      <td>S</td>\n",
       "      <td>1</td>\n",
       "    </tr>\n",
       "    <tr>\n",
       "      <th>4</th>\n",
       "      <td>5</td>\n",
       "      <td>0</td>\n",
       "      <td>3</td>\n",
       "      <td>Allen, Mr. William Henry</td>\n",
       "      <td>male</td>\n",
       "      <td>35.0</td>\n",
       "      <td>0</td>\n",
       "      <td>0</td>\n",
       "      <td>373450</td>\n",
       "      <td>8.0500</td>\n",
       "      <td>NaN</td>\n",
       "      <td>S</td>\n",
       "      <td>0</td>\n",
       "    </tr>\n",
       "  </tbody>\n",
       "</table>\n",
       "</div>"
      ],
      "text/plain": [
       "   PassengerId  Survived  Pclass  \\\n",
       "0            1         0       3   \n",
       "1            2         1       1   \n",
       "2            3         1       3   \n",
       "3            4         1       1   \n",
       "4            5         0       3   \n",
       "\n",
       "                                                Name     Sex   Age  SibSp  \\\n",
       "0                            Braund, Mr. Owen Harris    male  22.0      1   \n",
       "1  Cumings, Mrs. John Bradley (Florence Briggs Th...  female  38.0      1   \n",
       "2                             Heikkinen, Miss. Laina  female  26.0      0   \n",
       "3       Futrelle, Mrs. Jacques Heath (Lily May Peel)  female  35.0      1   \n",
       "4                           Allen, Mr. William Henry    male  35.0      0   \n",
       "\n",
       "   Parch            Ticket     Fare Cabin Embarked  FamilySize  \n",
       "0      0         A/5 21171   7.2500   NaN        S           1  \n",
       "1      0          PC 17599  71.2833   C85        C           1  \n",
       "2      0  STON/O2. 3101282   7.9250   NaN        S           0  \n",
       "3      0            113803  53.1000  C123        S           1  \n",
       "4      0            373450   8.0500   NaN        S           0  "
      ]
     },
     "execution_count": 27,
     "metadata": {},
     "output_type": "execute_result"
    }
   ],
   "source": [
    "# SibSp와 Parch를 더하여 FamilySize 생성\n",
    "df['FamilySize'] = df['SibSp']+df['Parch']\n",
    "df.head()"
   ]
  },
  {
   "cell_type": "code",
   "execution_count": 28,
   "id": "d5867d78",
   "metadata": {},
   "outputs": [
    {
     "data": {
      "text/html": [
       "<div>\n",
       "<style scoped>\n",
       "    .dataframe tbody tr th:only-of-type {\n",
       "        vertical-align: middle;\n",
       "    }\n",
       "\n",
       "    .dataframe tbody tr th {\n",
       "        vertical-align: top;\n",
       "    }\n",
       "\n",
       "    .dataframe thead th {\n",
       "        text-align: right;\n",
       "    }\n",
       "</style>\n",
       "<table border=\"1\" class=\"dataframe\">\n",
       "  <thead>\n",
       "    <tr style=\"text-align: right;\">\n",
       "      <th></th>\n",
       "      <th>PassengerId</th>\n",
       "      <th>Pclass</th>\n",
       "      <th>Name</th>\n",
       "      <th>Sex</th>\n",
       "      <th>Age</th>\n",
       "      <th>SibSp</th>\n",
       "      <th>Parch</th>\n",
       "      <th>Ticket</th>\n",
       "      <th>Fare</th>\n",
       "      <th>Cabin</th>\n",
       "      <th>Embarked</th>\n",
       "      <th>FamilySize</th>\n",
       "    </tr>\n",
       "  </thead>\n",
       "  <tbody>\n",
       "    <tr>\n",
       "      <th>0</th>\n",
       "      <td>892</td>\n",
       "      <td>3</td>\n",
       "      <td>Kelly, Mr. James</td>\n",
       "      <td>male</td>\n",
       "      <td>34.5</td>\n",
       "      <td>0</td>\n",
       "      <td>0</td>\n",
       "      <td>330911</td>\n",
       "      <td>7.8292</td>\n",
       "      <td>NaN</td>\n",
       "      <td>Q</td>\n",
       "      <td>0</td>\n",
       "    </tr>\n",
       "    <tr>\n",
       "      <th>1</th>\n",
       "      <td>893</td>\n",
       "      <td>3</td>\n",
       "      <td>Wilkes, Mrs. James (Ellen Needs)</td>\n",
       "      <td>female</td>\n",
       "      <td>47.0</td>\n",
       "      <td>1</td>\n",
       "      <td>0</td>\n",
       "      <td>363272</td>\n",
       "      <td>7.0000</td>\n",
       "      <td>NaN</td>\n",
       "      <td>S</td>\n",
       "      <td>1</td>\n",
       "    </tr>\n",
       "    <tr>\n",
       "      <th>2</th>\n",
       "      <td>894</td>\n",
       "      <td>2</td>\n",
       "      <td>Myles, Mr. Thomas Francis</td>\n",
       "      <td>male</td>\n",
       "      <td>62.0</td>\n",
       "      <td>0</td>\n",
       "      <td>0</td>\n",
       "      <td>240276</td>\n",
       "      <td>9.6875</td>\n",
       "      <td>NaN</td>\n",
       "      <td>Q</td>\n",
       "      <td>0</td>\n",
       "    </tr>\n",
       "    <tr>\n",
       "      <th>3</th>\n",
       "      <td>895</td>\n",
       "      <td>3</td>\n",
       "      <td>Wirz, Mr. Albert</td>\n",
       "      <td>male</td>\n",
       "      <td>27.0</td>\n",
       "      <td>0</td>\n",
       "      <td>0</td>\n",
       "      <td>315154</td>\n",
       "      <td>8.6625</td>\n",
       "      <td>NaN</td>\n",
       "      <td>S</td>\n",
       "      <td>0</td>\n",
       "    </tr>\n",
       "    <tr>\n",
       "      <th>4</th>\n",
       "      <td>896</td>\n",
       "      <td>3</td>\n",
       "      <td>Hirvonen, Mrs. Alexander (Helga E Lindqvist)</td>\n",
       "      <td>female</td>\n",
       "      <td>22.0</td>\n",
       "      <td>1</td>\n",
       "      <td>1</td>\n",
       "      <td>3101298</td>\n",
       "      <td>12.2875</td>\n",
       "      <td>NaN</td>\n",
       "      <td>S</td>\n",
       "      <td>2</td>\n",
       "    </tr>\n",
       "  </tbody>\n",
       "</table>\n",
       "</div>"
      ],
      "text/plain": [
       "   PassengerId  Pclass                                          Name     Sex  \\\n",
       "0          892       3                              Kelly, Mr. James    male   \n",
       "1          893       3              Wilkes, Mrs. James (Ellen Needs)  female   \n",
       "2          894       2                     Myles, Mr. Thomas Francis    male   \n",
       "3          895       3                              Wirz, Mr. Albert    male   \n",
       "4          896       3  Hirvonen, Mrs. Alexander (Helga E Lindqvist)  female   \n",
       "\n",
       "    Age  SibSp  Parch   Ticket     Fare Cabin Embarked  FamilySize  \n",
       "0  34.5      0      0   330911   7.8292   NaN        Q           0  \n",
       "1  47.0      1      0   363272   7.0000   NaN        S           1  \n",
       "2  62.0      0      0   240276   9.6875   NaN        Q           0  \n",
       "3  27.0      0      0   315154   8.6625   NaN        S           0  \n",
       "4  22.0      1      1  3101298  12.2875   NaN        S           2  "
      ]
     },
     "execution_count": 28,
     "metadata": {},
     "output_type": "execute_result"
    }
   ],
   "source": [
    "test_df['FamilySize'] = test_df['SibSp']+test_df['Parch']\n",
    "test_df.head()"
   ]
  },
  {
   "cell_type": "code",
   "execution_count": 35,
   "id": "9789cc18",
   "metadata": {},
   "outputs": [
    {
     "data": {
      "text/plain": [
       "0      C\n",
       "1      C\n",
       "2      C\n",
       "3      C\n",
       "4      C\n",
       "      ..\n",
       "886    C\n",
       "887    B\n",
       "888    C\n",
       "889    C\n",
       "890    C\n",
       "Name: Cabin, Length: 891, dtype: object"
      ]
     },
     "execution_count": 35,
     "metadata": {},
     "output_type": "execute_result"
    }
   ],
   "source": [
    "df['Cabin']"
   ]
  },
  {
   "cell_type": "code",
   "execution_count": 31,
   "id": "e236d12a",
   "metadata": {},
   "outputs": [
    {
     "data": {
      "text/plain": [
       "C    59\n",
       "B    47\n",
       "D    33\n",
       "E    32\n",
       "A    15\n",
       "F    13\n",
       "G     4\n",
       "T     1\n",
       "Name: Cabin, dtype: int64"
      ]
     },
     "execution_count": 31,
     "metadata": {},
     "output_type": "execute_result"
    }
   ],
   "source": [
    "# Cabin(객실) 정보에서 번호만 삭제하고 알파벳만 남기기\n",
    "df['Cabin']= df['Cabin'].str[0]\n",
    "df['Cabin'].value_counts()"
   ]
  },
  {
   "cell_type": "code",
   "execution_count": 34,
   "id": "00abf352",
   "metadata": {},
   "outputs": [],
   "source": [
    "df['Cabin']=df['Cabin'].fillna('C')"
   ]
  },
  {
   "cell_type": "code",
   "execution_count": 37,
   "id": "771551cb",
   "metadata": {},
   "outputs": [
    {
     "data": {
      "text/plain": [
       "C    35\n",
       "B    18\n",
       "D    13\n",
       "E     9\n",
       "F     8\n",
       "A     7\n",
       "G     1\n",
       "Name: Cabin, dtype: int64"
      ]
     },
     "execution_count": 37,
     "metadata": {},
     "output_type": "execute_result"
    }
   ],
   "source": [
    "# test 적용\n",
    "test_df['Cabin']= test_df['Cabin'].str[0]\n",
    "test_df['Cabin'].value_counts()"
   ]
  },
  {
   "cell_type": "code",
   "execution_count": 38,
   "id": "1115b320",
   "metadata": {},
   "outputs": [],
   "source": [
    "test_df['Cabin']=test_df['Cabin'].fillna('C')"
   ]
  },
  {
   "cell_type": "code",
   "execution_count": 46,
   "id": "7fbe7b99",
   "metadata": {},
   "outputs": [
    {
     "data": {
      "text/plain": [
       "PassengerId    0\n",
       "Survived       0\n",
       "Pclass         0\n",
       "Name           0\n",
       "Sex            0\n",
       "Age            0\n",
       "SibSp          0\n",
       "Parch          0\n",
       "Ticket         0\n",
       "Fare           0\n",
       "Cabin          0\n",
       "Embarked       0\n",
       "FamilySize     0\n",
       "dtype: int64"
      ]
     },
     "execution_count": 46,
     "metadata": {},
     "output_type": "execute_result"
    }
   ],
   "source": [
    "df.isnull().sum()"
   ]
  },
  {
   "cell_type": "code",
   "execution_count": 45,
   "id": "1bd661de",
   "metadata": {},
   "outputs": [
    {
     "data": {
      "text/plain": [
       "PassengerId    0\n",
       "Pclass         0\n",
       "Name           0\n",
       "Sex            0\n",
       "Age            0\n",
       "SibSp          0\n",
       "Parch          0\n",
       "Ticket         0\n",
       "Fare           0\n",
       "Cabin          0\n",
       "Embarked       0\n",
       "FamilySize     0\n",
       "dtype: int64"
      ]
     },
     "execution_count": 45,
     "metadata": {},
     "output_type": "execute_result"
    }
   ],
   "source": [
    "test_df.isnull().sum()"
   ]
  },
  {
   "cell_type": "code",
   "execution_count": 42,
   "id": "b98e2fb3",
   "metadata": {},
   "outputs": [
    {
     "data": {
      "text/plain": [
       "S    644\n",
       "C    168\n",
       "Q     77\n",
       "Name: Embarked, dtype: int64"
      ]
     },
     "execution_count": 42,
     "metadata": {},
     "output_type": "execute_result"
    }
   ],
   "source": [
    "df['Embarked'].value_counts()"
   ]
  },
  {
   "cell_type": "code",
   "execution_count": 43,
   "id": "3ae52d45",
   "metadata": {},
   "outputs": [],
   "source": [
    "df['Embarked'] = df['Embarked'].fillna('S')"
   ]
  },
  {
   "cell_type": "code",
   "execution_count": 44,
   "id": "85266958",
   "metadata": {},
   "outputs": [],
   "source": [
    "test_df['Embarked'] = test_df['Embarked'].fillna('S')"
   ]
  },
  {
   "cell_type": "code",
   "execution_count": 47,
   "id": "d1bb682f",
   "metadata": {},
   "outputs": [
    {
     "data": {
      "text/plain": [
       "0      C\n",
       "1      C\n",
       "2      C\n",
       "3      C\n",
       "4      C\n",
       "      ..\n",
       "886    C\n",
       "887    B\n",
       "888    C\n",
       "889    C\n",
       "890    C\n",
       "Name: Cabin, Length: 891, dtype: object"
      ]
     },
     "execution_count": 47,
     "metadata": {},
     "output_type": "execute_result"
    }
   ],
   "source": [
    "df['Cabin']"
   ]
  },
  {
   "cell_type": "code",
   "execution_count": 50,
   "id": "f33b41ed",
   "metadata": {},
   "outputs": [],
   "source": [
    "# 문자를 숫자로 변환 ( C==>0 / B==>1 / D==>2 / E==>3 )\n",
    "# df.loc[df['Cabin']=='C','Cabin']=0\n",
    "# df.loc[df['Cabin']=='B','Cabin']=1\n",
    "\n",
    "df['Cabin'] = df['Cabin'].map({\n",
    "    'C' :0,\n",
    "    'B' :1,\n",
    "    'D' : 2,\n",
    "    'E' : 3,\n",
    "    'A' : 4,\n",
    "    'F' : 5,\n",
    "    'G' : 6,\n",
    "    'T' : 7,\n",
    "})"
   ]
  },
  {
   "cell_type": "code",
   "execution_count": 51,
   "id": "c3f7f20f",
   "metadata": {},
   "outputs": [
    {
     "data": {
      "text/plain": [
       "0    746\n",
       "1     47\n",
       "2     33\n",
       "3     32\n",
       "4     15\n",
       "5     13\n",
       "6      4\n",
       "7      1\n",
       "Name: Cabin, dtype: int64"
      ]
     },
     "execution_count": 51,
     "metadata": {},
     "output_type": "execute_result"
    }
   ],
   "source": [
    "df['Cabin'].value_counts()"
   ]
  },
  {
   "cell_type": "code",
   "execution_count": 52,
   "id": "89c2a9a0",
   "metadata": {},
   "outputs": [],
   "source": [
    "test_df['Cabin'] = test_df['Cabin'].map({\n",
    "    'C' : 0,\n",
    "    'B' : 1,\n",
    "    'D' : 2,\n",
    "    'E' : 3,\n",
    "    'A' : 4,\n",
    "    'F' : 5,\n",
    "    'G' : 6,\n",
    "    'T' : 7,\n",
    "})"
   ]
  },
  {
   "cell_type": "code",
   "execution_count": 54,
   "id": "b8d950e6",
   "metadata": {},
   "outputs": [
    {
     "data": {
      "text/plain": [
       "0    362\n",
       "1     18\n",
       "2     13\n",
       "3      9\n",
       "5      8\n",
       "4      7\n",
       "6      1\n",
       "Name: Cabin, dtype: int64"
      ]
     },
     "execution_count": 54,
     "metadata": {},
     "output_type": "execute_result"
    }
   ],
   "source": [
    "test_df['Cabin'].value_counts()"
   ]
  },
  {
   "cell_type": "code",
   "execution_count": 55,
   "id": "e4be0082",
   "metadata": {},
   "outputs": [
    {
     "data": {
      "text/html": [
       "<div>\n",
       "<style scoped>\n",
       "    .dataframe tbody tr th:only-of-type {\n",
       "        vertical-align: middle;\n",
       "    }\n",
       "\n",
       "    .dataframe tbody tr th {\n",
       "        vertical-align: top;\n",
       "    }\n",
       "\n",
       "    .dataframe thead th {\n",
       "        text-align: right;\n",
       "    }\n",
       "</style>\n",
       "<table border=\"1\" class=\"dataframe\">\n",
       "  <thead>\n",
       "    <tr style=\"text-align: right;\">\n",
       "      <th></th>\n",
       "      <th>PassengerId</th>\n",
       "      <th>Survived</th>\n",
       "      <th>Pclass</th>\n",
       "      <th>Name</th>\n",
       "      <th>Sex</th>\n",
       "      <th>Age</th>\n",
       "      <th>SibSp</th>\n",
       "      <th>Parch</th>\n",
       "      <th>Ticket</th>\n",
       "      <th>Fare</th>\n",
       "      <th>Cabin</th>\n",
       "      <th>Embarked</th>\n",
       "      <th>FamilySize</th>\n",
       "    </tr>\n",
       "  </thead>\n",
       "  <tbody>\n",
       "    <tr>\n",
       "      <th>0</th>\n",
       "      <td>1</td>\n",
       "      <td>0</td>\n",
       "      <td>3</td>\n",
       "      <td>Braund, Mr. Owen Harris</td>\n",
       "      <td>male</td>\n",
       "      <td>22.0</td>\n",
       "      <td>1</td>\n",
       "      <td>0</td>\n",
       "      <td>A/5 21171</td>\n",
       "      <td>7.2500</td>\n",
       "      <td>0</td>\n",
       "      <td>S</td>\n",
       "      <td>1</td>\n",
       "    </tr>\n",
       "    <tr>\n",
       "      <th>1</th>\n",
       "      <td>2</td>\n",
       "      <td>1</td>\n",
       "      <td>1</td>\n",
       "      <td>Cumings, Mrs. John Bradley (Florence Briggs Th...</td>\n",
       "      <td>female</td>\n",
       "      <td>38.0</td>\n",
       "      <td>1</td>\n",
       "      <td>0</td>\n",
       "      <td>PC 17599</td>\n",
       "      <td>71.2833</td>\n",
       "      <td>0</td>\n",
       "      <td>C</td>\n",
       "      <td>1</td>\n",
       "    </tr>\n",
       "    <tr>\n",
       "      <th>2</th>\n",
       "      <td>3</td>\n",
       "      <td>1</td>\n",
       "      <td>3</td>\n",
       "      <td>Heikkinen, Miss. Laina</td>\n",
       "      <td>female</td>\n",
       "      <td>26.0</td>\n",
       "      <td>0</td>\n",
       "      <td>0</td>\n",
       "      <td>STON/O2. 3101282</td>\n",
       "      <td>7.9250</td>\n",
       "      <td>0</td>\n",
       "      <td>S</td>\n",
       "      <td>0</td>\n",
       "    </tr>\n",
       "    <tr>\n",
       "      <th>3</th>\n",
       "      <td>4</td>\n",
       "      <td>1</td>\n",
       "      <td>1</td>\n",
       "      <td>Futrelle, Mrs. Jacques Heath (Lily May Peel)</td>\n",
       "      <td>female</td>\n",
       "      <td>35.0</td>\n",
       "      <td>1</td>\n",
       "      <td>0</td>\n",
       "      <td>113803</td>\n",
       "      <td>53.1000</td>\n",
       "      <td>0</td>\n",
       "      <td>S</td>\n",
       "      <td>1</td>\n",
       "    </tr>\n",
       "    <tr>\n",
       "      <th>4</th>\n",
       "      <td>5</td>\n",
       "      <td>0</td>\n",
       "      <td>3</td>\n",
       "      <td>Allen, Mr. William Henry</td>\n",
       "      <td>male</td>\n",
       "      <td>35.0</td>\n",
       "      <td>0</td>\n",
       "      <td>0</td>\n",
       "      <td>373450</td>\n",
       "      <td>8.0500</td>\n",
       "      <td>0</td>\n",
       "      <td>S</td>\n",
       "      <td>0</td>\n",
       "    </tr>\n",
       "  </tbody>\n",
       "</table>\n",
       "</div>"
      ],
      "text/plain": [
       "   PassengerId  Survived  Pclass  \\\n",
       "0            1         0       3   \n",
       "1            2         1       1   \n",
       "2            3         1       3   \n",
       "3            4         1       1   \n",
       "4            5         0       3   \n",
       "\n",
       "                                                Name     Sex   Age  SibSp  \\\n",
       "0                            Braund, Mr. Owen Harris    male  22.0      1   \n",
       "1  Cumings, Mrs. John Bradley (Florence Briggs Th...  female  38.0      1   \n",
       "2                             Heikkinen, Miss. Laina  female  26.0      0   \n",
       "3       Futrelle, Mrs. Jacques Heath (Lily May Peel)  female  35.0      1   \n",
       "4                           Allen, Mr. William Henry    male  35.0      0   \n",
       "\n",
       "   Parch            Ticket     Fare  Cabin Embarked  FamilySize  \n",
       "0      0         A/5 21171   7.2500      0        S           1  \n",
       "1      0          PC 17599  71.2833      0        C           1  \n",
       "2      0  STON/O2. 3101282   7.9250      0        S           0  \n",
       "3      0            113803  53.1000      0        S           1  \n",
       "4      0            373450   8.0500      0        S           0  "
      ]
     },
     "execution_count": 55,
     "metadata": {},
     "output_type": "execute_result"
    }
   ],
   "source": [
    "df.head()"
   ]
  },
  {
   "cell_type": "code",
   "execution_count": 59,
   "id": "60448397",
   "metadata": {},
   "outputs": [
    {
     "data": {
      "text/plain": [
       "0    646\n",
       "1    168\n",
       "2     77\n",
       "Name: Embarked, dtype: int64"
      ]
     },
     "execution_count": 59,
     "metadata": {},
     "output_type": "execute_result"
    }
   ],
   "source": [
    "df['Embarked'].value_counts()"
   ]
  },
  {
   "cell_type": "code",
   "execution_count": 64,
   "id": "f4c0458e",
   "metadata": {},
   "outputs": [
    {
     "data": {
      "text/plain": [
       "0    270\n",
       "1    102\n",
       "2     46\n",
       "Name: Embarked, dtype: int64"
      ]
     },
     "execution_count": 64,
     "metadata": {},
     "output_type": "execute_result"
    }
   ],
   "source": [
    "test_df['Embarked'].value_counts()"
   ]
  },
  {
   "cell_type": "code",
   "execution_count": 57,
   "id": "9a36334b",
   "metadata": {},
   "outputs": [],
   "source": [
    "df['Embarked'] = df['Embarked'].map({\n",
    "    'S' : 0,\n",
    "    'C' : 1,\n",
    "    'Q' : 2,\n",
    "})"
   ]
  },
  {
   "cell_type": "code",
   "execution_count": 58,
   "id": "cbb4351c",
   "metadata": {},
   "outputs": [],
   "source": [
    "test_df['Embarked'] = test_df['Embarked'].map({\n",
    "    'S' : 0,\n",
    "    'C' : 1,\n",
    "    'Q' : 2,\n",
    "})"
   ]
  },
  {
   "cell_type": "code",
   "execution_count": 60,
   "id": "3431e50f",
   "metadata": {},
   "outputs": [],
   "source": [
    "df['Sex'] = df['Sex'].map({\n",
    "    'male' : 0,\n",
    "    'female' : 1,\n",
    "})"
   ]
  },
  {
   "cell_type": "code",
   "execution_count": 61,
   "id": "afab6d62",
   "metadata": {},
   "outputs": [],
   "source": [
    "test_df['Sex'] = test_df['Sex'].map({\n",
    "    'male' : 0,\n",
    "    'female' : 1,\n",
    "})"
   ]
  },
  {
   "cell_type": "code",
   "execution_count": 62,
   "id": "22cc57dc",
   "metadata": {},
   "outputs": [
    {
     "data": {
      "text/plain": [
       "0    577\n",
       "1    314\n",
       "Name: Sex, dtype: int64"
      ]
     },
     "execution_count": 62,
     "metadata": {},
     "output_type": "execute_result"
    }
   ],
   "source": [
    "df['Sex'].value_counts()"
   ]
  },
  {
   "cell_type": "code",
   "execution_count": 63,
   "id": "7ea7f62d",
   "metadata": {},
   "outputs": [
    {
     "data": {
      "text/plain": [
       "0    266\n",
       "1    152\n",
       "Name: Sex, dtype: int64"
      ]
     },
     "execution_count": 63,
     "metadata": {},
     "output_type": "execute_result"
    }
   ],
   "source": [
    "test_df['Sex'].value_counts()"
   ]
  },
  {
   "cell_type": "code",
   "execution_count": 65,
   "id": "52621c71",
   "metadata": {},
   "outputs": [
    {
     "data": {
      "text/html": [
       "<div>\n",
       "<style scoped>\n",
       "    .dataframe tbody tr th:only-of-type {\n",
       "        vertical-align: middle;\n",
       "    }\n",
       "\n",
       "    .dataframe tbody tr th {\n",
       "        vertical-align: top;\n",
       "    }\n",
       "\n",
       "    .dataframe thead th {\n",
       "        text-align: right;\n",
       "    }\n",
       "</style>\n",
       "<table border=\"1\" class=\"dataframe\">\n",
       "  <thead>\n",
       "    <tr style=\"text-align: right;\">\n",
       "      <th></th>\n",
       "      <th>Survived</th>\n",
       "      <th>Pclass</th>\n",
       "      <th>Sex</th>\n",
       "      <th>Age</th>\n",
       "      <th>Fare</th>\n",
       "      <th>Cabin</th>\n",
       "      <th>Embarked</th>\n",
       "      <th>FamilySize</th>\n",
       "    </tr>\n",
       "  </thead>\n",
       "  <tbody>\n",
       "    <tr>\n",
       "      <th>0</th>\n",
       "      <td>0</td>\n",
       "      <td>3</td>\n",
       "      <td>0</td>\n",
       "      <td>22.0</td>\n",
       "      <td>7.2500</td>\n",
       "      <td>0</td>\n",
       "      <td>0</td>\n",
       "      <td>1</td>\n",
       "    </tr>\n",
       "    <tr>\n",
       "      <th>1</th>\n",
       "      <td>1</td>\n",
       "      <td>1</td>\n",
       "      <td>1</td>\n",
       "      <td>38.0</td>\n",
       "      <td>71.2833</td>\n",
       "      <td>0</td>\n",
       "      <td>1</td>\n",
       "      <td>1</td>\n",
       "    </tr>\n",
       "    <tr>\n",
       "      <th>2</th>\n",
       "      <td>1</td>\n",
       "      <td>3</td>\n",
       "      <td>1</td>\n",
       "      <td>26.0</td>\n",
       "      <td>7.9250</td>\n",
       "      <td>0</td>\n",
       "      <td>0</td>\n",
       "      <td>0</td>\n",
       "    </tr>\n",
       "    <tr>\n",
       "      <th>3</th>\n",
       "      <td>1</td>\n",
       "      <td>1</td>\n",
       "      <td>1</td>\n",
       "      <td>35.0</td>\n",
       "      <td>53.1000</td>\n",
       "      <td>0</td>\n",
       "      <td>0</td>\n",
       "      <td>1</td>\n",
       "    </tr>\n",
       "    <tr>\n",
       "      <th>4</th>\n",
       "      <td>0</td>\n",
       "      <td>3</td>\n",
       "      <td>0</td>\n",
       "      <td>35.0</td>\n",
       "      <td>8.0500</td>\n",
       "      <td>0</td>\n",
       "      <td>0</td>\n",
       "      <td>0</td>\n",
       "    </tr>\n",
       "  </tbody>\n",
       "</table>\n",
       "</div>"
      ],
      "text/plain": [
       "   Survived  Pclass  Sex   Age     Fare  Cabin  Embarked  FamilySize\n",
       "0         0       3    0  22.0   7.2500      0         0           1\n",
       "1         1       1    1  38.0  71.2833      0         1           1\n",
       "2         1       3    1  26.0   7.9250      0         0           0\n",
       "3         1       1    1  35.0  53.1000      0         0           1\n",
       "4         0       3    0  35.0   8.0500      0         0           0"
      ]
     },
     "execution_count": 65,
     "metadata": {},
     "output_type": "execute_result"
    }
   ],
   "source": [
    "# 더이상 필요없는 열 삭제 'Name','Ticket','SibSp','Parch','PassengerId'\n",
    "train = df.drop(['Name','Ticket','SibSp','Parch','PassengerId'], axis=1)\n",
    "train.head()"
   ]
  },
  {
   "cell_type": "code",
   "execution_count": 67,
   "id": "034ea47a",
   "metadata": {},
   "outputs": [
    {
     "data": {
      "text/html": [
       "<div>\n",
       "<style scoped>\n",
       "    .dataframe tbody tr th:only-of-type {\n",
       "        vertical-align: middle;\n",
       "    }\n",
       "\n",
       "    .dataframe tbody tr th {\n",
       "        vertical-align: top;\n",
       "    }\n",
       "\n",
       "    .dataframe thead th {\n",
       "        text-align: right;\n",
       "    }\n",
       "</style>\n",
       "<table border=\"1\" class=\"dataframe\">\n",
       "  <thead>\n",
       "    <tr style=\"text-align: right;\">\n",
       "      <th></th>\n",
       "      <th>Pclass</th>\n",
       "      <th>Sex</th>\n",
       "      <th>Age</th>\n",
       "      <th>Fare</th>\n",
       "      <th>Cabin</th>\n",
       "      <th>Embarked</th>\n",
       "      <th>FamilySize</th>\n",
       "    </tr>\n",
       "  </thead>\n",
       "  <tbody>\n",
       "    <tr>\n",
       "      <th>0</th>\n",
       "      <td>3</td>\n",
       "      <td>0</td>\n",
       "      <td>34.5</td>\n",
       "      <td>7.8292</td>\n",
       "      <td>0</td>\n",
       "      <td>2</td>\n",
       "      <td>0</td>\n",
       "    </tr>\n",
       "    <tr>\n",
       "      <th>1</th>\n",
       "      <td>3</td>\n",
       "      <td>1</td>\n",
       "      <td>47.0</td>\n",
       "      <td>7.0000</td>\n",
       "      <td>0</td>\n",
       "      <td>0</td>\n",
       "      <td>1</td>\n",
       "    </tr>\n",
       "    <tr>\n",
       "      <th>2</th>\n",
       "      <td>2</td>\n",
       "      <td>0</td>\n",
       "      <td>62.0</td>\n",
       "      <td>9.6875</td>\n",
       "      <td>0</td>\n",
       "      <td>2</td>\n",
       "      <td>0</td>\n",
       "    </tr>\n",
       "    <tr>\n",
       "      <th>3</th>\n",
       "      <td>3</td>\n",
       "      <td>0</td>\n",
       "      <td>27.0</td>\n",
       "      <td>8.6625</td>\n",
       "      <td>0</td>\n",
       "      <td>0</td>\n",
       "      <td>0</td>\n",
       "    </tr>\n",
       "    <tr>\n",
       "      <th>4</th>\n",
       "      <td>3</td>\n",
       "      <td>1</td>\n",
       "      <td>22.0</td>\n",
       "      <td>12.2875</td>\n",
       "      <td>0</td>\n",
       "      <td>0</td>\n",
       "      <td>2</td>\n",
       "    </tr>\n",
       "  </tbody>\n",
       "</table>\n",
       "</div>"
      ],
      "text/plain": [
       "   Pclass  Sex   Age     Fare  Cabin  Embarked  FamilySize\n",
       "0       3    0  34.5   7.8292      0         2           0\n",
       "1       3    1  47.0   7.0000      0         0           1\n",
       "2       2    0  62.0   9.6875      0         2           0\n",
       "3       3    0  27.0   8.6625      0         0           0\n",
       "4       3    1  22.0  12.2875      0         0           2"
      ]
     },
     "execution_count": 67,
     "metadata": {},
     "output_type": "execute_result"
    }
   ],
   "source": [
    "test = test_df.drop(['Name','Ticket','SibSp','Parch','PassengerId'], axis=1)\n",
    "test.head()"
   ]
  },
  {
   "cell_type": "code",
   "execution_count": 68,
   "id": "b9547756",
   "metadata": {},
   "outputs": [],
   "source": [
    "# Training set\n",
    "# 모델의 학습에 사용되는 데이터\n",
    "\n",
    "# Validation set\n",
    "# 모델 제작 과정 중, 학습된 모델의 성능을 측정하기 위한 데이터\n",
    "\n",
    "# Test set 모델의 최종 성능을 평가하기 위한 데이터"
   ]
  },
  {
   "cell_type": "code",
   "execution_count": 69,
   "id": "a64f2817",
   "metadata": {},
   "outputs": [
    {
     "data": {
      "text/html": [
       "<div>\n",
       "<style scoped>\n",
       "    .dataframe tbody tr th:only-of-type {\n",
       "        vertical-align: middle;\n",
       "    }\n",
       "\n",
       "    .dataframe tbody tr th {\n",
       "        vertical-align: top;\n",
       "    }\n",
       "\n",
       "    .dataframe thead th {\n",
       "        text-align: right;\n",
       "    }\n",
       "</style>\n",
       "<table border=\"1\" class=\"dataframe\">\n",
       "  <thead>\n",
       "    <tr style=\"text-align: right;\">\n",
       "      <th></th>\n",
       "      <th>Survived</th>\n",
       "      <th>Pclass</th>\n",
       "      <th>Sex</th>\n",
       "      <th>Age</th>\n",
       "      <th>Fare</th>\n",
       "      <th>Cabin</th>\n",
       "      <th>Embarked</th>\n",
       "      <th>FamilySize</th>\n",
       "    </tr>\n",
       "  </thead>\n",
       "  <tbody>\n",
       "    <tr>\n",
       "      <th>0</th>\n",
       "      <td>0</td>\n",
       "      <td>3</td>\n",
       "      <td>0</td>\n",
       "      <td>22.0</td>\n",
       "      <td>7.2500</td>\n",
       "      <td>0</td>\n",
       "      <td>0</td>\n",
       "      <td>1</td>\n",
       "    </tr>\n",
       "    <tr>\n",
       "      <th>1</th>\n",
       "      <td>1</td>\n",
       "      <td>1</td>\n",
       "      <td>1</td>\n",
       "      <td>38.0</td>\n",
       "      <td>71.2833</td>\n",
       "      <td>0</td>\n",
       "      <td>1</td>\n",
       "      <td>1</td>\n",
       "    </tr>\n",
       "    <tr>\n",
       "      <th>2</th>\n",
       "      <td>1</td>\n",
       "      <td>3</td>\n",
       "      <td>1</td>\n",
       "      <td>26.0</td>\n",
       "      <td>7.9250</td>\n",
       "      <td>0</td>\n",
       "      <td>0</td>\n",
       "      <td>0</td>\n",
       "    </tr>\n",
       "    <tr>\n",
       "      <th>3</th>\n",
       "      <td>1</td>\n",
       "      <td>1</td>\n",
       "      <td>1</td>\n",
       "      <td>35.0</td>\n",
       "      <td>53.1000</td>\n",
       "      <td>0</td>\n",
       "      <td>0</td>\n",
       "      <td>1</td>\n",
       "    </tr>\n",
       "    <tr>\n",
       "      <th>4</th>\n",
       "      <td>0</td>\n",
       "      <td>3</td>\n",
       "      <td>0</td>\n",
       "      <td>35.0</td>\n",
       "      <td>8.0500</td>\n",
       "      <td>0</td>\n",
       "      <td>0</td>\n",
       "      <td>0</td>\n",
       "    </tr>\n",
       "  </tbody>\n",
       "</table>\n",
       "</div>"
      ],
      "text/plain": [
       "   Survived  Pclass  Sex   Age     Fare  Cabin  Embarked  FamilySize\n",
       "0         0       3    0  22.0   7.2500      0         0           1\n",
       "1         1       1    1  38.0  71.2833      0         1           1\n",
       "2         1       3    1  26.0   7.9250      0         0           0\n",
       "3         1       1    1  35.0  53.1000      0         0           1\n",
       "4         0       3    0  35.0   8.0500      0         0           0"
      ]
     },
     "execution_count": 69,
     "metadata": {},
     "output_type": "execute_result"
    }
   ],
   "source": [
    "# 훈련용 데이터 에서 데이터, label(target) 분리\n",
    "train_data = train.drop('Survived', axis=1) # 학습용데이터\n",
    "target_data = train['Survived'] # 학습용데이터의 label(target)\n",
    "train.head()"
   ]
  },
  {
   "cell_type": "code",
   "execution_count": 70,
   "id": "755e0be1",
   "metadata": {},
   "outputs": [
    {
     "data": {
      "text/plain": [
       "0    0\n",
       "1    1\n",
       "2    1\n",
       "3    1\n",
       "4    0\n",
       "Name: Survived, dtype: int64"
      ]
     },
     "execution_count": 70,
     "metadata": {},
     "output_type": "execute_result"
    }
   ],
   "source": [
    "target_data.head()"
   ]
  },
  {
   "cell_type": "code",
   "execution_count": 71,
   "id": "1d1cc180",
   "metadata": {},
   "outputs": [
    {
     "name": "stdout",
     "output_type": "stream",
     "text": [
      "(891, 7) (668, 7) (223, 7)\n"
     ]
    }
   ],
   "source": [
    "from sklearn.model_selection import train_test_split\n",
    "\n",
    "x_train, x_valid, y_train, y_valid = train_test_split(train_data, target_data)\n",
    "print(train_data.shape, x_train.shape, x_valid.shape)"
   ]
  },
  {
   "cell_type": "code",
   "execution_count": 72,
   "id": "ffab4063",
   "metadata": {},
   "outputs": [
    {
     "data": {
      "text/plain": [
       "DecisionTreeClassifier()"
      ]
     },
     "execution_count": 72,
     "metadata": {},
     "output_type": "execute_result"
    }
   ],
   "source": [
    "# sklearn 의 Decision Tree Classifier 를 사용하여 학습\n",
    "from sklearn.tree import DecisionTreeClassifier\n",
    "\n",
    "# Decision Tree로 모델 생성\n",
    "tree_dec = DecisionTreeClassifier()\n",
    "\n",
    "# 학습\n",
    "tree_dec.fit(x_train, y_train)"
   ]
  },
  {
   "cell_type": "code",
   "execution_count": 75,
   "id": "e0286da9",
   "metadata": {},
   "outputs": [
    {
     "name": "stdout",
     "output_type": "stream",
     "text": [
      "training set accuracy : 0.9850299401197605\n",
      "Validation set accuracy : 0.7982062780269058\n"
     ]
    }
   ],
   "source": [
    "print('training set accuracy :', tree_dec.score(x_train, y_train))\n",
    "print('Validation set accuracy :', tree_dec.score(x_valid, y_valid))"
   ]
  },
  {
   "cell_type": "code",
   "execution_count": 76,
   "id": "15fca7a8",
   "metadata": {},
   "outputs": [
    {
     "data": {
      "text/plain": [
       "array([0, 0, 0, 1, 0, 0, 0, 0, 1, 0, 0, 0, 1, 0, 1, 1, 0, 0, 1, 0, 1, 1,\n",
       "       1, 1, 1, 0, 1, 0, 1, 0, 0, 0, 0, 0, 0, 1, 0, 0, 0, 0, 0, 0, 0, 1,\n",
       "       1, 0, 0, 0, 1, 1, 1, 0, 1, 1, 0, 0, 0, 0, 0, 1, 0, 0, 0, 1, 1, 1,\n",
       "       1, 0, 0, 1, 1, 0, 0, 0, 1, 0, 0, 1, 0, 1, 1, 0, 0, 0, 0, 0, 1, 0,\n",
       "       0, 1, 0, 0, 1, 0, 1, 0, 1, 0, 1, 0, 1, 0, 0, 0, 0, 0, 0, 0, 0, 1,\n",
       "       0, 0, 1, 1, 1, 1, 0, 1, 1, 1, 1, 0, 1, 0, 0, 0, 0, 0, 0, 0, 0, 0,\n",
       "       0, 0, 0, 0, 0, 0, 0, 0, 0, 1, 1, 0, 0, 0, 0, 0, 0, 0, 1, 0, 0, 1,\n",
       "       0, 0, 1, 1, 0, 0, 0, 1, 0, 0, 0, 0, 1, 0, 1, 0, 0, 0, 0, 0, 0, 1,\n",
       "       1, 1, 1, 1, 0, 1, 1, 0, 1, 0, 1, 1, 0, 0, 0, 0, 1, 0, 1, 0, 1, 1,\n",
       "       0, 0, 0, 1, 0, 1, 0, 0, 0, 0, 1, 0, 1, 0, 0, 0, 0, 1, 0, 0, 1, 0,\n",
       "       1, 0, 1, 0, 1, 1, 0, 0, 0, 0, 0, 1, 0, 0, 0, 0, 0, 1, 1, 1, 1, 1,\n",
       "       0, 0, 0, 0, 1, 0, 1, 0, 1, 0, 0, 0, 0, 0, 0, 0, 1, 0, 0, 0, 1, 1,\n",
       "       0, 0, 0, 0, 0, 0, 0, 0, 1, 0, 0, 1, 0, 0, 0, 0, 0, 1, 0, 0, 1, 0,\n",
       "       0, 0, 0, 0, 0, 0, 0, 1, 0, 0, 1, 0, 0, 0, 0, 1, 0, 0, 0, 1, 0, 1,\n",
       "       0, 0, 0, 0, 0, 0, 1, 1, 0, 0, 0, 0, 0, 0, 1, 1, 1, 0, 1, 0, 0, 0,\n",
       "       1, 1, 0, 0, 0, 0, 0, 0, 0, 0, 0, 0, 0, 1, 0, 1, 0, 0, 0, 1, 1, 0,\n",
       "       0, 0, 1, 1, 1, 0, 0, 1, 0, 1, 1, 1, 1, 0, 0, 0, 1, 1, 0, 1, 0, 0,\n",
       "       1, 1, 0, 0, 0, 0, 0, 0, 0, 0, 0, 1, 0, 0, 0, 0, 0, 1, 1, 0, 0, 1,\n",
       "       0, 1, 0, 0, 1, 0, 1, 1, 0, 1, 0, 0, 0, 1, 0, 1, 1, 0, 1, 0, 0, 0],\n",
       "      dtype=int64)"
      ]
     },
     "execution_count": 76,
     "metadata": {},
     "output_type": "execute_result"
    }
   ],
   "source": [
    "# 만들어진 Decision Tree로 test 데이터 판단\n",
    "prediction = tree_dec.predict(test)\n",
    "prediction"
   ]
  },
  {
   "cell_type": "code",
   "execution_count": 80,
   "id": "20cf326e",
   "metadata": {},
   "outputs": [],
   "source": [
    "submit = pd.DataFrame({\n",
    "    'PassengerId' : test_df['PassengerId'],\n",
    "    'Survived' : prediction\n",
    "})\n",
    "submit.to_csv('survived.csv', index=False)"
   ]
  },
  {
   "cell_type": "code",
   "execution_count": 81,
   "id": "64660af7",
   "metadata": {},
   "outputs": [
    {
     "data": {
      "text/html": [
       "<div>\n",
       "<style scoped>\n",
       "    .dataframe tbody tr th:only-of-type {\n",
       "        vertical-align: middle;\n",
       "    }\n",
       "\n",
       "    .dataframe tbody tr th {\n",
       "        vertical-align: top;\n",
       "    }\n",
       "\n",
       "    .dataframe thead th {\n",
       "        text-align: right;\n",
       "    }\n",
       "</style>\n",
       "<table border=\"1\" class=\"dataframe\">\n",
       "  <thead>\n",
       "    <tr style=\"text-align: right;\">\n",
       "      <th></th>\n",
       "      <th>PassengerId</th>\n",
       "      <th>Survived</th>\n",
       "    </tr>\n",
       "  </thead>\n",
       "  <tbody>\n",
       "    <tr>\n",
       "      <th>0</th>\n",
       "      <td>892</td>\n",
       "      <td>0</td>\n",
       "    </tr>\n",
       "    <tr>\n",
       "      <th>1</th>\n",
       "      <td>893</td>\n",
       "      <td>0</td>\n",
       "    </tr>\n",
       "    <tr>\n",
       "      <th>2</th>\n",
       "      <td>894</td>\n",
       "      <td>0</td>\n",
       "    </tr>\n",
       "    <tr>\n",
       "      <th>3</th>\n",
       "      <td>895</td>\n",
       "      <td>1</td>\n",
       "    </tr>\n",
       "    <tr>\n",
       "      <th>4</th>\n",
       "      <td>896</td>\n",
       "      <td>0</td>\n",
       "    </tr>\n",
       "  </tbody>\n",
       "</table>\n",
       "</div>"
      ],
      "text/plain": [
       "   PassengerId  Survived\n",
       "0          892         0\n",
       "1          893         0\n",
       "2          894         0\n",
       "3          895         1\n",
       "4          896         0"
      ]
     },
     "execution_count": 81,
     "metadata": {},
     "output_type": "execute_result"
    }
   ],
   "source": [
    "my_prediction = pd.read_csv('survived.csv')\n",
    "my_prediction.head()"
   ]
  },
  {
   "cell_type": "code",
   "execution_count": 82,
   "id": "c6eaea14",
   "metadata": {},
   "outputs": [
    {
     "data": {
      "text/plain": [
       "[Text(612.2256754912664, 902.117142857143, 'Sex <= 0.5\\ngini = 0.473\\nsamples = 668\\nvalue = [412, 256]\\nclass = Unsurvived'),\n",
       " Text(380.44589246724894, 858.1114285714286, 'Cabin <= 0.5\\ngini = 0.31\\nsamples = 428\\nvalue = [346, 82]\\nclass = Unsurvived'),\n",
       " Text(134.66471069868996, 814.1057142857144, 'Age <= 3.5\\ngini = 0.25\\nsamples = 368\\nvalue = [314, 54]\\nclass = Unsurvived'),\n",
       " Text(48.733624454148476, 770.1000000000001, 'FamilySize <= 3.5\\ngini = 0.426\\nsamples = 13\\nvalue = [4, 9]\\nclass = Survived'),\n",
       " Text(38.98689956331878, 726.0942857142858, 'gini = 0.0\\nsamples = 8\\nvalue = [0, 8]\\nclass = Survived'),\n",
       " Text(58.480349344978166, 726.0942857142858, 'Age <= 2.5\\ngini = 0.32\\nsamples = 5\\nvalue = [4, 1]\\nclass = Unsurvived'),\n",
       " Text(48.733624454148476, 682.0885714285715, 'gini = 0.0\\nsamples = 4\\nvalue = [4, 0]\\nclass = Unsurvived'),\n",
       " Text(68.22707423580786, 682.0885714285715, 'gini = 0.0\\nsamples = 1\\nvalue = [0, 1]\\nclass = Survived'),\n",
       " Text(220.59579694323145, 770.1000000000001, 'Pclass <= 1.5\\ngini = 0.221\\nsamples = 355\\nvalue = [310, 45]\\nclass = Unsurvived'),\n",
       " Text(97.46724890829695, 726.0942857142858, 'Age <= 17.5\\ngini = 0.364\\nsamples = 46\\nvalue = [35, 11]\\nclass = Unsurvived'),\n",
       " Text(87.72052401746726, 682.0885714285715, 'gini = 0.0\\nsamples = 1\\nvalue = [0, 1]\\nclass = Survived'),\n",
       " Text(107.21397379912665, 682.0885714285715, 'Fare <= 98.213\\ngini = 0.346\\nsamples = 45\\nvalue = [35, 10]\\nclass = Unsurvived'),\n",
       " Text(97.46724890829695, 638.0828571428572, 'Fare <= 86.29\\ngini = 0.408\\nsamples = 35\\nvalue = [25, 10]\\nclass = Unsurvived'),\n",
       " Text(87.72052401746726, 594.0771428571429, 'Age <= 36.0\\ngini = 0.367\\nsamples = 33\\nvalue = [25, 8]\\nclass = Unsurvived'),\n",
       " Text(68.22707423580786, 550.0714285714287, 'Age <= 32.0\\ngini = 0.465\\nsamples = 19\\nvalue = [12, 7]\\nclass = Unsurvived'),\n",
       " Text(58.480349344978166, 506.06571428571436, 'Age <= 27.0\\ngini = 0.415\\nsamples = 17\\nvalue = [12, 5]\\nclass = Unsurvived'),\n",
       " Text(48.733624454148476, 462.06000000000006, 'gini = 0.0\\nsamples = 1\\nvalue = [0, 1]\\nclass = Survived'),\n",
       " Text(68.22707423580786, 462.06000000000006, 'Fare <= 38.95\\ngini = 0.375\\nsamples = 16\\nvalue = [12, 4]\\nclass = Unsurvived'),\n",
       " Text(58.480349344978166, 418.05428571428575, 'Fare <= 35.25\\ngini = 0.444\\nsamples = 12\\nvalue = [8, 4]\\nclass = Unsurvived'),\n",
       " Text(48.733624454148476, 374.04857142857145, 'Fare <= 30.598\\ngini = 0.397\\nsamples = 11\\nvalue = [8, 3]\\nclass = Unsurvived'),\n",
       " Text(38.98689956331878, 330.0428571428572, 'Fare <= 28.725\\ngini = 0.469\\nsamples = 8\\nvalue = [5, 3]\\nclass = Unsurvived'),\n",
       " Text(29.240174672489083, 286.03714285714295, 'Embarked <= 0.5\\ngini = 0.278\\nsamples = 6\\nvalue = [5, 1]\\nclass = Unsurvived'),\n",
       " Text(19.49344978165939, 242.0314285714286, 'Fare <= 26.237\\ngini = 0.444\\nsamples = 3\\nvalue = [2, 1]\\nclass = Unsurvived'),\n",
       " Text(9.746724890829695, 198.02571428571434, 'gini = 0.0\\nsamples = 1\\nvalue = [1, 0]\\nclass = Unsurvived'),\n",
       " Text(29.240174672489083, 198.02571428571434, 'gini = 0.5\\nsamples = 2\\nvalue = [1, 1]\\nclass = Unsurvived'),\n",
       " Text(38.98689956331878, 242.0314285714286, 'gini = 0.0\\nsamples = 3\\nvalue = [3, 0]\\nclass = Unsurvived'),\n",
       " Text(48.733624454148476, 286.03714285714295, 'gini = 0.0\\nsamples = 2\\nvalue = [0, 2]\\nclass = Survived'),\n",
       " Text(58.480349344978166, 330.0428571428572, 'gini = 0.0\\nsamples = 3\\nvalue = [3, 0]\\nclass = Unsurvived'),\n",
       " Text(68.22707423580786, 374.04857142857145, 'gini = 0.0\\nsamples = 1\\nvalue = [0, 1]\\nclass = Survived'),\n",
       " Text(77.97379912663756, 418.05428571428575, 'gini = 0.0\\nsamples = 4\\nvalue = [4, 0]\\nclass = Unsurvived'),\n",
       " Text(77.97379912663756, 506.06571428571436, 'gini = 0.0\\nsamples = 2\\nvalue = [0, 2]\\nclass = Survived'),\n",
       " Text(107.21397379912665, 550.0714285714287, 'Fare <= 50.752\\ngini = 0.133\\nsamples = 14\\nvalue = [13, 1]\\nclass = Unsurvived'),\n",
       " Text(97.46724890829695, 506.06571428571436, 'gini = 0.0\\nsamples = 9\\nvalue = [9, 0]\\nclass = Unsurvived'),\n",
       " Text(116.96069868995633, 506.06571428571436, 'Age <= 47.5\\ngini = 0.32\\nsamples = 5\\nvalue = [4, 1]\\nclass = Unsurvived'),\n",
       " Text(107.21397379912665, 462.06000000000006, 'gini = 0.0\\nsamples = 4\\nvalue = [4, 0]\\nclass = Unsurvived'),\n",
       " Text(126.70742358078603, 462.06000000000006, 'gini = 0.0\\nsamples = 1\\nvalue = [0, 1]\\nclass = Survived'),\n",
       " Text(107.21397379912665, 594.0771428571429, 'gini = 0.0\\nsamples = 2\\nvalue = [0, 2]\\nclass = Survived'),\n",
       " Text(116.96069868995633, 638.0828571428572, 'gini = 0.0\\nsamples = 10\\nvalue = [10, 0]\\nclass = Unsurvived'),\n",
       " Text(343.72434497816596, 726.0942857142858, 'Age <= 13.0\\ngini = 0.196\\nsamples = 309\\nvalue = [275, 34]\\nclass = Unsurvived'),\n",
       " Text(259.50655021834064, 682.0885714285715, 'FamilySize <= 3.5\\ngini = 0.463\\nsamples = 11\\nvalue = [7, 4]\\nclass = Unsurvived'),\n",
       " Text(249.75982532751092, 638.0828571428572, 'FamilySize <= 0.5\\ngini = 0.32\\nsamples = 5\\nvalue = [1, 4]\\nclass = Survived'),\n",
       " Text(240.01310043668124, 594.0771428571429, 'gini = 0.0\\nsamples = 1\\nvalue = [1, 0]\\nclass = Unsurvived'),\n",
       " Text(259.50655021834064, 594.0771428571429, 'gini = 0.0\\nsamples = 4\\nvalue = [0, 4]\\nclass = Survived'),\n",
       " Text(269.2532751091703, 638.0828571428572, 'gini = 0.0\\nsamples = 6\\nvalue = [6, 0]\\nclass = Unsurvived'),\n",
       " Text(427.9421397379913, 682.0885714285715, 'Age <= 32.25\\ngini = 0.181\\nsamples = 298\\nvalue = [268, 30]\\nclass = Unsurvived'),\n",
       " Text(358.80131004366814, 638.0828571428572, 'Age <= 31.5\\ngini = 0.22\\nsamples = 222\\nvalue = [194, 28]\\nclass = Unsurvived'),\n",
       " Text(279.0, 594.0771428571429, 'Embarked <= 0.5\\ngini = 0.194\\nsamples = 211\\nvalue = [188, 23]\\nclass = Unsurvived'),\n",
       " Text(215.646288209607, 550.0714285714287, 'Fare <= 13.75\\ngini = 0.148\\nsamples = 161\\nvalue = [148, 13]\\nclass = Unsurvived'),\n",
       " Text(205.8995633187773, 506.06571428571436, 'Age <= 30.75\\ngini = 0.18\\nsamples = 130\\nvalue = [117, 13]\\nclass = Unsurvived'),\n",
       " Text(177.87772925764193, 462.06000000000006, 'Fare <= 8.081\\ngini = 0.17\\nsamples = 128\\nvalue = [116, 12]\\nclass = Unsurvived'),\n",
       " Text(151.07423580786028, 418.05428571428575, 'Age <= 27.5\\ngini = 0.139\\nsamples = 93\\nvalue = [86, 7]\\nclass = Unsurvived'),\n",
       " Text(141.32751091703057, 374.04857142857145, 'Age <= 26.5\\ngini = 0.222\\nsamples = 55\\nvalue = [48, 7]\\nclass = Unsurvived'),\n",
       " Text(107.21397379912665, 330.0428571428572, 'Fare <= 7.91\\ngini = 0.174\\nsamples = 52\\nvalue = [47, 5]\\nclass = Unsurvived'),\n",
       " Text(68.22707423580786, 286.03714285714295, 'Age <= 23.5\\ngini = 0.102\\nsamples = 37\\nvalue = [35, 2]\\nclass = Unsurvived'),\n",
       " Text(58.480349344978166, 242.0314285714286, 'gini = 0.0\\nsamples = 24\\nvalue = [24, 0]\\nclass = Unsurvived'),\n",
       " Text(77.97379912663756, 242.0314285714286, 'Fare <= 7.785\\ngini = 0.26\\nsamples = 13\\nvalue = [11, 2]\\nclass = Unsurvived'),\n",
       " Text(68.22707423580786, 198.02571428571434, 'Fare <= 7.096\\ngini = 0.375\\nsamples = 8\\nvalue = [6, 2]\\nclass = Unsurvived'),\n",
       " Text(58.480349344978166, 154.01999999999998, 'gini = 0.0\\nsamples = 3\\nvalue = [3, 0]\\nclass = Unsurvived'),\n",
       " Text(77.97379912663756, 154.01999999999998, 'Fare <= 7.196\\ngini = 0.48\\nsamples = 5\\nvalue = [3, 2]\\nclass = Unsurvived'),\n",
       " Text(68.22707423580786, 110.01428571428573, 'gini = 0.0\\nsamples = 1\\nvalue = [0, 1]\\nclass = Survived'),\n",
       " Text(87.72052401746726, 110.01428571428573, 'FamilySize <= 0.5\\ngini = 0.375\\nsamples = 4\\nvalue = [3, 1]\\nclass = Unsurvived'),\n",
       " Text(77.97379912663756, 66.00857142857149, 'gini = 0.0\\nsamples = 2\\nvalue = [2, 0]\\nclass = Unsurvived'),\n",
       " Text(97.46724890829695, 66.00857142857149, 'gini = 0.5\\nsamples = 2\\nvalue = [1, 1]\\nclass = Unsurvived'),\n",
       " Text(87.72052401746726, 198.02571428571434, 'gini = 0.0\\nsamples = 5\\nvalue = [5, 0]\\nclass = Unsurvived'),\n",
       " Text(146.20087336244544, 286.03714285714295, 'Age <= 20.5\\ngini = 0.32\\nsamples = 15\\nvalue = [12, 3]\\nclass = Unsurvived'),\n",
       " Text(136.45414847161572, 242.0314285714286, 'FamilySize <= 0.5\\ngini = 0.49\\nsamples = 7\\nvalue = [4, 3]\\nclass = Unsurvived'),\n",
       " Text(126.70742358078603, 198.02571428571434, 'Age <= 19.5\\ngini = 0.444\\nsamples = 6\\nvalue = [4, 2]\\nclass = Unsurvived'),\n",
       " Text(116.96069868995633, 154.01999999999998, 'Age <= 17.5\\ngini = 0.5\\nsamples = 4\\nvalue = [2, 2]\\nclass = Unsurvived'),\n",
       " Text(107.21397379912665, 110.01428571428573, 'gini = 0.5\\nsamples = 2\\nvalue = [1, 1]\\nclass = Unsurvived'),\n",
       " Text(126.70742358078603, 110.01428571428573, 'gini = 0.5\\nsamples = 2\\nvalue = [1, 1]\\nclass = Unsurvived'),\n",
       " Text(136.45414847161572, 154.01999999999998, 'gini = 0.0\\nsamples = 2\\nvalue = [2, 0]\\nclass = Unsurvived'),\n",
       " Text(146.20087336244544, 198.02571428571434, 'gini = 0.0\\nsamples = 1\\nvalue = [0, 1]\\nclass = Survived'),\n",
       " Text(155.94759825327512, 242.0314285714286, 'gini = 0.0\\nsamples = 8\\nvalue = [8, 0]\\nclass = Unsurvived'),\n",
       " Text(175.4410480349345, 330.0428571428572, 'Fare <= 7.846\\ngini = 0.444\\nsamples = 3\\nvalue = [1, 2]\\nclass = Survived'),\n",
       " Text(165.6943231441048, 286.03714285714295, 'gini = 0.0\\nsamples = 2\\nvalue = [0, 2]\\nclass = Survived'),\n",
       " Text(185.1877729257642, 286.03714285714295, 'gini = 0.0\\nsamples = 1\\nvalue = [1, 0]\\nclass = Unsurvived'),\n",
       " Text(160.82096069868996, 374.04857142857145, 'gini = 0.0\\nsamples = 38\\nvalue = [38, 0]\\nclass = Unsurvived'),\n",
       " Text(204.6812227074236, 418.05428571428575, 'Fare <= 8.135\\ngini = 0.245\\nsamples = 35\\nvalue = [30, 5]\\nclass = Unsurvived'),\n",
       " Text(194.9344978165939, 374.04857142857145, 'gini = 0.0\\nsamples = 1\\nvalue = [0, 1]\\nclass = Survived'),\n",
       " Text(214.4279475982533, 374.04857142857145, 'Age <= 26.5\\ngini = 0.208\\nsamples = 34\\nvalue = [30, 4]\\nclass = Unsurvived'),\n",
       " Text(204.6812227074236, 330.0428571428572, 'gini = 0.0\\nsamples = 18\\nvalue = [18, 0]\\nclass = Unsurvived'),\n",
       " Text(224.17467248908298, 330.0428571428572, 'Pclass <= 2.5\\ngini = 0.375\\nsamples = 16\\nvalue = [12, 4]\\nclass = Unsurvived'),\n",
       " Text(204.6812227074236, 286.03714285714295, 'Age <= 28.5\\ngini = 0.219\\nsamples = 8\\nvalue = [7, 1]\\nclass = Unsurvived'),\n",
       " Text(194.9344978165939, 242.0314285714286, 'Age <= 27.5\\ngini = 0.375\\nsamples = 4\\nvalue = [3, 1]\\nclass = Unsurvived'),\n",
       " Text(185.1877729257642, 198.02571428571434, 'gini = 0.0\\nsamples = 1\\nvalue = [1, 0]\\nclass = Unsurvived'),\n",
       " Text(204.6812227074236, 198.02571428571434, 'Fare <= 11.75\\ngini = 0.444\\nsamples = 3\\nvalue = [2, 1]\\nclass = Unsurvived'),\n",
       " Text(194.9344978165939, 154.01999999999998, 'gini = 0.0\\nsamples = 1\\nvalue = [1, 0]\\nclass = Unsurvived'),\n",
       " Text(214.4279475982533, 154.01999999999998, 'gini = 0.5\\nsamples = 2\\nvalue = [1, 1]\\nclass = Unsurvived'),\n",
       " Text(214.4279475982533, 242.0314285714286, 'gini = 0.0\\nsamples = 4\\nvalue = [4, 0]\\nclass = Unsurvived'),\n",
       " Text(243.66812227074237, 286.03714285714295, 'Age <= 27.5\\ngini = 0.469\\nsamples = 8\\nvalue = [5, 3]\\nclass = Unsurvived'),\n",
       " Text(233.92139737991266, 242.0314285714286, 'gini = 0.0\\nsamples = 1\\nvalue = [0, 1]\\nclass = Survived'),\n",
       " Text(253.41484716157206, 242.0314285714286, 'Age <= 28.5\\ngini = 0.408\\nsamples = 7\\nvalue = [5, 2]\\nclass = Unsurvived'),\n",
       " Text(243.66812227074237, 198.02571428571434, 'gini = 0.0\\nsamples = 4\\nvalue = [4, 0]\\nclass = Unsurvived'),\n",
       " Text(263.16157205240177, 198.02571428571434, 'Fare <= 9.492\\ngini = 0.444\\nsamples = 3\\nvalue = [1, 2]\\nclass = Survived'),\n",
       " Text(253.41484716157206, 154.01999999999998, 'gini = 0.0\\nsamples = 1\\nvalue = [1, 0]\\nclass = Unsurvived'),\n",
       " Text(272.90829694323145, 154.01999999999998, 'gini = 0.0\\nsamples = 2\\nvalue = [0, 2]\\nclass = Survived'),\n",
       " Text(233.92139737991266, 462.06000000000006, 'Pclass <= 2.5\\ngini = 0.5\\nsamples = 2\\nvalue = [1, 1]\\nclass = Unsurvived'),\n",
       " Text(224.17467248908298, 418.05428571428575, 'gini = 0.0\\nsamples = 1\\nvalue = [0, 1]\\nclass = Survived'),\n",
       " Text(243.66812227074237, 418.05428571428575, 'gini = 0.0\\nsamples = 1\\nvalue = [1, 0]\\nclass = Unsurvived'),\n",
       " Text(225.3930131004367, 506.06571428571436, 'gini = 0.0\\nsamples = 31\\nvalue = [31, 0]\\nclass = Unsurvived'),\n",
       " Text(342.35371179039305, 550.0714285714287, 'FamilySize <= 1.5\\ngini = 0.32\\nsamples = 50\\nvalue = [40, 10]\\nclass = Unsurvived'),\n",
       " Text(314.33187772925766, 506.06571428571436, 'Age <= 28.75\\ngini = 0.245\\nsamples = 42\\nvalue = [36, 6]\\nclass = Unsurvived'),\n",
       " Text(287.528384279476, 462.06000000000006, 'Age <= 20.5\\ngini = 0.193\\nsamples = 37\\nvalue = [33, 4]\\nclass = Unsurvived'),\n",
       " Text(263.16157205240177, 418.05428571428575, 'Fare <= 5.621\\ngini = 0.5\\nsamples = 2\\nvalue = [1, 1]\\nclass = Unsurvived'),\n",
       " Text(253.41484716157206, 374.04857142857145, 'gini = 0.0\\nsamples = 1\\nvalue = [1, 0]\\nclass = Unsurvived'),\n",
       " Text(272.90829694323145, 374.04857142857145, 'gini = 0.0\\nsamples = 1\\nvalue = [0, 1]\\nclass = Survived'),\n",
       " Text(311.89519650655023, 418.05428571428575, 'Pclass <= 2.5\\ngini = 0.157\\nsamples = 35\\nvalue = [32, 3]\\nclass = Unsurvived'),\n",
       " Text(292.40174672489087, 374.04857142857145, 'Fare <= 14.456\\ngini = 0.5\\nsamples = 2\\nvalue = [1, 1]\\nclass = Unsurvived'),\n",
       " Text(282.65502183406113, 330.0428571428572, 'gini = 0.0\\nsamples = 1\\nvalue = [0, 1]\\nclass = Survived'),\n",
       " Text(302.14847161572055, 330.0428571428572, 'gini = 0.0\\nsamples = 1\\nvalue = [1, 0]\\nclass = Unsurvived'),\n",
       " Text(331.3886462882096, 374.04857142857145, 'Fare <= 7.79\\ngini = 0.114\\nsamples = 33\\nvalue = [31, 2]\\nclass = Unsurvived'),\n",
       " Text(321.6419213973799, 330.0428571428572, 'Fare <= 7.227\\ngini = 0.165\\nsamples = 22\\nvalue = [20, 2]\\nclass = Unsurvived'),\n",
       " Text(311.89519650655023, 286.03714285714295, 'gini = 0.0\\nsamples = 4\\nvalue = [4, 0]\\nclass = Unsurvived'),\n",
       " Text(331.3886462882096, 286.03714285714295, 'Age <= 25.75\\ngini = 0.198\\nsamples = 18\\nvalue = [16, 2]\\nclass = Unsurvived'),\n",
       " Text(321.6419213973799, 242.0314285714286, 'gini = 0.0\\nsamples = 3\\nvalue = [3, 0]\\nclass = Unsurvived'),\n",
       " Text(341.13537117903934, 242.0314285714286, 'Fare <= 7.479\\ngini = 0.231\\nsamples = 15\\nvalue = [13, 2]\\nclass = Unsurvived'),\n",
       " Text(321.6419213973799, 198.02571428571434, 'Age <= 28.25\\ngini = 0.32\\nsamples = 5\\nvalue = [4, 1]\\nclass = Unsurvived'),\n",
       " Text(311.89519650655023, 154.01999999999998, 'gini = 0.375\\nsamples = 4\\nvalue = [3, 1]\\nclass = Unsurvived'),\n",
       " Text(331.3886462882096, 154.01999999999998, 'gini = 0.0\\nsamples = 1\\nvalue = [1, 0]\\nclass = Unsurvived'),\n",
       " Text(360.6288209606987, 198.02571428571434, 'Fare <= 7.744\\ngini = 0.18\\nsamples = 10\\nvalue = [9, 1]\\nclass = Unsurvived'),\n",
       " Text(350.882096069869, 154.01999999999998, 'gini = 0.0\\nsamples = 3\\nvalue = [3, 0]\\nclass = Unsurvived'),\n",
       " Text(370.3755458515284, 154.01999999999998, 'FamilySize <= 0.5\\ngini = 0.245\\nsamples = 7\\nvalue = [6, 1]\\nclass = Unsurvived'),\n",
       " Text(360.6288209606987, 110.01428571428573, 'gini = 0.278\\nsamples = 6\\nvalue = [5, 1]\\nclass = Unsurvived'),\n",
       " Text(380.1222707423581, 110.01428571428573, 'gini = 0.0\\nsamples = 1\\nvalue = [1, 0]\\nclass = Unsurvived'),\n",
       " Text(341.13537117903934, 330.0428571428572, 'gini = 0.0\\nsamples = 11\\nvalue = [11, 0]\\nclass = Unsurvived'),\n",
       " Text(341.13537117903934, 462.06000000000006, 'Age <= 29.5\\ngini = 0.48\\nsamples = 5\\nvalue = [3, 2]\\nclass = Unsurvived'),\n",
       " Text(331.3886462882096, 418.05428571428575, 'gini = 0.0\\nsamples = 2\\nvalue = [0, 2]\\nclass = Survived'),\n",
       " Text(350.882096069869, 418.05428571428575, 'gini = 0.0\\nsamples = 3\\nvalue = [3, 0]\\nclass = Unsurvived'),\n",
       " Text(370.3755458515284, 506.06571428571436, 'Age <= 18.5\\ngini = 0.5\\nsamples = 8\\nvalue = [4, 4]\\nclass = Unsurvived'),\n",
       " Text(360.6288209606987, 462.06000000000006, 'gini = 0.0\\nsamples = 2\\nvalue = [2, 0]\\nclass = Unsurvived'),\n",
       " Text(380.1222707423581, 462.06000000000006, 'Fare <= 18.71\\ngini = 0.444\\nsamples = 6\\nvalue = [2, 4]\\nclass = Survived'),\n",
       " Text(370.3755458515284, 418.05428571428575, 'gini = 0.0\\nsamples = 3\\nvalue = [0, 3]\\nclass = Survived'),\n",
       " Text(389.8689956331878, 418.05428571428575, 'Embarked <= 1.5\\ngini = 0.444\\nsamples = 3\\nvalue = [2, 1]\\nclass = Unsurvived'),\n",
       " Text(380.1222707423581, 374.04857142857145, 'gini = 0.0\\nsamples = 2\\nvalue = [2, 0]\\nclass = Unsurvived'),\n",
       " Text(399.6157205240175, 374.04857142857145, 'gini = 0.0\\nsamples = 1\\nvalue = [0, 1]\\nclass = Survived'),\n",
       " Text(438.6026200873363, 594.0771428571429, 'Fare <= 18.25\\ngini = 0.496\\nsamples = 11\\nvalue = [6, 5]\\nclass = Unsurvived'),\n",
       " Text(419.10917030567686, 550.0714285714287, 'Fare <= 8.144\\ngini = 0.408\\nsamples = 7\\nvalue = [5, 2]\\nclass = Unsurvived'),\n",
       " Text(409.3624454148472, 506.06571428571436, 'Fare <= 7.802\\ngini = 0.48\\nsamples = 5\\nvalue = [3, 2]\\nclass = Unsurvived'),\n",
       " Text(399.6157205240175, 462.06000000000006, 'gini = 0.0\\nsamples = 1\\nvalue = [1, 0]\\nclass = Unsurvived'),\n",
       " Text(419.10917030567686, 462.06000000000006, 'Fare <= 7.875\\ngini = 0.5\\nsamples = 4\\nvalue = [2, 2]\\nclass = Unsurvived'),\n",
       " Text(409.3624454148472, 418.05428571428575, 'gini = 0.0\\nsamples = 1\\nvalue = [0, 1]\\nclass = Survived'),\n",
       " Text(428.8558951965066, 418.05428571428575, 'Fare <= 7.91\\ngini = 0.444\\nsamples = 3\\nvalue = [2, 1]\\nclass = Unsurvived'),\n",
       " Text(419.10917030567686, 374.04857142857145, 'gini = 0.0\\nsamples = 1\\nvalue = [1, 0]\\nclass = Unsurvived'),\n",
       " Text(438.6026200873363, 374.04857142857145, 'gini = 0.5\\nsamples = 2\\nvalue = [1, 1]\\nclass = Unsurvived'),\n",
       " Text(428.8558951965066, 506.06571428571436, 'gini = 0.0\\nsamples = 2\\nvalue = [2, 0]\\nclass = Unsurvived'),\n",
       " Text(458.09606986899564, 550.0714285714287, 'FamilySize <= 1.5\\ngini = 0.375\\nsamples = 4\\nvalue = [1, 3]\\nclass = Survived'),\n",
       " Text(448.34934497816596, 506.06571428571436, 'gini = 0.0\\nsamples = 3\\nvalue = [0, 3]\\nclass = Survived'),\n",
       " Text(467.8427947598253, 506.06571428571436, 'gini = 0.0\\nsamples = 1\\nvalue = [1, 0]\\nclass = Unsurvived'),\n",
       " Text(497.0829694323144, 638.0828571428572, 'Fare <= 8.352\\ngini = 0.051\\nsamples = 76\\nvalue = [74, 2]\\nclass = Unsurvived'),\n",
       " Text(487.33624454148475, 594.0771428571429, 'Fare <= 7.91\\ngini = 0.097\\nsamples = 39\\nvalue = [37, 2]\\nclass = Unsurvived'),\n",
       " Text(477.58951965065506, 550.0714285714287, 'gini = 0.0\\nsamples = 27\\nvalue = [27, 0]\\nclass = Unsurvived'),\n",
       " Text(497.0829694323144, 550.0714285714287, 'Fare <= 7.988\\ngini = 0.278\\nsamples = 12\\nvalue = [10, 2]\\nclass = Unsurvived'),\n",
       " Text(487.33624454148475, 506.06571428571436, 'gini = 0.5\\nsamples = 2\\nvalue = [1, 1]\\nclass = Unsurvived'),\n",
       " Text(506.8296943231441, 506.06571428571436, 'Age <= 44.5\\ngini = 0.18\\nsamples = 10\\nvalue = [9, 1]\\nclass = Unsurvived'),\n",
       " Text(497.0829694323144, 462.06000000000006, 'gini = 0.0\\nsamples = 6\\nvalue = [6, 0]\\nclass = Unsurvived'),\n",
       " Text(516.5764192139738, 462.06000000000006, 'Age <= 47.5\\ngini = 0.375\\nsamples = 4\\nvalue = [3, 1]\\nclass = Unsurvived'),\n",
       " Text(506.8296943231441, 418.05428571428575, 'gini = 0.0\\nsamples = 1\\nvalue = [0, 1]\\nclass = Survived'),\n",
       " Text(526.3231441048035, 418.05428571428575, 'gini = 0.0\\nsamples = 3\\nvalue = [3, 0]\\nclass = Unsurvived'),\n",
       " Text(506.8296943231441, 594.0771428571429, 'gini = 0.0\\nsamples = 37\\nvalue = [37, 0]\\nclass = Unsurvived'),\n",
       " Text(626.2270742358079, 814.1057142857144, 'Fare <= 7.9\\ngini = 0.498\\nsamples = 60\\nvalue = [32, 28]\\nclass = Unsurvived'),\n",
       " Text(616.4803493449782, 770.1000000000001, 'gini = 0.0\\nsamples = 8\\nvalue = [8, 0]\\nclass = Unsurvived'),\n",
       " Text(635.9737991266376, 770.1000000000001, 'Age <= 43.5\\ngini = 0.497\\nsamples = 52\\nvalue = [24, 28]\\nclass = Survived'),\n",
       " Text(599.4235807860263, 726.0942857142858, 'Fare <= 52.277\\ngini = 0.437\\nsamples = 31\\nvalue = [10, 21]\\nclass = Survived'),\n",
       " Text(575.056768558952, 682.0885714285715, 'Fare <= 44.5\\ngini = 0.498\\nsamples = 17\\nvalue = [8, 9]\\nclass = Survived'),\n",
       " Text(565.3100436681223, 638.0828571428572, 'Fare <= 26.144\\ngini = 0.426\\nsamples = 13\\nvalue = [4, 9]\\nclass = Survived'),\n",
       " Text(545.8165938864629, 594.0771428571429, 'Age <= 35.0\\ngini = 0.5\\nsamples = 6\\nvalue = [3, 3]\\nclass = Unsurvived'),\n",
       " Text(536.0698689956332, 550.0714285714287, 'Pclass <= 1.5\\ngini = 0.375\\nsamples = 4\\nvalue = [1, 3]\\nclass = Survived'),\n",
       " Text(526.3231441048035, 506.06571428571436, 'gini = 0.0\\nsamples = 1\\nvalue = [1, 0]\\nclass = Unsurvived'),\n",
       " Text(545.8165938864629, 506.06571428571436, 'gini = 0.0\\nsamples = 3\\nvalue = [0, 3]\\nclass = Survived'),\n",
       " Text(555.5633187772926, 550.0714285714287, 'gini = 0.0\\nsamples = 2\\nvalue = [2, 0]\\nclass = Unsurvived'),\n",
       " Text(584.8034934497817, 594.0771428571429, 'Cabin <= 2.5\\ngini = 0.245\\nsamples = 7\\nvalue = [1, 6]\\nclass = Survived'),\n",
       " Text(575.056768558952, 550.0714285714287, 'Fare <= 30.25\\ngini = 0.5\\nsamples = 2\\nvalue = [1, 1]\\nclass = Unsurvived'),\n",
       " Text(565.3100436681223, 506.06571428571436, 'gini = 0.0\\nsamples = 1\\nvalue = [1, 0]\\nclass = Unsurvived'),\n",
       " Text(584.8034934497817, 506.06571428571436, 'gini = 0.0\\nsamples = 1\\nvalue = [0, 1]\\nclass = Survived'),\n",
       " Text(594.5502183406114, 550.0714285714287, 'gini = 0.0\\nsamples = 5\\nvalue = [0, 5]\\nclass = Survived'),\n",
       " Text(584.8034934497817, 638.0828571428572, 'gini = 0.0\\nsamples = 4\\nvalue = [4, 0]\\nclass = Unsurvived'),\n",
       " Text(623.7903930131005, 682.0885714285715, 'Age <= 24.5\\ngini = 0.245\\nsamples = 14\\nvalue = [2, 12]\\nclass = Survived'),\n",
       " Text(614.0436681222708, 638.0828571428572, 'Age <= 15.0\\ngini = 0.48\\nsamples = 5\\nvalue = [2, 3]\\nclass = Survived'),\n",
       " Text(604.2969432314411, 594.0771428571429, 'gini = 0.0\\nsamples = 2\\nvalue = [0, 2]\\nclass = Survived'),\n",
       " Text(623.7903930131005, 594.0771428571429, 'FamilySize <= 0.5\\ngini = 0.444\\nsamples = 3\\nvalue = [2, 1]\\nclass = Unsurvived'),\n",
       " Text(614.0436681222708, 550.0714285714287, 'gini = 0.0\\nsamples = 1\\nvalue = [1, 0]\\nclass = Unsurvived'),\n",
       " Text(633.5371179039302, 550.0714285714287, 'Embarked <= 0.5\\ngini = 0.5\\nsamples = 2\\nvalue = [1, 1]\\nclass = Unsurvived'),\n",
       " Text(623.7903930131005, 506.06571428571436, 'gini = 0.0\\nsamples = 1\\nvalue = [1, 0]\\nclass = Unsurvived'),\n",
       " Text(643.2838427947598, 506.06571428571436, 'gini = 0.0\\nsamples = 1\\nvalue = [0, 1]\\nclass = Survived'),\n",
       " Text(633.5371179039302, 638.0828571428572, 'gini = 0.0\\nsamples = 9\\nvalue = [0, 9]\\nclass = Survived'),\n",
       " Text(672.524017467249, 726.0942857142858, 'Age <= 47.5\\ngini = 0.444\\nsamples = 21\\nvalue = [14, 7]\\nclass = Unsurvived'),\n",
       " Text(662.7772925764192, 682.0885714285715, 'gini = 0.0\\nsamples = 6\\nvalue = [6, 0]\\nclass = Unsurvived'),\n",
       " Text(682.2707423580787, 682.0885714285715, 'Age <= 49.5\\ngini = 0.498\\nsamples = 15\\nvalue = [8, 7]\\nclass = Unsurvived'),\n",
       " Text(672.524017467249, 638.0828571428572, 'gini = 0.0\\nsamples = 3\\nvalue = [0, 3]\\nclass = Survived'),\n",
       " Text(692.0174672489084, 638.0828571428572, 'Age <= 75.5\\ngini = 0.444\\nsamples = 12\\nvalue = [8, 4]\\nclass = Unsurvived'),\n",
       " Text(682.2707423580787, 594.0771428571429, 'Age <= 62.5\\ngini = 0.397\\nsamples = 11\\nvalue = [8, 3]\\nclass = Unsurvived'),\n",
       " Text(672.524017467249, 550.0714285714287, 'Cabin <= 3.5\\ngini = 0.469\\nsamples = 8\\nvalue = [5, 3]\\nclass = Unsurvived'),\n",
       " Text(662.7772925764192, 506.06571428571436, 'Fare <= 28.125\\ngini = 0.408\\nsamples = 7\\nvalue = [5, 2]\\nclass = Unsurvived'),\n",
       " Text(653.0305676855895, 462.06000000000006, 'gini = 0.0\\nsamples = 1\\nvalue = [0, 1]\\nclass = Survived'),\n",
       " Text(672.524017467249, 462.06000000000006, 'Age <= 59.0\\ngini = 0.278\\nsamples = 6\\nvalue = [5, 1]\\nclass = Unsurvived'),\n",
       " Text(662.7772925764192, 418.05428571428575, 'gini = 0.0\\nsamples = 5\\nvalue = [5, 0]\\nclass = Unsurvived'),\n",
       " Text(682.2707423580787, 418.05428571428575, 'gini = 0.0\\nsamples = 1\\nvalue = [0, 1]\\nclass = Survived'),\n",
       " Text(682.2707423580787, 506.06571428571436, 'gini = 0.0\\nsamples = 1\\nvalue = [0, 1]\\nclass = Survived'),\n",
       " Text(692.0174672489084, 550.0714285714287, 'gini = 0.0\\nsamples = 3\\nvalue = [3, 0]\\nclass = Unsurvived'),\n",
       " Text(701.764192139738, 594.0771428571429, 'gini = 0.0\\nsamples = 1\\nvalue = [0, 1]\\nclass = Survived'),\n",
       " Text(844.0054585152839, 858.1114285714286, 'Pclass <= 2.5\\ngini = 0.399\\nsamples = 240\\nvalue = [66, 174]\\nclass = Survived'),\n",
       " Text(760.2445414847163, 814.1057142857144, 'Fare <= 26.125\\ngini = 0.091\\nsamples = 126\\nvalue = [6, 120]\\nclass = Survived'),\n",
       " Text(750.4978165938865, 770.1000000000001, 'Age <= 56.0\\ngini = 0.227\\nsamples = 46\\nvalue = [6, 40]\\nclass = Survived'),\n",
       " Text(740.7510917030568, 726.0942857142858, 'Age <= 23.5\\ngini = 0.198\\nsamples = 45\\nvalue = [5, 40]\\nclass = Survived'),\n",
       " Text(731.0043668122271, 682.0885714285715, 'gini = 0.0\\nsamples = 10\\nvalue = [0, 10]\\nclass = Survived'),\n",
       " Text(750.4978165938865, 682.0885714285715, 'Age <= 27.5\\ngini = 0.245\\nsamples = 35\\nvalue = [5, 30]\\nclass = Survived'),\n",
       " Text(731.0043668122271, 638.0828571428572, 'Cabin <= 1.5\\ngini = 0.444\\nsamples = 9\\nvalue = [3, 6]\\nclass = Survived'),\n",
       " Text(721.2576419213974, 594.0771428571429, 'Fare <= 13.429\\ngini = 0.49\\nsamples = 7\\nvalue = [3, 4]\\nclass = Survived'),\n",
       " Text(711.5109170305677, 550.0714285714287, 'gini = 0.0\\nsamples = 1\\nvalue = [1, 0]\\nclass = Unsurvived'),\n",
       " Text(731.0043668122271, 550.0714285714287, 'Age <= 25.5\\ngini = 0.444\\nsamples = 6\\nvalue = [2, 4]\\nclass = Survived'),\n",
       " Text(721.2576419213974, 506.06571428571436, 'gini = 0.0\\nsamples = 3\\nvalue = [0, 3]\\nclass = Survived'),\n",
       " Text(740.7510917030568, 506.06571428571436, 'Embarked <= 0.5\\ngini = 0.444\\nsamples = 3\\nvalue = [2, 1]\\nclass = Unsurvived'),\n",
       " Text(731.0043668122271, 462.06000000000006, 'gini = 0.0\\nsamples = 2\\nvalue = [2, 0]\\nclass = Unsurvived'),\n",
       " Text(750.4978165938865, 462.06000000000006, 'gini = 0.0\\nsamples = 1\\nvalue = [0, 1]\\nclass = Survived'),\n",
       " Text(740.7510917030568, 594.0771428571429, 'gini = 0.0\\nsamples = 2\\nvalue = [0, 2]\\nclass = Survived'),\n",
       " Text(769.9912663755459, 638.0828571428572, 'Age <= 37.0\\ngini = 0.142\\nsamples = 26\\nvalue = [2, 24]\\nclass = Survived'),\n",
       " Text(760.2445414847163, 594.0771428571429, 'gini = 0.0\\nsamples = 13\\nvalue = [0, 13]\\nclass = Survived'),\n",
       " Text(779.7379912663756, 594.0771428571429, 'Age <= 39.0\\ngini = 0.26\\nsamples = 13\\nvalue = [2, 11]\\nclass = Survived'),\n",
       " Text(769.9912663755459, 550.0714285714287, 'gini = 0.0\\nsamples = 1\\nvalue = [1, 0]\\nclass = Unsurvived'),\n",
       " Text(789.4847161572053, 550.0714285714287, 'Fare <= 25.965\\ngini = 0.153\\nsamples = 12\\nvalue = [1, 11]\\nclass = Survived'),\n",
       " Text(779.7379912663756, 506.06571428571436, 'gini = 0.0\\nsamples = 10\\nvalue = [0, 10]\\nclass = Survived'),\n",
       " Text(799.231441048035, 506.06571428571436, 'Age <= 47.0\\ngini = 0.5\\nsamples = 2\\nvalue = [1, 1]\\nclass = Unsurvived'),\n",
       " Text(789.4847161572053, 462.06000000000006, 'gini = 0.0\\nsamples = 1\\nvalue = [1, 0]\\nclass = Unsurvived'),\n",
       " Text(808.9781659388647, 462.06000000000006, 'gini = 0.0\\nsamples = 1\\nvalue = [0, 1]\\nclass = Survived'),\n",
       " Text(760.2445414847163, 726.0942857142858, 'gini = 0.0\\nsamples = 1\\nvalue = [1, 0]\\nclass = Unsurvived'),\n",
       " Text(769.9912663755459, 770.1000000000001, 'gini = 0.0\\nsamples = 80\\nvalue = [0, 80]\\nclass = Survived'),\n",
       " Text(927.7663755458516, 814.1057142857144, 'Fare <= 7.888\\ngini = 0.499\\nsamples = 114\\nvalue = [60, 54]\\nclass = Unsurvived'),\n",
       " Text(847.9650655021835, 770.1000000000001, 'Fare <= 6.99\\ngini = 0.312\\nsamples = 31\\nvalue = [6, 25]\\nclass = Survived'),\n",
       " Text(838.2183406113537, 726.0942857142858, 'gini = 0.0\\nsamples = 1\\nvalue = [1, 0]\\nclass = Unsurvived'),\n",
       " Text(857.7117903930132, 726.0942857142858, 'Age <= 29.5\\ngini = 0.278\\nsamples = 30\\nvalue = [5, 25]\\nclass = Survived'),\n",
       " Text(847.9650655021835, 682.0885714285715, 'Fare <= 7.763\\ngini = 0.238\\nsamples = 29\\nvalue = [4, 25]\\nclass = Survived'),\n",
       " Text(838.2183406113537, 638.0828571428572, 'Age <= 19.5\\ngini = 0.308\\nsamples = 21\\nvalue = [4, 17]\\nclass = Survived'),\n",
       " Text(828.471615720524, 594.0771428571429, 'gini = 0.0\\nsamples = 4\\nvalue = [0, 4]\\nclass = Survived'),\n",
       " Text(847.9650655021835, 594.0771428571429, 'Age <= 21.5\\ngini = 0.36\\nsamples = 17\\nvalue = [4, 13]\\nclass = Survived'),\n",
       " Text(838.2183406113537, 550.0714285714287, 'gini = 0.0\\nsamples = 1\\nvalue = [1, 0]\\nclass = Unsurvived'),\n",
       " Text(857.7117903930132, 550.0714285714287, 'Fare <= 7.681\\ngini = 0.305\\nsamples = 16\\nvalue = [3, 13]\\nclass = Survived'),\n",
       " Text(838.2183406113537, 506.06571428571436, 'Fare <= 7.4\\ngini = 0.48\\nsamples = 5\\nvalue = [2, 3]\\nclass = Survived'),\n",
       " Text(828.471615720524, 462.06000000000006, 'gini = 0.0\\nsamples = 2\\nvalue = [0, 2]\\nclass = Survived'),\n",
       " Text(847.9650655021835, 462.06000000000006, 'Age <= 25.5\\ngini = 0.444\\nsamples = 3\\nvalue = [2, 1]\\nclass = Unsurvived'),\n",
       " Text(838.2183406113537, 418.05428571428575, 'gini = 0.0\\nsamples = 1\\nvalue = [0, 1]\\nclass = Survived'),\n",
       " Text(857.7117903930132, 418.05428571428575, 'gini = 0.0\\nsamples = 2\\nvalue = [2, 0]\\nclass = Unsurvived'),\n",
       " Text(877.2052401746726, 506.06571428571436, 'Fare <= 7.744\\ngini = 0.165\\nsamples = 11\\nvalue = [1, 10]\\nclass = Survived'),\n",
       " Text(867.4585152838429, 462.06000000000006, 'gini = 0.0\\nsamples = 2\\nvalue = [0, 2]\\nclass = Survived'),\n",
       " Text(886.9519650655022, 462.06000000000006, 'Age <= 25.0\\ngini = 0.198\\nsamples = 9\\nvalue = [1, 8]\\nclass = Survived'),\n",
       " Text(877.2052401746726, 418.05428571428575, 'gini = 0.0\\nsamples = 2\\nvalue = [0, 2]\\nclass = Survived'),\n",
       " Text(896.6986899563319, 418.05428571428575, 'gini = 0.245\\nsamples = 7\\nvalue = [1, 6]\\nclass = Survived'),\n",
       " Text(857.7117903930132, 638.0828571428572, 'gini = 0.0\\nsamples = 8\\nvalue = [0, 8]\\nclass = Survived'),\n",
       " Text(867.4585152838429, 682.0885714285715, 'gini = 0.0\\nsamples = 1\\nvalue = [1, 0]\\nclass = Unsurvived'),\n",
       " Text(1007.5676855895197, 770.1000000000001, 'Age <= 5.5\\ngini = 0.455\\nsamples = 83\\nvalue = [54, 29]\\nclass = Unsurvived'),\n",
       " Text(960.052401746725, 726.0942857142858, 'Age <= 3.5\\ngini = 0.375\\nsamples = 12\\nvalue = [3, 9]\\nclass = Survived'),\n",
       " Text(950.3056768558953, 682.0885714285715, 'FamilySize <= 3.0\\ngini = 0.5\\nsamples = 6\\nvalue = [3, 3]\\nclass = Unsurvived'),\n",
       " Text(940.5589519650656, 638.0828571428572, 'Fare <= 10.798\\ngini = 0.375\\nsamples = 4\\nvalue = [1, 3]\\nclass = Survived'),\n",
       " Text(930.8122270742358, 594.0771428571429, 'gini = 0.0\\nsamples = 1\\nvalue = [1, 0]\\nclass = Unsurvived'),\n",
       " Text(950.3056768558953, 594.0771428571429, 'gini = 0.0\\nsamples = 3\\nvalue = [0, 3]\\nclass = Survived'),\n",
       " Text(960.052401746725, 638.0828571428572, 'gini = 0.0\\nsamples = 2\\nvalue = [2, 0]\\nclass = Unsurvived'),\n",
       " Text(969.7991266375547, 682.0885714285715, 'gini = 0.0\\nsamples = 6\\nvalue = [0, 6]\\nclass = Survived'),\n",
       " Text(1055.0829694323145, 726.0942857142858, 'FamilySize <= 3.5\\ngini = 0.405\\nsamples = 71\\nvalue = [51, 20]\\nclass = Unsurvived'),\n",
       " Text(1023.4061135371179, 682.0885714285715, 'Embarked <= 1.5\\ngini = 0.468\\nsamples = 51\\nvalue = [32, 19]\\nclass = Unsurvived'),\n",
       " Text(989.292576419214, 638.0828571428572, 'Cabin <= 1.5\\ngini = 0.434\\nsamples = 44\\nvalue = [30, 14]\\nclass = Unsurvived'),\n",
       " Text(969.7991266375547, 594.0771428571429, 'Age <= 55.0\\ngini = 0.399\\nsamples = 40\\nvalue = [29, 11]\\nclass = Unsurvived'),\n",
       " Text(960.052401746725, 550.0714285714287, 'Age <= 36.0\\ngini = 0.381\\nsamples = 39\\nvalue = [29, 10]\\nclass = Unsurvived'),\n",
       " Text(950.3056768558953, 506.06571428571436, 'Age <= 33.0\\ngini = 0.415\\nsamples = 34\\nvalue = [24, 10]\\nclass = Unsurvived'),\n",
       " Text(940.5589519650656, 462.06000000000006, 'Fare <= 9.1\\ngini = 0.397\\nsamples = 33\\nvalue = [24, 9]\\nclass = Unsurvived'),\n",
       " Text(916.1921397379913, 418.05428571428575, 'Fare <= 7.988\\ngini = 0.219\\nsamples = 8\\nvalue = [7, 1]\\nclass = Unsurvived'),\n",
       " Text(906.4454148471616, 374.04857142857145, 'Age <= 26.0\\ngini = 0.375\\nsamples = 4\\nvalue = [3, 1]\\nclass = Unsurvived'),\n",
       " Text(896.6986899563319, 330.0428571428572, 'gini = 0.0\\nsamples = 2\\nvalue = [2, 0]\\nclass = Unsurvived'),\n",
       " Text(916.1921397379913, 330.0428571428572, 'Age <= 27.5\\ngini = 0.5\\nsamples = 2\\nvalue = [1, 1]\\nclass = Unsurvived'),\n",
       " Text(906.4454148471616, 286.03714285714295, 'gini = 0.0\\nsamples = 1\\nvalue = [0, 1]\\nclass = Survived'),\n",
       " Text(925.938864628821, 286.03714285714295, 'gini = 0.0\\nsamples = 1\\nvalue = [1, 0]\\nclass = Unsurvived'),\n",
       " Text(925.938864628821, 374.04857142857145, 'gini = 0.0\\nsamples = 4\\nvalue = [4, 0]\\nclass = Unsurvived'),\n",
       " Text(964.9257641921398, 418.05428571428575, 'Fare <= 9.588\\ngini = 0.435\\nsamples = 25\\nvalue = [17, 8]\\nclass = Unsurvived'),\n",
       " Text(955.1790393013101, 374.04857142857145, 'gini = 0.0\\nsamples = 1\\nvalue = [0, 1]\\nclass = Survived'),\n",
       " Text(974.6724890829695, 374.04857142857145, 'Age <= 23.0\\ngini = 0.413\\nsamples = 24\\nvalue = [17, 7]\\nclass = Unsurvived'),\n",
       " Text(955.1790393013101, 330.0428571428572, 'Fare <= 12.848\\ngini = 0.278\\nsamples = 12\\nvalue = [10, 2]\\nclass = Unsurvived'),\n",
       " Text(945.4323144104804, 286.03714285714295, 'Age <= 19.0\\ngini = 0.444\\nsamples = 6\\nvalue = [4, 2]\\nclass = Unsurvived'),\n",
       " Text(935.6855895196506, 242.0314285714286, 'gini = 0.0\\nsamples = 2\\nvalue = [0, 2]\\nclass = Survived'),\n",
       " Text(955.1790393013101, 242.0314285714286, 'gini = 0.0\\nsamples = 4\\nvalue = [4, 0]\\nclass = Unsurvived'),\n",
       " Text(964.9257641921398, 286.03714285714295, 'gini = 0.0\\nsamples = 6\\nvalue = [6, 0]\\nclass = Unsurvived'),\n",
       " Text(994.1659388646289, 330.0428571428572, 'Age <= 25.0\\ngini = 0.486\\nsamples = 12\\nvalue = [7, 5]\\nclass = Unsurvived'),\n",
       " Text(984.4192139737992, 286.03714285714295, 'gini = 0.0\\nsamples = 2\\nvalue = [0, 2]\\nclass = Survived'),\n",
       " Text(1003.9126637554585, 286.03714285714295, 'Fare <= 12.767\\ngini = 0.42\\nsamples = 10\\nvalue = [7, 3]\\nclass = Unsurvived'),\n",
       " Text(994.1659388646289, 242.0314285714286, 'gini = 0.0\\nsamples = 1\\nvalue = [0, 1]\\nclass = Survived'),\n",
       " Text(1013.6593886462882, 242.0314285714286, 'Fare <= 14.852\\ngini = 0.346\\nsamples = 9\\nvalue = [7, 2]\\nclass = Unsurvived'),\n",
       " Text(1003.9126637554585, 198.02571428571434, 'gini = 0.0\\nsamples = 3\\nvalue = [3, 0]\\nclass = Unsurvived'),\n",
       " Text(1023.4061135371179, 198.02571428571434, 'Fare <= 17.05\\ngini = 0.444\\nsamples = 6\\nvalue = [4, 2]\\nclass = Unsurvived'),\n",
       " Text(1013.6593886462882, 154.01999999999998, 'Age <= 27.0\\ngini = 0.5\\nsamples = 4\\nvalue = [2, 2]\\nclass = Unsurvived'),\n",
       " Text(1003.9126637554585, 110.01428571428573, 'gini = 0.0\\nsamples = 1\\nvalue = [1, 0]\\nclass = Unsurvived'),\n",
       " Text(1023.4061135371179, 110.01428571428573, 'FamilySize <= 1.5\\ngini = 0.444\\nsamples = 3\\nvalue = [1, 2]\\nclass = Survived'),\n",
       " Text(1013.6593886462882, 66.00857142857149, 'gini = 0.0\\nsamples = 1\\nvalue = [0, 1]\\nclass = Survived'),\n",
       " Text(1033.1528384279477, 66.00857142857149, 'Age <= 28.5\\ngini = 0.5\\nsamples = 2\\nvalue = [1, 1]\\nclass = Unsurvived'),\n",
       " Text(1023.4061135371179, 22.002857142857124, 'gini = 0.0\\nsamples = 1\\nvalue = [1, 0]\\nclass = Unsurvived'),\n",
       " Text(1042.8995633187774, 22.002857142857124, 'gini = 0.0\\nsamples = 1\\nvalue = [0, 1]\\nclass = Survived'),\n",
       " Text(1033.1528384279477, 154.01999999999998, 'gini = 0.0\\nsamples = 2\\nvalue = [2, 0]\\nclass = Unsurvived'),\n",
       " Text(960.052401746725, 462.06000000000006, 'gini = 0.0\\nsamples = 1\\nvalue = [0, 1]\\nclass = Survived'),\n",
       " Text(969.7991266375547, 506.06571428571436, 'gini = 0.0\\nsamples = 5\\nvalue = [5, 0]\\nclass = Unsurvived'),\n",
       " Text(979.5458515283843, 550.0714285714287, 'gini = 0.0\\nsamples = 1\\nvalue = [0, 1]\\nclass = Survived'),\n",
       " Text(1008.7860262008734, 594.0771428571429, 'Fare <= 11.469\\ngini = 0.375\\nsamples = 4\\nvalue = [1, 3]\\nclass = Survived'),\n",
       " Text(999.0393013100437, 550.0714285714287, 'gini = 0.0\\nsamples = 1\\nvalue = [1, 0]\\nclass = Unsurvived'),\n",
       " Text(1018.5327510917031, 550.0714285714287, 'gini = 0.0\\nsamples = 3\\nvalue = [0, 3]\\nclass = Survived'),\n",
       " Text(1057.519650655022, 638.0828571428572, 'Age <= 30.0\\ngini = 0.408\\nsamples = 7\\nvalue = [2, 5]\\nclass = Survived'),\n",
       " Text(1047.7729257641922, 594.0771428571429, 'FamilySize <= 0.5\\ngini = 0.278\\nsamples = 6\\nvalue = [1, 5]\\nclass = Survived'),\n",
       " Text(1038.0262008733625, 550.0714285714287, 'Fare <= 8.083\\ngini = 0.5\\nsamples = 2\\nvalue = [1, 1]\\nclass = Unsurvived'),\n",
       " Text(1028.2794759825329, 506.06571428571436, 'gini = 0.0\\nsamples = 1\\nvalue = [0, 1]\\nclass = Survived'),\n",
       " Text(1047.7729257641922, 506.06571428571436, 'gini = 0.0\\nsamples = 1\\nvalue = [1, 0]\\nclass = Unsurvived'),\n",
       " Text(1057.519650655022, 550.0714285714287, 'gini = 0.0\\nsamples = 4\\nvalue = [0, 4]\\nclass = Survived'),\n",
       " Text(1067.2663755458516, 594.0771428571429, 'gini = 0.0\\nsamples = 1\\nvalue = [1, 0]\\nclass = Unsurvived'),\n",
       " Text(1086.759825327511, 682.0885714285715, 'Age <= 33.5\\ngini = 0.095\\nsamples = 20\\nvalue = [19, 1]\\nclass = Unsurvived'),\n",
       " Text(1077.0131004366813, 638.0828571428572, 'gini = 0.0\\nsamples = 14\\nvalue = [14, 0]\\nclass = Unsurvived'),\n",
       " Text(1096.5065502183406, 638.0828571428572, 'Age <= 38.5\\ngini = 0.278\\nsamples = 6\\nvalue = [5, 1]\\nclass = Unsurvived'),\n",
       " Text(1086.759825327511, 594.0771428571429, 'gini = 0.0\\nsamples = 1\\nvalue = [0, 1]\\nclass = Survived'),\n",
       " Text(1106.2532751091703, 594.0771428571429, 'gini = 0.0\\nsamples = 5\\nvalue = [5, 0]\\nclass = Unsurvived')]"
      ]
     },
     "execution_count": 82,
     "metadata": {},
     "output_type": "execute_result"
    },
    {
     "data": {
      "image/png": "[encoded data removed]",
      "text/plain": [
       "<Figure size 1440x1224 with 1 Axes>"
      ]
     },
     "metadata": {
      "needs_background": "light"
     },
     "output_type": "display_data"
    }
   ],
   "source": [
    "# 시각화\n",
    "from sklearn import tree\n",
    "import matplotlib.pyplot as plt\n",
    "plt.figure(figsize=(20,17))\n",
    "feature_name=['Pclass','Sex','Age','Fare','Cabin','Embarked','FamilySize']\n",
    "tree.plot_tree(tree_dec,\n",
    "              class_names=['Unsurvived','Survived'],\n",
    "              feature_names=feature_name,\n",
    "              impurity=True,\n",
    "              filled=True,\n",
    "              rounded=True)"
   ]
  },
  {
   "cell_type": "code",
   "execution_count": 83,
   "id": "fd191ed2",
   "metadata": {},
   "outputs": [
    {
     "name": "stdout",
     "output_type": "stream",
     "text": [
      "importance :  [0.10691579 0.28793679 0.27569855 0.19540599 0.04731792 0.02296863\n",
      " 0.06375633]\n"
     ]
    }
   ],
   "source": [
    "print(\"importance : \", tree_dec.feature_importances_)"
   ]
  },
  {
   "cell_type": "code",
   "execution_count": 86,
   "id": "449f1b9c",
   "metadata": {},
   "outputs": [
    {
     "name": "stdout",
     "output_type": "stream",
     "text": [
      "Pclass: 0.106916\n",
      "Sex: 0.287937\n",
      "Age: 0.275699\n",
      "Fare: 0.195406\n",
      "Cabin: 0.047318\n",
      "Embarked: 0.022969\n",
      "FamilySize: 0.063756\n"
     ]
    }
   ],
   "source": [
    "for name, value in zip(feature_name, tree_dec.feature_importances_):\n",
    "    print('{0}: {1:3f}'.format(name, value))"
   ]
  },
  {
   "cell_type": "code",
   "execution_count": null,
   "id": "2ae7ae0b",
   "metadata": {},
   "outputs": [],
   "source": [
    "# 살려주세요\n",
    "# 위잉위잉 퇴치 plz"
   ]
  }
 ],
 "metadata": {
  "kernelspec": {
   "display_name": "Python 3",
   "language": "python",
   "name": "python3"
  },
  "language_info": {
   "codemirror_mode": {
    "name": "ipython",
    "version": 3
   },
   "file_extension": ".py",
   "mimetype": "text/x-python",
   "name": "python",
   "nbconvert_exporter": "python",
   "pygments_lexer": "ipython3",
   "version": "3.8.8"
  }
 },
 "nbformat": 4,
 "nbformat_minor": 5
}
