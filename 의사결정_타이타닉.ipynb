{
 "cells": [
  {
   "cell_type": "code",
   "execution_count": 1,
   "id": "a62ef51f",
   "metadata": {},
   "outputs": [
    {
     "data": {
      "text/html": [
       "<div>\n",
       "<style scoped>\n",
       "    .dataframe tbody tr th:only-of-type {\n",
       "        vertical-align: middle;\n",
       "    }\n",
       "\n",
       "    .dataframe tbody tr th {\n",
       "        vertical-align: top;\n",
       "    }\n",
       "\n",
       "    .dataframe thead th {\n",
       "        text-align: right;\n",
       "    }\n",
       "</style>\n",
       "<table border=\"1\" class=\"dataframe\">\n",
       "  <thead>\n",
       "    <tr style=\"text-align: right;\">\n",
       "      <th></th>\n",
       "      <th>PassengerId</th>\n",
       "      <th>Survived</th>\n",
       "      <th>Pclass</th>\n",
       "      <th>Name</th>\n",
       "      <th>Sex</th>\n",
       "      <th>Age</th>\n",
       "      <th>SibSp</th>\n",
       "      <th>Parch</th>\n",
       "      <th>Ticket</th>\n",
       "      <th>Fare</th>\n",
       "      <th>Cabin</th>\n",
       "      <th>Embarked</th>\n",
       "    </tr>\n",
       "  </thead>\n",
       "  <tbody>\n",
       "    <tr>\n",
       "      <th>0</th>\n",
       "      <td>1</td>\n",
       "      <td>0</td>\n",
       "      <td>3</td>\n",
       "      <td>Braund, Mr. Owen Harris</td>\n",
       "      <td>male</td>\n",
       "      <td>22.0</td>\n",
       "      <td>1</td>\n",
       "      <td>0</td>\n",
       "      <td>A/5 21171</td>\n",
       "      <td>7.2500</td>\n",
       "      <td>NaN</td>\n",
       "      <td>S</td>\n",
       "    </tr>\n",
       "    <tr>\n",
       "      <th>1</th>\n",
       "      <td>2</td>\n",
       "      <td>1</td>\n",
       "      <td>1</td>\n",
       "      <td>Cumings, Mrs. John Bradley (Florence Briggs Th...</td>\n",
       "      <td>female</td>\n",
       "      <td>38.0</td>\n",
       "      <td>1</td>\n",
       "      <td>0</td>\n",
       "      <td>PC 17599</td>\n",
       "      <td>71.2833</td>\n",
       "      <td>C85</td>\n",
       "      <td>C</td>\n",
       "    </tr>\n",
       "    <tr>\n",
       "      <th>2</th>\n",
       "      <td>3</td>\n",
       "      <td>1</td>\n",
       "      <td>3</td>\n",
       "      <td>Heikkinen, Miss. Laina</td>\n",
       "      <td>female</td>\n",
       "      <td>26.0</td>\n",
       "      <td>0</td>\n",
       "      <td>0</td>\n",
       "      <td>STON/O2. 3101282</td>\n",
       "      <td>7.9250</td>\n",
       "      <td>NaN</td>\n",
       "      <td>S</td>\n",
       "    </tr>\n",
       "    <tr>\n",
       "      <th>3</th>\n",
       "      <td>4</td>\n",
       "      <td>1</td>\n",
       "      <td>1</td>\n",
       "      <td>Futrelle, Mrs. Jacques Heath (Lily May Peel)</td>\n",
       "      <td>female</td>\n",
       "      <td>35.0</td>\n",
       "      <td>1</td>\n",
       "      <td>0</td>\n",
       "      <td>113803</td>\n",
       "      <td>53.1000</td>\n",
       "      <td>C123</td>\n",
       "      <td>S</td>\n",
       "    </tr>\n",
       "    <tr>\n",
       "      <th>4</th>\n",
       "      <td>5</td>\n",
       "      <td>0</td>\n",
       "      <td>3</td>\n",
       "      <td>Allen, Mr. William Henry</td>\n",
       "      <td>male</td>\n",
       "      <td>35.0</td>\n",
       "      <td>0</td>\n",
       "      <td>0</td>\n",
       "      <td>373450</td>\n",
       "      <td>8.0500</td>\n",
       "      <td>NaN</td>\n",
       "      <td>S</td>\n",
       "    </tr>\n",
       "  </tbody>\n",
       "</table>\n",
       "</div>"
      ],
      "text/plain": [
       "   PassengerId  Survived  Pclass  \\\n",
       "0            1         0       3   \n",
       "1            2         1       1   \n",
       "2            3         1       3   \n",
       "3            4         1       1   \n",
       "4            5         0       3   \n",
       "\n",
       "                                                Name     Sex   Age  SibSp  \\\n",
       "0                            Braund, Mr. Owen Harris    male  22.0      1   \n",
       "1  Cumings, Mrs. John Bradley (Florence Briggs Th...  female  38.0      1   \n",
       "2                             Heikkinen, Miss. Laina  female  26.0      0   \n",
       "3       Futrelle, Mrs. Jacques Heath (Lily May Peel)  female  35.0      1   \n",
       "4                           Allen, Mr. William Henry    male  35.0      0   \n",
       "\n",
       "   Parch            Ticket     Fare Cabin Embarked  \n",
       "0      0         A/5 21171   7.2500   NaN        S  \n",
       "1      0          PC 17599  71.2833   C85        C  \n",
       "2      0  STON/O2. 3101282   7.9250   NaN        S  \n",
       "3      0            113803  53.1000  C123        S  \n",
       "4      0            373450   8.0500   NaN        S  "
      ]
     },
     "execution_count": 1,
     "metadata": {},
     "output_type": "execute_result"
    }
   ],
   "source": [
    "import pandas as pd\n",
    "import numpy as np\n",
    "\n",
    "# train.csv 읽어 df에 저장\n",
    "df = pd.read_csv('train.csv')\n",
    "# 5개 출력\n",
    "df.head()"
   ]
  },
  {
   "cell_type": "code",
   "execution_count": 2,
   "id": "b6783fbc",
   "metadata": {},
   "outputs": [
    {
     "data": {
      "text/html": [
       "<div>\n",
       "<style scoped>\n",
       "    .dataframe tbody tr th:only-of-type {\n",
       "        vertical-align: middle;\n",
       "    }\n",
       "\n",
       "    .dataframe tbody tr th {\n",
       "        vertical-align: top;\n",
       "    }\n",
       "\n",
       "    .dataframe thead th {\n",
       "        text-align: right;\n",
       "    }\n",
       "</style>\n",
       "<table border=\"1\" class=\"dataframe\">\n",
       "  <thead>\n",
       "    <tr style=\"text-align: right;\">\n",
       "      <th></th>\n",
       "      <th>Pclass</th>\n",
       "      <th>Sex</th>\n",
       "      <th>Embarked</th>\n",
       "    </tr>\n",
       "  </thead>\n",
       "  <tbody>\n",
       "    <tr>\n",
       "      <th>0</th>\n",
       "      <td>3</td>\n",
       "      <td>male</td>\n",
       "      <td>S</td>\n",
       "    </tr>\n",
       "    <tr>\n",
       "      <th>1</th>\n",
       "      <td>1</td>\n",
       "      <td>female</td>\n",
       "      <td>C</td>\n",
       "    </tr>\n",
       "    <tr>\n",
       "      <th>2</th>\n",
       "      <td>3</td>\n",
       "      <td>female</td>\n",
       "      <td>S</td>\n",
       "    </tr>\n",
       "    <tr>\n",
       "      <th>3</th>\n",
       "      <td>1</td>\n",
       "      <td>female</td>\n",
       "      <td>S</td>\n",
       "    </tr>\n",
       "    <tr>\n",
       "      <th>4</th>\n",
       "      <td>3</td>\n",
       "      <td>male</td>\n",
       "      <td>S</td>\n",
       "    </tr>\n",
       "  </tbody>\n",
       "</table>\n",
       "</div>"
      ],
      "text/plain": [
       "   Pclass     Sex Embarked\n",
       "0       3    male        S\n",
       "1       1  female        C\n",
       "2       3  female        S\n",
       "3       1  female        S\n",
       "4       3    male        S"
      ]
     },
     "execution_count": 2,
     "metadata": {},
     "output_type": "execute_result"
    }
   ],
   "source": [
    "# Pclass Sex Embarked 만 추출해서 5개 출력\n",
    "df[['Pclass', 'Sex', 'Embarked']].head()"
   ]
  },
  {
   "cell_type": "code",
   "execution_count": 3,
   "id": "d26ace46",
   "metadata": {},
   "outputs": [
    {
     "data": {
      "text/html": [
       "<div>\n",
       "<style scoped>\n",
       "    .dataframe tbody tr th:only-of-type {\n",
       "        vertical-align: middle;\n",
       "    }\n",
       "\n",
       "    .dataframe tbody tr th {\n",
       "        vertical-align: top;\n",
       "    }\n",
       "\n",
       "    .dataframe thead th {\n",
       "        text-align: right;\n",
       "    }\n",
       "</style>\n",
       "<table border=\"1\" class=\"dataframe\">\n",
       "  <thead>\n",
       "    <tr style=\"text-align: right;\">\n",
       "      <th></th>\n",
       "      <th>PassengerId</th>\n",
       "      <th>Pclass</th>\n",
       "      <th>Name</th>\n",
       "      <th>Sex</th>\n",
       "      <th>Age</th>\n",
       "      <th>SibSp</th>\n",
       "      <th>Parch</th>\n",
       "      <th>Ticket</th>\n",
       "      <th>Fare</th>\n",
       "      <th>Cabin</th>\n",
       "      <th>Embarked</th>\n",
       "    </tr>\n",
       "  </thead>\n",
       "  <tbody>\n",
       "    <tr>\n",
       "      <th>0</th>\n",
       "      <td>892</td>\n",
       "      <td>3</td>\n",
       "      <td>Kelly, Mr. James</td>\n",
       "      <td>male</td>\n",
       "      <td>34.5</td>\n",
       "      <td>0</td>\n",
       "      <td>0</td>\n",
       "      <td>330911</td>\n",
       "      <td>7.8292</td>\n",
       "      <td>NaN</td>\n",
       "      <td>Q</td>\n",
       "    </tr>\n",
       "    <tr>\n",
       "      <th>1</th>\n",
       "      <td>893</td>\n",
       "      <td>3</td>\n",
       "      <td>Wilkes, Mrs. James (Ellen Needs)</td>\n",
       "      <td>female</td>\n",
       "      <td>47.0</td>\n",
       "      <td>1</td>\n",
       "      <td>0</td>\n",
       "      <td>363272</td>\n",
       "      <td>7.0000</td>\n",
       "      <td>NaN</td>\n",
       "      <td>S</td>\n",
       "    </tr>\n",
       "    <tr>\n",
       "      <th>2</th>\n",
       "      <td>894</td>\n",
       "      <td>2</td>\n",
       "      <td>Myles, Mr. Thomas Francis</td>\n",
       "      <td>male</td>\n",
       "      <td>62.0</td>\n",
       "      <td>0</td>\n",
       "      <td>0</td>\n",
       "      <td>240276</td>\n",
       "      <td>9.6875</td>\n",
       "      <td>NaN</td>\n",
       "      <td>Q</td>\n",
       "    </tr>\n",
       "    <tr>\n",
       "      <th>3</th>\n",
       "      <td>895</td>\n",
       "      <td>3</td>\n",
       "      <td>Wirz, Mr. Albert</td>\n",
       "      <td>male</td>\n",
       "      <td>27.0</td>\n",
       "      <td>0</td>\n",
       "      <td>0</td>\n",
       "      <td>315154</td>\n",
       "      <td>8.6625</td>\n",
       "      <td>NaN</td>\n",
       "      <td>S</td>\n",
       "    </tr>\n",
       "    <tr>\n",
       "      <th>4</th>\n",
       "      <td>896</td>\n",
       "      <td>3</td>\n",
       "      <td>Hirvonen, Mrs. Alexander (Helga E Lindqvist)</td>\n",
       "      <td>female</td>\n",
       "      <td>22.0</td>\n",
       "      <td>1</td>\n",
       "      <td>1</td>\n",
       "      <td>3101298</td>\n",
       "      <td>12.2875</td>\n",
       "      <td>NaN</td>\n",
       "      <td>S</td>\n",
       "    </tr>\n",
       "  </tbody>\n",
       "</table>\n",
       "</div>"
      ],
      "text/plain": [
       "   PassengerId  Pclass                                          Name     Sex  \\\n",
       "0          892       3                              Kelly, Mr. James    male   \n",
       "1          893       3              Wilkes, Mrs. James (Ellen Needs)  female   \n",
       "2          894       2                     Myles, Mr. Thomas Francis    male   \n",
       "3          895       3                              Wirz, Mr. Albert    male   \n",
       "4          896       3  Hirvonen, Mrs. Alexander (Helga E Lindqvist)  female   \n",
       "\n",
       "    Age  SibSp  Parch   Ticket     Fare Cabin Embarked  \n",
       "0  34.5      0      0   330911   7.8292   NaN        Q  \n",
       "1  47.0      1      0   363272   7.0000   NaN        S  \n",
       "2  62.0      0      0   240276   9.6875   NaN        Q  \n",
       "3  27.0      0      0   315154   8.6625   NaN        S  \n",
       "4  22.0      1      1  3101298  12.2875   NaN        S  "
      ]
     },
     "execution_count": 3,
     "metadata": {},
     "output_type": "execute_result"
    }
   ],
   "source": [
    "# train.csv 읽어 test_df에 저장\n",
    "test_df = pd.read_csv('test.csv')\n",
    "# 5개 출력\n",
    "test_df.head()"
   ]
  },
  {
   "cell_type": "code",
   "execution_count": 4,
   "id": "b0659b0b",
   "metadata": {},
   "outputs": [
    {
     "data": {
      "text/plain": [
       "0      22.0\n",
       "1      38.0\n",
       "2      26.0\n",
       "3      35.0\n",
       "4      35.0\n",
       "       ... \n",
       "886    27.0\n",
       "887    19.0\n",
       "888     NaN\n",
       "889    26.0\n",
       "890    32.0\n",
       "Name: Age, Length: 891, dtype: float64"
      ]
     },
     "execution_count": 4,
     "metadata": {},
     "output_type": "execute_result"
    }
   ],
   "source": [
    "df['Age']"
   ]
  },
  {
   "cell_type": "code",
   "execution_count": 73,
   "id": "0759eda8",
   "metadata": {},
   "outputs": [
    {
     "data": {
      "text/plain": [
       "PassengerId    0\n",
       "Survived       0\n",
       "Pclass         0\n",
       "Name           0\n",
       "Sex            0\n",
       "Age            0\n",
       "SibSp          0\n",
       "Parch          0\n",
       "Ticket         0\n",
       "Fare           0\n",
       "Cabin          0\n",
       "Embarked       0\n",
       "FamilySize     0\n",
       "dtype: int64"
      ]
     },
     "execution_count": 73,
     "metadata": {},
     "output_type": "execute_result"
    }
   ],
   "source": [
    "df.isnull().sum()"
   ]
  },
  {
   "cell_type": "code",
   "execution_count": 72,
   "id": "cde7bdb7",
   "metadata": {},
   "outputs": [
    {
     "data": {
      "text/plain": [
       "PassengerId    0\n",
       "Pclass         0\n",
       "Name           0\n",
       "Sex            0\n",
       "Age            0\n",
       "SibSp          0\n",
       "Parch          0\n",
       "Ticket         0\n",
       "Fare           0\n",
       "Cabin          0\n",
       "Embarked       0\n",
       "FamilySize     0\n",
       "dtype: int64"
      ]
     },
     "execution_count": 72,
     "metadata": {},
     "output_type": "execute_result"
    }
   ],
   "source": [
    "test_df.isnull().sum()"
   ]
  },
  {
   "cell_type": "code",
   "execution_count": 6,
   "id": "fe76d6f8",
   "metadata": {},
   "outputs": [],
   "source": [
    "df['Age']=df['Age'].fillna(df['Age'].mean())"
   ]
  },
  {
   "cell_type": "code",
   "execution_count": 8,
   "id": "ee09d471",
   "metadata": {},
   "outputs": [],
   "source": [
    "# test 셋도 적용\n",
    "test_df['Age']=test_df['Age'].fillna(test_df['Age'].mean())"
   ]
  },
  {
   "cell_type": "code",
   "execution_count": 9,
   "id": "35ee9f0c",
   "metadata": {},
   "outputs": [],
   "source": [
    "# Fare 빈칸을 평균으로 대체\n",
    "df['Fare']=df['Fare'].fillna(df['Fare'].mean())\n",
    "test_df['Fare']=test_df['Fare'].fillna(test_df['Fare'].mean())"
   ]
  },
  {
   "cell_type": "code",
   "execution_count": 10,
   "id": "f4368987",
   "metadata": {},
   "outputs": [
    {
     "data": {
      "text/html": [
       "<div>\n",
       "<style scoped>\n",
       "    .dataframe tbody tr th:only-of-type {\n",
       "        vertical-align: middle;\n",
       "    }\n",
       "\n",
       "    .dataframe tbody tr th {\n",
       "        vertical-align: top;\n",
       "    }\n",
       "\n",
       "    .dataframe thead th {\n",
       "        text-align: right;\n",
       "    }\n",
       "</style>\n",
       "<table border=\"1\" class=\"dataframe\">\n",
       "  <thead>\n",
       "    <tr style=\"text-align: right;\">\n",
       "      <th></th>\n",
       "      <th>PassengerId</th>\n",
       "      <th>Survived</th>\n",
       "      <th>Pclass</th>\n",
       "      <th>Name</th>\n",
       "      <th>Sex</th>\n",
       "      <th>Age</th>\n",
       "      <th>SibSp</th>\n",
       "      <th>Parch</th>\n",
       "      <th>Ticket</th>\n",
       "      <th>Fare</th>\n",
       "      <th>Cabin</th>\n",
       "      <th>Embarked</th>\n",
       "      <th>FamilySize</th>\n",
       "    </tr>\n",
       "  </thead>\n",
       "  <tbody>\n",
       "    <tr>\n",
       "      <th>0</th>\n",
       "      <td>1</td>\n",
       "      <td>0</td>\n",
       "      <td>3</td>\n",
       "      <td>Braund, Mr. Owen Harris</td>\n",
       "      <td>male</td>\n",
       "      <td>22.0</td>\n",
       "      <td>1</td>\n",
       "      <td>0</td>\n",
       "      <td>A/5 21171</td>\n",
       "      <td>7.2500</td>\n",
       "      <td>NaN</td>\n",
       "      <td>S</td>\n",
       "      <td>1</td>\n",
       "    </tr>\n",
       "    <tr>\n",
       "      <th>1</th>\n",
       "      <td>2</td>\n",
       "      <td>1</td>\n",
       "      <td>1</td>\n",
       "      <td>Cumings, Mrs. John Bradley (Florence Briggs Th...</td>\n",
       "      <td>female</td>\n",
       "      <td>38.0</td>\n",
       "      <td>1</td>\n",
       "      <td>0</td>\n",
       "      <td>PC 17599</td>\n",
       "      <td>71.2833</td>\n",
       "      <td>C85</td>\n",
       "      <td>C</td>\n",
       "      <td>1</td>\n",
       "    </tr>\n",
       "    <tr>\n",
       "      <th>2</th>\n",
       "      <td>3</td>\n",
       "      <td>1</td>\n",
       "      <td>3</td>\n",
       "      <td>Heikkinen, Miss. Laina</td>\n",
       "      <td>female</td>\n",
       "      <td>26.0</td>\n",
       "      <td>0</td>\n",
       "      <td>0</td>\n",
       "      <td>STON/O2. 3101282</td>\n",
       "      <td>7.9250</td>\n",
       "      <td>NaN</td>\n",
       "      <td>S</td>\n",
       "      <td>0</td>\n",
       "    </tr>\n",
       "    <tr>\n",
       "      <th>3</th>\n",
       "      <td>4</td>\n",
       "      <td>1</td>\n",
       "      <td>1</td>\n",
       "      <td>Futrelle, Mrs. Jacques Heath (Lily May Peel)</td>\n",
       "      <td>female</td>\n",
       "      <td>35.0</td>\n",
       "      <td>1</td>\n",
       "      <td>0</td>\n",
       "      <td>113803</td>\n",
       "      <td>53.1000</td>\n",
       "      <td>C123</td>\n",
       "      <td>S</td>\n",
       "      <td>1</td>\n",
       "    </tr>\n",
       "    <tr>\n",
       "      <th>4</th>\n",
       "      <td>5</td>\n",
       "      <td>0</td>\n",
       "      <td>3</td>\n",
       "      <td>Allen, Mr. William Henry</td>\n",
       "      <td>male</td>\n",
       "      <td>35.0</td>\n",
       "      <td>0</td>\n",
       "      <td>0</td>\n",
       "      <td>373450</td>\n",
       "      <td>8.0500</td>\n",
       "      <td>NaN</td>\n",
       "      <td>S</td>\n",
       "      <td>0</td>\n",
       "    </tr>\n",
       "  </tbody>\n",
       "</table>\n",
       "</div>"
      ],
      "text/plain": [
       "   PassengerId  Survived  Pclass  \\\n",
       "0            1         0       3   \n",
       "1            2         1       1   \n",
       "2            3         1       3   \n",
       "3            4         1       1   \n",
       "4            5         0       3   \n",
       "\n",
       "                                                Name     Sex   Age  SibSp  \\\n",
       "0                            Braund, Mr. Owen Harris    male  22.0      1   \n",
       "1  Cumings, Mrs. John Bradley (Florence Briggs Th...  female  38.0      1   \n",
       "2                             Heikkinen, Miss. Laina  female  26.0      0   \n",
       "3       Futrelle, Mrs. Jacques Heath (Lily May Peel)  female  35.0      1   \n",
       "4                           Allen, Mr. William Henry    male  35.0      0   \n",
       "\n",
       "   Parch            Ticket     Fare Cabin Embarked  FamilySize  \n",
       "0      0         A/5 21171   7.2500   NaN        S           1  \n",
       "1      0          PC 17599  71.2833   C85        C           1  \n",
       "2      0  STON/O2. 3101282   7.9250   NaN        S           0  \n",
       "3      0            113803  53.1000  C123        S           1  \n",
       "4      0            373450   8.0500   NaN        S           0  "
      ]
     },
     "execution_count": 10,
     "metadata": {},
     "output_type": "execute_result"
    }
   ],
   "source": [
    "# SibSp와 Parch를 더하여 FamilySize 생성\n",
    "df['FamilySize'] = df['SibSp']+df['Parch']\n",
    "df.head()"
   ]
  },
  {
   "cell_type": "code",
   "execution_count": 11,
   "id": "d5867d78",
   "metadata": {},
   "outputs": [
    {
     "data": {
      "text/html": [
       "<div>\n",
       "<style scoped>\n",
       "    .dataframe tbody tr th:only-of-type {\n",
       "        vertical-align: middle;\n",
       "    }\n",
       "\n",
       "    .dataframe tbody tr th {\n",
       "        vertical-align: top;\n",
       "    }\n",
       "\n",
       "    .dataframe thead th {\n",
       "        text-align: right;\n",
       "    }\n",
       "</style>\n",
       "<table border=\"1\" class=\"dataframe\">\n",
       "  <thead>\n",
       "    <tr style=\"text-align: right;\">\n",
       "      <th></th>\n",
       "      <th>PassengerId</th>\n",
       "      <th>Pclass</th>\n",
       "      <th>Name</th>\n",
       "      <th>Sex</th>\n",
       "      <th>Age</th>\n",
       "      <th>SibSp</th>\n",
       "      <th>Parch</th>\n",
       "      <th>Ticket</th>\n",
       "      <th>Fare</th>\n",
       "      <th>Cabin</th>\n",
       "      <th>Embarked</th>\n",
       "      <th>FamilySize</th>\n",
       "    </tr>\n",
       "  </thead>\n",
       "  <tbody>\n",
       "    <tr>\n",
       "      <th>0</th>\n",
       "      <td>892</td>\n",
       "      <td>3</td>\n",
       "      <td>Kelly, Mr. James</td>\n",
       "      <td>male</td>\n",
       "      <td>34.5</td>\n",
       "      <td>0</td>\n",
       "      <td>0</td>\n",
       "      <td>330911</td>\n",
       "      <td>7.8292</td>\n",
       "      <td>NaN</td>\n",
       "      <td>Q</td>\n",
       "      <td>0</td>\n",
       "    </tr>\n",
       "    <tr>\n",
       "      <th>1</th>\n",
       "      <td>893</td>\n",
       "      <td>3</td>\n",
       "      <td>Wilkes, Mrs. James (Ellen Needs)</td>\n",
       "      <td>female</td>\n",
       "      <td>47.0</td>\n",
       "      <td>1</td>\n",
       "      <td>0</td>\n",
       "      <td>363272</td>\n",
       "      <td>7.0000</td>\n",
       "      <td>NaN</td>\n",
       "      <td>S</td>\n",
       "      <td>1</td>\n",
       "    </tr>\n",
       "    <tr>\n",
       "      <th>2</th>\n",
       "      <td>894</td>\n",
       "      <td>2</td>\n",
       "      <td>Myles, Mr. Thomas Francis</td>\n",
       "      <td>male</td>\n",
       "      <td>62.0</td>\n",
       "      <td>0</td>\n",
       "      <td>0</td>\n",
       "      <td>240276</td>\n",
       "      <td>9.6875</td>\n",
       "      <td>NaN</td>\n",
       "      <td>Q</td>\n",
       "      <td>0</td>\n",
       "    </tr>\n",
       "    <tr>\n",
       "      <th>3</th>\n",
       "      <td>895</td>\n",
       "      <td>3</td>\n",
       "      <td>Wirz, Mr. Albert</td>\n",
       "      <td>male</td>\n",
       "      <td>27.0</td>\n",
       "      <td>0</td>\n",
       "      <td>0</td>\n",
       "      <td>315154</td>\n",
       "      <td>8.6625</td>\n",
       "      <td>NaN</td>\n",
       "      <td>S</td>\n",
       "      <td>0</td>\n",
       "    </tr>\n",
       "    <tr>\n",
       "      <th>4</th>\n",
       "      <td>896</td>\n",
       "      <td>3</td>\n",
       "      <td>Hirvonen, Mrs. Alexander (Helga E Lindqvist)</td>\n",
       "      <td>female</td>\n",
       "      <td>22.0</td>\n",
       "      <td>1</td>\n",
       "      <td>1</td>\n",
       "      <td>3101298</td>\n",
       "      <td>12.2875</td>\n",
       "      <td>NaN</td>\n",
       "      <td>S</td>\n",
       "      <td>2</td>\n",
       "    </tr>\n",
       "  </tbody>\n",
       "</table>\n",
       "</div>"
      ],
      "text/plain": [
       "   PassengerId  Pclass                                          Name     Sex  \\\n",
       "0          892       3                              Kelly, Mr. James    male   \n",
       "1          893       3              Wilkes, Mrs. James (Ellen Needs)  female   \n",
       "2          894       2                     Myles, Mr. Thomas Francis    male   \n",
       "3          895       3                              Wirz, Mr. Albert    male   \n",
       "4          896       3  Hirvonen, Mrs. Alexander (Helga E Lindqvist)  female   \n",
       "\n",
       "    Age  SibSp  Parch   Ticket     Fare Cabin Embarked  FamilySize  \n",
       "0  34.5      0      0   330911   7.8292   NaN        Q           0  \n",
       "1  47.0      1      0   363272   7.0000   NaN        S           1  \n",
       "2  62.0      0      0   240276   9.6875   NaN        Q           0  \n",
       "3  27.0      0      0   315154   8.6625   NaN        S           0  \n",
       "4  22.0      1      1  3101298  12.2875   NaN        S           2  "
      ]
     },
     "execution_count": 11,
     "metadata": {},
     "output_type": "execute_result"
    }
   ],
   "source": [
    "test_df['FamilySize'] = test_df['SibSp']+test_df['Parch']\n",
    "test_df.head()"
   ]
  },
  {
   "cell_type": "code",
   "execution_count": 12,
   "id": "9789cc18",
   "metadata": {},
   "outputs": [
    {
     "data": {
      "text/plain": [
       "0       NaN\n",
       "1       C85\n",
       "2       NaN\n",
       "3      C123\n",
       "4       NaN\n",
       "       ... \n",
       "886     NaN\n",
       "887     B42\n",
       "888     NaN\n",
       "889    C148\n",
       "890     NaN\n",
       "Name: Cabin, Length: 891, dtype: object"
      ]
     },
     "execution_count": 12,
     "metadata": {},
     "output_type": "execute_result"
    }
   ],
   "source": [
    "df['Cabin']"
   ]
  },
  {
   "cell_type": "code",
   "execution_count": 13,
   "id": "e236d12a",
   "metadata": {},
   "outputs": [
    {
     "data": {
      "text/plain": [
       "C    59\n",
       "B    47\n",
       "D    33\n",
       "E    32\n",
       "A    15\n",
       "F    13\n",
       "G     4\n",
       "T     1\n",
       "Name: Cabin, dtype: int64"
      ]
     },
     "execution_count": 13,
     "metadata": {},
     "output_type": "execute_result"
    }
   ],
   "source": [
    "# Cabin(객실) 정보에서 번호만 삭제하고 알파벳만 남기기\n",
    "df['Cabin']= df['Cabin'].str[0]\n",
    "df['Cabin'].value_counts()"
   ]
  },
  {
   "cell_type": "code",
   "execution_count": 14,
   "id": "00abf352",
   "metadata": {},
   "outputs": [],
   "source": [
    "df['Cabin']=df['Cabin'].fillna('C')"
   ]
  },
  {
   "cell_type": "code",
   "execution_count": 15,
   "id": "771551cb",
   "metadata": {},
   "outputs": [
    {
     "data": {
      "text/plain": [
       "C    35\n",
       "B    18\n",
       "D    13\n",
       "E     9\n",
       "F     8\n",
       "A     7\n",
       "G     1\n",
       "Name: Cabin, dtype: int64"
      ]
     },
     "execution_count": 15,
     "metadata": {},
     "output_type": "execute_result"
    }
   ],
   "source": [
    "# test 적용\n",
    "test_df['Cabin']= test_df['Cabin'].str[0]\n",
    "test_df['Cabin'].value_counts()"
   ]
  },
  {
   "cell_type": "code",
   "execution_count": 16,
   "id": "1115b320",
   "metadata": {},
   "outputs": [],
   "source": [
    "test_df['Cabin']=test_df['Cabin'].fillna('C')"
   ]
  },
  {
   "cell_type": "code",
   "execution_count": 17,
   "id": "7fbe7b99",
   "metadata": {},
   "outputs": [
    {
     "data": {
      "text/plain": [
       "PassengerId    0\n",
       "Survived       0\n",
       "Pclass         0\n",
       "Name           0\n",
       "Sex            0\n",
       "Age            0\n",
       "SibSp          0\n",
       "Parch          0\n",
       "Ticket         0\n",
       "Fare           0\n",
       "Cabin          0\n",
       "Embarked       2\n",
       "FamilySize     0\n",
       "dtype: int64"
      ]
     },
     "execution_count": 17,
     "metadata": {},
     "output_type": "execute_result"
    }
   ],
   "source": [
    "df.isnull().sum()"
   ]
  },
  {
   "cell_type": "code",
   "execution_count": 18,
   "id": "1bd661de",
   "metadata": {},
   "outputs": [
    {
     "data": {
      "text/plain": [
       "PassengerId    0\n",
       "Pclass         0\n",
       "Name           0\n",
       "Sex            0\n",
       "Age            0\n",
       "SibSp          0\n",
       "Parch          0\n",
       "Ticket         0\n",
       "Fare           0\n",
       "Cabin          0\n",
       "Embarked       0\n",
       "FamilySize     0\n",
       "dtype: int64"
      ]
     },
     "execution_count": 18,
     "metadata": {},
     "output_type": "execute_result"
    }
   ],
   "source": [
    "test_df.isnull().sum()"
   ]
  },
  {
   "cell_type": "code",
   "execution_count": 19,
   "id": "b98e2fb3",
   "metadata": {},
   "outputs": [
    {
     "data": {
      "text/plain": [
       "S    644\n",
       "C    168\n",
       "Q     77\n",
       "Name: Embarked, dtype: int64"
      ]
     },
     "execution_count": 19,
     "metadata": {},
     "output_type": "execute_result"
    }
   ],
   "source": [
    "df['Embarked'].value_counts()"
   ]
  },
  {
   "cell_type": "code",
   "execution_count": 20,
   "id": "3ae52d45",
   "metadata": {},
   "outputs": [],
   "source": [
    "df['Embarked'] = df['Embarked'].fillna('S')"
   ]
  },
  {
   "cell_type": "code",
   "execution_count": 21,
   "id": "85266958",
   "metadata": {},
   "outputs": [],
   "source": [
    "test_df['Embarked'] = test_df['Embarked'].fillna('S')"
   ]
  },
  {
   "cell_type": "code",
   "execution_count": 22,
   "id": "d1bb682f",
   "metadata": {},
   "outputs": [
    {
     "data": {
      "text/plain": [
       "0      C\n",
       "1      C\n",
       "2      C\n",
       "3      C\n",
       "4      C\n",
       "      ..\n",
       "886    C\n",
       "887    B\n",
       "888    C\n",
       "889    C\n",
       "890    C\n",
       "Name: Cabin, Length: 891, dtype: object"
      ]
     },
     "execution_count": 22,
     "metadata": {},
     "output_type": "execute_result"
    }
   ],
   "source": [
    "df['Cabin']"
   ]
  },
  {
   "cell_type": "code",
   "execution_count": 23,
   "id": "f33b41ed",
   "metadata": {},
   "outputs": [],
   "source": [
    "# 문자를 숫자로 변환 ( C==>0 / B==>1 / D==>2 / E==>3 )\n",
    "# df.loc[df['Cabin']=='C','Cabin']=0\n",
    "# df.loc[df['Cabin']=='B','Cabin']=1\n",
    "\n",
    "df['Cabin'] = df['Cabin'].map({\n",
    "    'C' :0,\n",
    "    'B' :1,\n",
    "    'D' : 2,\n",
    "    'E' : 3,\n",
    "    'A' : 4,\n",
    "    'F' : 5,\n",
    "    'G' : 6,\n",
    "    'T' : 7,\n",
    "})"
   ]
  },
  {
   "cell_type": "code",
   "execution_count": 24,
   "id": "c3f7f20f",
   "metadata": {},
   "outputs": [
    {
     "data": {
      "text/plain": [
       "0    746\n",
       "1     47\n",
       "2     33\n",
       "3     32\n",
       "4     15\n",
       "5     13\n",
       "6      4\n",
       "7      1\n",
       "Name: Cabin, dtype: int64"
      ]
     },
     "execution_count": 24,
     "metadata": {},
     "output_type": "execute_result"
    }
   ],
   "source": [
    "df['Cabin'].value_counts()"
   ]
  },
  {
   "cell_type": "code",
   "execution_count": 25,
   "id": "89c2a9a0",
   "metadata": {},
   "outputs": [],
   "source": [
    "test_df['Cabin'] = test_df['Cabin'].map({\n",
    "    'C' : 0,\n",
    "    'B' : 1,\n",
    "    'D' : 2,\n",
    "    'E' : 3,\n",
    "    'A' : 4,\n",
    "    'F' : 5,\n",
    "    'G' : 6,\n",
    "    'T' : 7,\n",
    "})"
   ]
  },
  {
   "cell_type": "code",
   "execution_count": 26,
   "id": "b8d950e6",
   "metadata": {},
   "outputs": [
    {
     "data": {
      "text/plain": [
       "0    362\n",
       "1     18\n",
       "2     13\n",
       "3      9\n",
       "5      8\n",
       "4      7\n",
       "6      1\n",
       "Name: Cabin, dtype: int64"
      ]
     },
     "execution_count": 26,
     "metadata": {},
     "output_type": "execute_result"
    }
   ],
   "source": [
    "test_df['Cabin'].value_counts()"
   ]
  },
  {
   "cell_type": "code",
   "execution_count": 27,
   "id": "e4be0082",
   "metadata": {},
   "outputs": [
    {
     "data": {
      "text/html": [
       "<div>\n",
       "<style scoped>\n",
       "    .dataframe tbody tr th:only-of-type {\n",
       "        vertical-align: middle;\n",
       "    }\n",
       "\n",
       "    .dataframe tbody tr th {\n",
       "        vertical-align: top;\n",
       "    }\n",
       "\n",
       "    .dataframe thead th {\n",
       "        text-align: right;\n",
       "    }\n",
       "</style>\n",
       "<table border=\"1\" class=\"dataframe\">\n",
       "  <thead>\n",
       "    <tr style=\"text-align: right;\">\n",
       "      <th></th>\n",
       "      <th>PassengerId</th>\n",
       "      <th>Survived</th>\n",
       "      <th>Pclass</th>\n",
       "      <th>Name</th>\n",
       "      <th>Sex</th>\n",
       "      <th>Age</th>\n",
       "      <th>SibSp</th>\n",
       "      <th>Parch</th>\n",
       "      <th>Ticket</th>\n",
       "      <th>Fare</th>\n",
       "      <th>Cabin</th>\n",
       "      <th>Embarked</th>\n",
       "      <th>FamilySize</th>\n",
       "    </tr>\n",
       "  </thead>\n",
       "  <tbody>\n",
       "    <tr>\n",
       "      <th>0</th>\n",
       "      <td>1</td>\n",
       "      <td>0</td>\n",
       "      <td>3</td>\n",
       "      <td>Braund, Mr. Owen Harris</td>\n",
       "      <td>male</td>\n",
       "      <td>22.0</td>\n",
       "      <td>1</td>\n",
       "      <td>0</td>\n",
       "      <td>A/5 21171</td>\n",
       "      <td>7.2500</td>\n",
       "      <td>0</td>\n",
       "      <td>S</td>\n",
       "      <td>1</td>\n",
       "    </tr>\n",
       "    <tr>\n",
       "      <th>1</th>\n",
       "      <td>2</td>\n",
       "      <td>1</td>\n",
       "      <td>1</td>\n",
       "      <td>Cumings, Mrs. John Bradley (Florence Briggs Th...</td>\n",
       "      <td>female</td>\n",
       "      <td>38.0</td>\n",
       "      <td>1</td>\n",
       "      <td>0</td>\n",
       "      <td>PC 17599</td>\n",
       "      <td>71.2833</td>\n",
       "      <td>0</td>\n",
       "      <td>C</td>\n",
       "      <td>1</td>\n",
       "    </tr>\n",
       "    <tr>\n",
       "      <th>2</th>\n",
       "      <td>3</td>\n",
       "      <td>1</td>\n",
       "      <td>3</td>\n",
       "      <td>Heikkinen, Miss. Laina</td>\n",
       "      <td>female</td>\n",
       "      <td>26.0</td>\n",
       "      <td>0</td>\n",
       "      <td>0</td>\n",
       "      <td>STON/O2. 3101282</td>\n",
       "      <td>7.9250</td>\n",
       "      <td>0</td>\n",
       "      <td>S</td>\n",
       "      <td>0</td>\n",
       "    </tr>\n",
       "    <tr>\n",
       "      <th>3</th>\n",
       "      <td>4</td>\n",
       "      <td>1</td>\n",
       "      <td>1</td>\n",
       "      <td>Futrelle, Mrs. Jacques Heath (Lily May Peel)</td>\n",
       "      <td>female</td>\n",
       "      <td>35.0</td>\n",
       "      <td>1</td>\n",
       "      <td>0</td>\n",
       "      <td>113803</td>\n",
       "      <td>53.1000</td>\n",
       "      <td>0</td>\n",
       "      <td>S</td>\n",
       "      <td>1</td>\n",
       "    </tr>\n",
       "    <tr>\n",
       "      <th>4</th>\n",
       "      <td>5</td>\n",
       "      <td>0</td>\n",
       "      <td>3</td>\n",
       "      <td>Allen, Mr. William Henry</td>\n",
       "      <td>male</td>\n",
       "      <td>35.0</td>\n",
       "      <td>0</td>\n",
       "      <td>0</td>\n",
       "      <td>373450</td>\n",
       "      <td>8.0500</td>\n",
       "      <td>0</td>\n",
       "      <td>S</td>\n",
       "      <td>0</td>\n",
       "    </tr>\n",
       "  </tbody>\n",
       "</table>\n",
       "</div>"
      ],
      "text/plain": [
       "   PassengerId  Survived  Pclass  \\\n",
       "0            1         0       3   \n",
       "1            2         1       1   \n",
       "2            3         1       3   \n",
       "3            4         1       1   \n",
       "4            5         0       3   \n",
       "\n",
       "                                                Name     Sex   Age  SibSp  \\\n",
       "0                            Braund, Mr. Owen Harris    male  22.0      1   \n",
       "1  Cumings, Mrs. John Bradley (Florence Briggs Th...  female  38.0      1   \n",
       "2                             Heikkinen, Miss. Laina  female  26.0      0   \n",
       "3       Futrelle, Mrs. Jacques Heath (Lily May Peel)  female  35.0      1   \n",
       "4                           Allen, Mr. William Henry    male  35.0      0   \n",
       "\n",
       "   Parch            Ticket     Fare  Cabin Embarked  FamilySize  \n",
       "0      0         A/5 21171   7.2500      0        S           1  \n",
       "1      0          PC 17599  71.2833      0        C           1  \n",
       "2      0  STON/O2. 3101282   7.9250      0        S           0  \n",
       "3      0            113803  53.1000      0        S           1  \n",
       "4      0            373450   8.0500      0        S           0  "
      ]
     },
     "execution_count": 27,
     "metadata": {},
     "output_type": "execute_result"
    }
   ],
   "source": [
    "df.head()"
   ]
  },
  {
   "cell_type": "code",
   "execution_count": 28,
   "id": "60448397",
   "metadata": {},
   "outputs": [
    {
     "data": {
      "text/plain": [
       "S    646\n",
       "C    168\n",
       "Q     77\n",
       "Name: Embarked, dtype: int64"
      ]
     },
     "execution_count": 28,
     "metadata": {},
     "output_type": "execute_result"
    }
   ],
   "source": [
    "df['Embarked'].value_counts()"
   ]
  },
  {
   "cell_type": "code",
   "execution_count": 29,
   "id": "f4c0458e",
   "metadata": {},
   "outputs": [
    {
     "data": {
      "text/plain": [
       "S    270\n",
       "C    102\n",
       "Q     46\n",
       "Name: Embarked, dtype: int64"
      ]
     },
     "execution_count": 29,
     "metadata": {},
     "output_type": "execute_result"
    }
   ],
   "source": [
    "test_df['Embarked'].value_counts()"
   ]
  },
  {
   "cell_type": "code",
   "execution_count": 30,
   "id": "9a36334b",
   "metadata": {},
   "outputs": [],
   "source": [
    "df['Embarked'] = df['Embarked'].map({\n",
    "    'S' : 0,\n",
    "    'C' : 1,\n",
    "    'Q' : 2,\n",
    "})"
   ]
  },
  {
   "cell_type": "code",
   "execution_count": 31,
   "id": "cbb4351c",
   "metadata": {},
   "outputs": [],
   "source": [
    "test_df['Embarked'] = test_df['Embarked'].map({\n",
    "    'S' : 0,\n",
    "    'C' : 1,\n",
    "    'Q' : 2,\n",
    "})"
   ]
  },
  {
   "cell_type": "code",
   "execution_count": 32,
   "id": "3431e50f",
   "metadata": {},
   "outputs": [],
   "source": [
    "df['Sex'] = df['Sex'].map({\n",
    "    'male' : 0,\n",
    "    'female' : 1,\n",
    "})"
   ]
  },
  {
   "cell_type": "code",
   "execution_count": 33,
   "id": "afab6d62",
   "metadata": {},
   "outputs": [],
   "source": [
    "test_df['Sex'] = test_df['Sex'].map({\n",
    "    'male' : 0,\n",
    "    'female' : 1,\n",
    "})"
   ]
  },
  {
   "cell_type": "code",
   "execution_count": 34,
   "id": "22cc57dc",
   "metadata": {},
   "outputs": [
    {
     "data": {
      "text/plain": [
       "0    577\n",
       "1    314\n",
       "Name: Sex, dtype: int64"
      ]
     },
     "execution_count": 34,
     "metadata": {},
     "output_type": "execute_result"
    }
   ],
   "source": [
    "df['Sex'].value_counts()"
   ]
  },
  {
   "cell_type": "code",
   "execution_count": 35,
   "id": "7ea7f62d",
   "metadata": {},
   "outputs": [
    {
     "data": {
      "text/plain": [
       "0    266\n",
       "1    152\n",
       "Name: Sex, dtype: int64"
      ]
     },
     "execution_count": 35,
     "metadata": {},
     "output_type": "execute_result"
    }
   ],
   "source": [
    "test_df['Sex'].value_counts()"
   ]
  },
  {
   "cell_type": "code",
   "execution_count": 36,
   "id": "52621c71",
   "metadata": {},
   "outputs": [
    {
     "data": {
      "text/html": [
       "<div>\n",
       "<style scoped>\n",
       "    .dataframe tbody tr th:only-of-type {\n",
       "        vertical-align: middle;\n",
       "    }\n",
       "\n",
       "    .dataframe tbody tr th {\n",
       "        vertical-align: top;\n",
       "    }\n",
       "\n",
       "    .dataframe thead th {\n",
       "        text-align: right;\n",
       "    }\n",
       "</style>\n",
       "<table border=\"1\" class=\"dataframe\">\n",
       "  <thead>\n",
       "    <tr style=\"text-align: right;\">\n",
       "      <th></th>\n",
       "      <th>Survived</th>\n",
       "      <th>Pclass</th>\n",
       "      <th>Sex</th>\n",
       "      <th>Age</th>\n",
       "      <th>Fare</th>\n",
       "      <th>Cabin</th>\n",
       "      <th>Embarked</th>\n",
       "      <th>FamilySize</th>\n",
       "    </tr>\n",
       "  </thead>\n",
       "  <tbody>\n",
       "    <tr>\n",
       "      <th>0</th>\n",
       "      <td>0</td>\n",
       "      <td>3</td>\n",
       "      <td>0</td>\n",
       "      <td>22.0</td>\n",
       "      <td>7.2500</td>\n",
       "      <td>0</td>\n",
       "      <td>0</td>\n",
       "      <td>1</td>\n",
       "    </tr>\n",
       "    <tr>\n",
       "      <th>1</th>\n",
       "      <td>1</td>\n",
       "      <td>1</td>\n",
       "      <td>1</td>\n",
       "      <td>38.0</td>\n",
       "      <td>71.2833</td>\n",
       "      <td>0</td>\n",
       "      <td>1</td>\n",
       "      <td>1</td>\n",
       "    </tr>\n",
       "    <tr>\n",
       "      <th>2</th>\n",
       "      <td>1</td>\n",
       "      <td>3</td>\n",
       "      <td>1</td>\n",
       "      <td>26.0</td>\n",
       "      <td>7.9250</td>\n",
       "      <td>0</td>\n",
       "      <td>0</td>\n",
       "      <td>0</td>\n",
       "    </tr>\n",
       "    <tr>\n",
       "      <th>3</th>\n",
       "      <td>1</td>\n",
       "      <td>1</td>\n",
       "      <td>1</td>\n",
       "      <td>35.0</td>\n",
       "      <td>53.1000</td>\n",
       "      <td>0</td>\n",
       "      <td>0</td>\n",
       "      <td>1</td>\n",
       "    </tr>\n",
       "    <tr>\n",
       "      <th>4</th>\n",
       "      <td>0</td>\n",
       "      <td>3</td>\n",
       "      <td>0</td>\n",
       "      <td>35.0</td>\n",
       "      <td>8.0500</td>\n",
       "      <td>0</td>\n",
       "      <td>0</td>\n",
       "      <td>0</td>\n",
       "    </tr>\n",
       "  </tbody>\n",
       "</table>\n",
       "</div>"
      ],
      "text/plain": [
       "   Survived  Pclass  Sex   Age     Fare  Cabin  Embarked  FamilySize\n",
       "0         0       3    0  22.0   7.2500      0         0           1\n",
       "1         1       1    1  38.0  71.2833      0         1           1\n",
       "2         1       3    1  26.0   7.9250      0         0           0\n",
       "3         1       1    1  35.0  53.1000      0         0           1\n",
       "4         0       3    0  35.0   8.0500      0         0           0"
      ]
     },
     "execution_count": 36,
     "metadata": {},
     "output_type": "execute_result"
    }
   ],
   "source": [
    "# 더이상 필요없는 열 삭제 'Name','Ticket','SibSp','Parch','PassengerId'\n",
    "train = df.drop(['Name','Ticket','SibSp','Parch','PassengerId'], axis=1)\n",
    "train.head()"
   ]
  },
  {
   "cell_type": "code",
   "execution_count": 37,
   "id": "034ea47a",
   "metadata": {},
   "outputs": [
    {
     "data": {
      "text/html": [
       "<div>\n",
       "<style scoped>\n",
       "    .dataframe tbody tr th:only-of-type {\n",
       "        vertical-align: middle;\n",
       "    }\n",
       "\n",
       "    .dataframe tbody tr th {\n",
       "        vertical-align: top;\n",
       "    }\n",
       "\n",
       "    .dataframe thead th {\n",
       "        text-align: right;\n",
       "    }\n",
       "</style>\n",
       "<table border=\"1\" class=\"dataframe\">\n",
       "  <thead>\n",
       "    <tr style=\"text-align: right;\">\n",
       "      <th></th>\n",
       "      <th>Pclass</th>\n",
       "      <th>Sex</th>\n",
       "      <th>Age</th>\n",
       "      <th>Fare</th>\n",
       "      <th>Cabin</th>\n",
       "      <th>Embarked</th>\n",
       "      <th>FamilySize</th>\n",
       "    </tr>\n",
       "  </thead>\n",
       "  <tbody>\n",
       "    <tr>\n",
       "      <th>0</th>\n",
       "      <td>3</td>\n",
       "      <td>0</td>\n",
       "      <td>34.5</td>\n",
       "      <td>7.8292</td>\n",
       "      <td>0</td>\n",
       "      <td>2</td>\n",
       "      <td>0</td>\n",
       "    </tr>\n",
       "    <tr>\n",
       "      <th>1</th>\n",
       "      <td>3</td>\n",
       "      <td>1</td>\n",
       "      <td>47.0</td>\n",
       "      <td>7.0000</td>\n",
       "      <td>0</td>\n",
       "      <td>0</td>\n",
       "      <td>1</td>\n",
       "    </tr>\n",
       "    <tr>\n",
       "      <th>2</th>\n",
       "      <td>2</td>\n",
       "      <td>0</td>\n",
       "      <td>62.0</td>\n",
       "      <td>9.6875</td>\n",
       "      <td>0</td>\n",
       "      <td>2</td>\n",
       "      <td>0</td>\n",
       "    </tr>\n",
       "    <tr>\n",
       "      <th>3</th>\n",
       "      <td>3</td>\n",
       "      <td>0</td>\n",
       "      <td>27.0</td>\n",
       "      <td>8.6625</td>\n",
       "      <td>0</td>\n",
       "      <td>0</td>\n",
       "      <td>0</td>\n",
       "    </tr>\n",
       "    <tr>\n",
       "      <th>4</th>\n",
       "      <td>3</td>\n",
       "      <td>1</td>\n",
       "      <td>22.0</td>\n",
       "      <td>12.2875</td>\n",
       "      <td>0</td>\n",
       "      <td>0</td>\n",
       "      <td>2</td>\n",
       "    </tr>\n",
       "  </tbody>\n",
       "</table>\n",
       "</div>"
      ],
      "text/plain": [
       "   Pclass  Sex   Age     Fare  Cabin  Embarked  FamilySize\n",
       "0       3    0  34.5   7.8292      0         2           0\n",
       "1       3    1  47.0   7.0000      0         0           1\n",
       "2       2    0  62.0   9.6875      0         2           0\n",
       "3       3    0  27.0   8.6625      0         0           0\n",
       "4       3    1  22.0  12.2875      0         0           2"
      ]
     },
     "execution_count": 37,
     "metadata": {},
     "output_type": "execute_result"
    }
   ],
   "source": [
    "test = test_df.drop(['Name','Ticket','SibSp','Parch','PassengerId'], axis=1)\n",
    "test.head()"
   ]
  },
  {
   "cell_type": "code",
   "execution_count": 38,
   "id": "b9547756",
   "metadata": {},
   "outputs": [],
   "source": [
    "# Training set\n",
    "# 모델의 학습에 사용되는 데이터\n",
    "\n",
    "# Validation set\n",
    "# 모델 제작 과정 중, 학습된 모델의 성능을 측정하기 위한 데이터\n",
    "\n",
    "# Test set 모델의 최종 성능을 평가하기 위한 데이터"
   ]
  },
  {
   "cell_type": "code",
   "execution_count": 39,
   "id": "a64f2817",
   "metadata": {},
   "outputs": [
    {
     "data": {
      "text/html": [
       "<div>\n",
       "<style scoped>\n",
       "    .dataframe tbody tr th:only-of-type {\n",
       "        vertical-align: middle;\n",
       "    }\n",
       "\n",
       "    .dataframe tbody tr th {\n",
       "        vertical-align: top;\n",
       "    }\n",
       "\n",
       "    .dataframe thead th {\n",
       "        text-align: right;\n",
       "    }\n",
       "</style>\n",
       "<table border=\"1\" class=\"dataframe\">\n",
       "  <thead>\n",
       "    <tr style=\"text-align: right;\">\n",
       "      <th></th>\n",
       "      <th>Survived</th>\n",
       "      <th>Pclass</th>\n",
       "      <th>Sex</th>\n",
       "      <th>Age</th>\n",
       "      <th>Fare</th>\n",
       "      <th>Cabin</th>\n",
       "      <th>Embarked</th>\n",
       "      <th>FamilySize</th>\n",
       "    </tr>\n",
       "  </thead>\n",
       "  <tbody>\n",
       "    <tr>\n",
       "      <th>0</th>\n",
       "      <td>0</td>\n",
       "      <td>3</td>\n",
       "      <td>0</td>\n",
       "      <td>22.0</td>\n",
       "      <td>7.2500</td>\n",
       "      <td>0</td>\n",
       "      <td>0</td>\n",
       "      <td>1</td>\n",
       "    </tr>\n",
       "    <tr>\n",
       "      <th>1</th>\n",
       "      <td>1</td>\n",
       "      <td>1</td>\n",
       "      <td>1</td>\n",
       "      <td>38.0</td>\n",
       "      <td>71.2833</td>\n",
       "      <td>0</td>\n",
       "      <td>1</td>\n",
       "      <td>1</td>\n",
       "    </tr>\n",
       "    <tr>\n",
       "      <th>2</th>\n",
       "      <td>1</td>\n",
       "      <td>3</td>\n",
       "      <td>1</td>\n",
       "      <td>26.0</td>\n",
       "      <td>7.9250</td>\n",
       "      <td>0</td>\n",
       "      <td>0</td>\n",
       "      <td>0</td>\n",
       "    </tr>\n",
       "    <tr>\n",
       "      <th>3</th>\n",
       "      <td>1</td>\n",
       "      <td>1</td>\n",
       "      <td>1</td>\n",
       "      <td>35.0</td>\n",
       "      <td>53.1000</td>\n",
       "      <td>0</td>\n",
       "      <td>0</td>\n",
       "      <td>1</td>\n",
       "    </tr>\n",
       "    <tr>\n",
       "      <th>4</th>\n",
       "      <td>0</td>\n",
       "      <td>3</td>\n",
       "      <td>0</td>\n",
       "      <td>35.0</td>\n",
       "      <td>8.0500</td>\n",
       "      <td>0</td>\n",
       "      <td>0</td>\n",
       "      <td>0</td>\n",
       "    </tr>\n",
       "  </tbody>\n",
       "</table>\n",
       "</div>"
      ],
      "text/plain": [
       "   Survived  Pclass  Sex   Age     Fare  Cabin  Embarked  FamilySize\n",
       "0         0       3    0  22.0   7.2500      0         0           1\n",
       "1         1       1    1  38.0  71.2833      0         1           1\n",
       "2         1       3    1  26.0   7.9250      0         0           0\n",
       "3         1       1    1  35.0  53.1000      0         0           1\n",
       "4         0       3    0  35.0   8.0500      0         0           0"
      ]
     },
     "execution_count": 39,
     "metadata": {},
     "output_type": "execute_result"
    }
   ],
   "source": [
    "# 훈련용 데이터 에서 데이터, label(target) 분리\n",
    "train_data = train.drop('Survived', axis=1) # 학습용데이터\n",
    "target_data = train['Survived'] # 학습용데이터의 label(target)\n",
    "train.head()"
   ]
  },
  {
   "cell_type": "code",
   "execution_count": 40,
   "id": "755e0be1",
   "metadata": {},
   "outputs": [
    {
     "data": {
      "text/plain": [
       "0    0\n",
       "1    1\n",
       "2    1\n",
       "3    1\n",
       "4    0\n",
       "Name: Survived, dtype: int64"
      ]
     },
     "execution_count": 40,
     "metadata": {},
     "output_type": "execute_result"
    }
   ],
   "source": [
    "target_data.head()"
   ]
  },
  {
   "cell_type": "code",
   "execution_count": 41,
   "id": "1d1cc180",
   "metadata": {},
   "outputs": [
    {
     "name": "stdout",
     "output_type": "stream",
     "text": [
      "(891, 7) (668, 7) (223, 7)\n"
     ]
    }
   ],
   "source": [
    "from sklearn.model_selection import train_test_split\n",
    "\n",
    "x_train, x_valid, y_train, y_valid = train_test_split(train_data, target_data)\n",
    "print(train_data.shape, x_train.shape, x_valid.shape)"
   ]
  },
  {
   "cell_type": "code",
   "execution_count": 42,
   "id": "ffab4063",
   "metadata": {},
   "outputs": [
    {
     "data": {
      "text/plain": [
       "DecisionTreeClassifier()"
      ]
     },
     "execution_count": 42,
     "metadata": {},
     "output_type": "execute_result"
    }
   ],
   "source": [
    "# sklearn 의 Decision Tree Classifier 를 사용하여 학습\n",
    "from sklearn.tree import DecisionTreeClassifier\n",
    "\n",
    "# Decision Tree로 모델 생성\n",
    "tree_dec = DecisionTreeClassifier()\n",
    "\n",
    "# 학습\n",
    "tree_dec.fit(x_train, y_train)"
   ]
  },
  {
   "cell_type": "code",
   "execution_count": 43,
   "id": "e0286da9",
   "metadata": {},
   "outputs": [
    {
     "name": "stdout",
     "output_type": "stream",
     "text": [
      "training set accuracy : 0.9910179640718563\n",
      "Validation set accuracy : 0.7802690582959642\n"
     ]
    }
   ],
   "source": [
    "print('training set accuracy :', tree_dec.score(x_train, y_train))\n",
    "print('Validation set accuracy :', tree_dec.score(x_valid, y_valid))"
   ]
  },
  {
   "cell_type": "code",
   "execution_count": 44,
   "id": "15fca7a8",
   "metadata": {},
   "outputs": [
    {
     "data": {
      "text/plain": [
       "array([0, 0, 0, 0, 0, 0, 1, 0, 1, 0, 0, 0, 1, 0, 1, 1, 0, 1, 0, 0, 0, 1,\n",
       "       1, 0, 1, 0, 1, 1, 1, 1, 0, 0, 1, 0, 0, 0, 0, 0, 0, 1, 0, 1, 0, 1,\n",
       "       1, 0, 1, 0, 1, 1, 0, 0, 1, 1, 0, 0, 0, 0, 0, 1, 0, 0, 0, 1, 0, 1,\n",
       "       1, 1, 0, 1, 1, 0, 0, 1, 1, 0, 0, 1, 0, 1, 1, 1, 0, 0, 0, 0, 1, 1,\n",
       "       0, 1, 0, 0, 1, 0, 1, 0, 1, 0, 1, 0, 1, 0, 0, 0, 1, 0, 0, 0, 1, 1,\n",
       "       0, 0, 1, 1, 1, 0, 0, 1, 0, 1, 1, 0, 1, 0, 0, 0, 0, 0, 1, 0, 0, 0,\n",
       "       0, 0, 0, 0, 1, 0, 0, 0, 0, 1, 0, 0, 1, 0, 1, 0, 0, 0, 1, 0, 1, 1,\n",
       "       0, 0, 1, 1, 1, 0, 0, 1, 1, 0, 1, 1, 0, 0, 1, 0, 0, 1, 0, 0, 0, 1,\n",
       "       1, 0, 1, 1, 0, 1, 1, 0, 1, 0, 1, 0, 0, 0, 0, 1, 1, 0, 1, 1, 1, 0,\n",
       "       0, 0, 0, 1, 0, 1, 0, 0, 0, 0, 1, 0, 0, 0, 1, 1, 1, 1, 0, 1, 1, 0,\n",
       "       1, 0, 1, 1, 1, 0, 0, 0, 0, 0, 1, 1, 0, 0, 0, 0, 0, 1, 1, 1, 1, 1,\n",
       "       1, 0, 0, 1, 1, 0, 1, 0, 1, 1, 0, 0, 0, 0, 0, 0, 1, 0, 0, 0, 1, 1,\n",
       "       0, 0, 0, 0, 0, 0, 0, 0, 1, 0, 0, 1, 0, 0, 0, 0, 0, 1, 0, 0, 1, 0,\n",
       "       0, 0, 0, 0, 1, 0, 0, 0, 0, 0, 1, 1, 0, 0, 0, 1, 0, 0, 0, 1, 0, 1,\n",
       "       0, 0, 0, 1, 0, 0, 1, 1, 1, 0, 0, 0, 0, 0, 1, 1, 1, 0, 1, 0, 0, 0,\n",
       "       1, 1, 0, 0, 0, 1, 0, 0, 0, 0, 0, 0, 0, 1, 0, 0, 0, 0, 0, 1, 1, 0,\n",
       "       0, 1, 1, 0, 1, 0, 0, 0, 0, 1, 1, 0, 1, 0, 0, 0, 1, 0, 0, 1, 0, 1,\n",
       "       1, 1, 0, 0, 1, 1, 0, 0, 0, 0, 0, 1, 0, 0, 0, 1, 0, 1, 1, 0, 0, 1,\n",
       "       0, 1, 0, 0, 1, 0, 1, 1, 1, 1, 0, 0, 0, 1, 0, 1, 0, 0, 1, 0, 0, 1],\n",
       "      dtype=int64)"
      ]
     },
     "execution_count": 44,
     "metadata": {},
     "output_type": "execute_result"
    }
   ],
   "source": [
    "# 만들어진 Decision Tree로 test 데이터 판단\n",
    "prediction = tree_dec.predict(test)\n",
    "prediction"
   ]
  },
  {
   "cell_type": "code",
   "execution_count": 45,
   "id": "20cf326e",
   "metadata": {},
   "outputs": [],
   "source": [
    "submit = pd.DataFrame({\n",
    "    'PassengerId' : test_df['PassengerId'],\n",
    "    'Survived' : prediction\n",
    "})\n",
    "submit.to_csv('survived.csv', index=False)"
   ]
  },
  {
   "cell_type": "code",
   "execution_count": 46,
   "id": "64660af7",
   "metadata": {},
   "outputs": [
    {
     "data": {
      "text/html": [
       "<div>\n",
       "<style scoped>\n",
       "    .dataframe tbody tr th:only-of-type {\n",
       "        vertical-align: middle;\n",
       "    }\n",
       "\n",
       "    .dataframe tbody tr th {\n",
       "        vertical-align: top;\n",
       "    }\n",
       "\n",
       "    .dataframe thead th {\n",
       "        text-align: right;\n",
       "    }\n",
       "</style>\n",
       "<table border=\"1\" class=\"dataframe\">\n",
       "  <thead>\n",
       "    <tr style=\"text-align: right;\">\n",
       "      <th></th>\n",
       "      <th>PassengerId</th>\n",
       "      <th>Survived</th>\n",
       "    </tr>\n",
       "  </thead>\n",
       "  <tbody>\n",
       "    <tr>\n",
       "      <th>0</th>\n",
       "      <td>892</td>\n",
       "      <td>0</td>\n",
       "    </tr>\n",
       "    <tr>\n",
       "      <th>1</th>\n",
       "      <td>893</td>\n",
       "      <td>0</td>\n",
       "    </tr>\n",
       "    <tr>\n",
       "      <th>2</th>\n",
       "      <td>894</td>\n",
       "      <td>0</td>\n",
       "    </tr>\n",
       "    <tr>\n",
       "      <th>3</th>\n",
       "      <td>895</td>\n",
       "      <td>0</td>\n",
       "    </tr>\n",
       "    <tr>\n",
       "      <th>4</th>\n",
       "      <td>896</td>\n",
       "      <td>0</td>\n",
       "    </tr>\n",
       "  </tbody>\n",
       "</table>\n",
       "</div>"
      ],
      "text/plain": [
       "   PassengerId  Survived\n",
       "0          892         0\n",
       "1          893         0\n",
       "2          894         0\n",
       "3          895         0\n",
       "4          896         0"
      ]
     },
     "execution_count": 46,
     "metadata": {},
     "output_type": "execute_result"
    }
   ],
   "source": [
    "my_prediction = pd.read_csv('survived.csv')\n",
    "my_prediction.head()"
   ]
  },
  {
   "cell_type": "code",
   "execution_count": 47,
   "id": "c6eaea14",
   "metadata": {},
   "outputs": [
    {
     "data": {
      "text/plain": [
       "[Text(551.25439453125, 901.0170000000002, 'Sex <= 0.5\\ngini = 0.477\\nsamples = 668\\nvalue = [405, 263]\\nclass = Unsurvived'),\n",
       " Text(204.7587890625, 854.8110000000001, 'Age <= 5.5\\ngini = 0.312\\nsamples = 430\\nvalue = [347, 83]\\nclass = Unsurvived'),\n",
       " Text(18.0, 808.6050000000001, 'FamilySize <= 3.5\\ngini = 0.375\\nsamples = 16\\nvalue = [4, 12]\\nclass = Survived'),\n",
       " Text(9.0, 762.3990000000001, 'gini = 0.0\\nsamples = 11\\nvalue = [0, 11]\\nclass = Survived'),\n",
       " Text(27.0, 762.3990000000001, 'Fare <= 31.331\\ngini = 0.32\\nsamples = 5\\nvalue = [4, 1]\\nclass = Unsurvived'),\n",
       " Text(18.0, 716.1930000000001, 'gini = 0.0\\nsamples = 4\\nvalue = [4, 0]\\nclass = Unsurvived'),\n",
       " Text(36.0, 716.1930000000001, 'gini = 0.0\\nsamples = 1\\nvalue = [0, 1]\\nclass = Survived'),\n",
       " Text(391.517578125, 808.6050000000001, 'Fare <= 26.269\\ngini = 0.284\\nsamples = 414\\nvalue = [343, 71]\\nclass = Unsurvived'),\n",
       " Text(119.28515625, 762.3990000000001, 'Age <= 13.5\\ngini = 0.195\\nsamples = 301\\nvalue = [268, 33]\\nclass = Unsurvived'),\n",
       " Text(54.0, 716.1930000000001, 'FamilySize <= 0.5\\ngini = 0.375\\nsamples = 4\\nvalue = [1, 3]\\nclass = Survived'),\n",
       " Text(45.0, 669.9870000000001, 'gini = 0.0\\nsamples = 1\\nvalue = [1, 0]\\nclass = Unsurvived'),\n",
       " Text(63.0, 669.9870000000001, 'gini = 0.0\\nsamples = 3\\nvalue = [0, 3]\\nclass = Survived'),\n",
       " Text(184.5703125, 716.1930000000001, 'Fare <= 7.91\\ngini = 0.182\\nsamples = 297\\nvalue = [267, 30]\\nclass = Unsurvived'),\n",
       " Text(81.0, 669.9870000000001, 'Age <= 29.35\\ngini = 0.123\\nsamples = 137\\nvalue = [128, 9]\\nclass = Unsurvived'),\n",
       " Text(58.5, 623.7810000000002, 'Fare <= 7.798\\ngini = 0.241\\nsamples = 57\\nvalue = [49, 8]\\nclass = Unsurvived'),\n",
       " Text(49.5, 577.575, 'Age <= 26.5\\ngini = 0.314\\nsamples = 41\\nvalue = [33, 8]\\nclass = Unsurvived'),\n",
       " Text(31.5, 531.3690000000001, 'Age <= 19.5\\ngini = 0.245\\nsamples = 35\\nvalue = [30, 5]\\nclass = Unsurvived'),\n",
       " Text(22.5, 485.16300000000007, 'gini = 0.0\\nsamples = 11\\nvalue = [11, 0]\\nclass = Unsurvived'),\n",
       " Text(40.5, 485.16300000000007, 'Fare <= 7.133\\ngini = 0.33\\nsamples = 24\\nvalue = [19, 5]\\nclass = Unsurvived'),\n",
       " Text(31.5, 438.9570000000001, 'gini = 0.0\\nsamples = 5\\nvalue = [5, 0]\\nclass = Unsurvived'),\n",
       " Text(49.5, 438.9570000000001, 'Fare <= 7.227\\ngini = 0.388\\nsamples = 19\\nvalue = [14, 5]\\nclass = Unsurvived'),\n",
       " Text(40.5, 392.7510000000001, 'gini = 0.0\\nsamples = 2\\nvalue = [0, 2]\\nclass = Survived'),\n",
       " Text(58.5, 392.7510000000001, 'Age <= 20.5\\ngini = 0.291\\nsamples = 17\\nvalue = [14, 3]\\nclass = Unsurvived'),\n",
       " Text(49.5, 346.5450000000001, 'gini = 0.0\\nsamples = 1\\nvalue = [0, 1]\\nclass = Survived'),\n",
       " Text(67.5, 346.5450000000001, 'Fare <= 7.758\\ngini = 0.219\\nsamples = 16\\nvalue = [14, 2]\\nclass = Unsurvived'),\n",
       " Text(58.5, 300.33900000000006, 'gini = 0.0\\nsamples = 9\\nvalue = [9, 0]\\nclass = Unsurvived'),\n",
       " Text(76.5, 300.33900000000006, 'FamilySize <= 0.5\\ngini = 0.408\\nsamples = 7\\nvalue = [5, 2]\\nclass = Unsurvived'),\n",
       " Text(67.5, 254.13300000000004, 'Age <= 21.5\\ngini = 0.32\\nsamples = 5\\nvalue = [4, 1]\\nclass = Unsurvived'),\n",
       " Text(58.5, 207.92700000000002, 'Fare <= 7.785\\ngini = 0.5\\nsamples = 2\\nvalue = [1, 1]\\nclass = Unsurvived'),\n",
       " Text(49.5, 161.72100000000012, 'gini = 0.0\\nsamples = 1\\nvalue = [1, 0]\\nclass = Unsurvived'),\n",
       " Text(67.5, 161.72100000000012, 'gini = 0.0\\nsamples = 1\\nvalue = [0, 1]\\nclass = Survived'),\n",
       " Text(76.5, 207.92700000000002, 'gini = 0.0\\nsamples = 3\\nvalue = [3, 0]\\nclass = Unsurvived'),\n",
       " Text(85.5, 254.13300000000004, 'gini = 0.5\\nsamples = 2\\nvalue = [1, 1]\\nclass = Unsurvived'),\n",
       " Text(67.5, 531.3690000000001, 'Age <= 27.5\\ngini = 0.5\\nsamples = 6\\nvalue = [3, 3]\\nclass = Unsurvived'),\n",
       " Text(58.5, 485.16300000000007, 'gini = 0.0\\nsamples = 2\\nvalue = [0, 2]\\nclass = Survived'),\n",
       " Text(76.5, 485.16300000000007, 'Embarked <= 1.5\\ngini = 0.375\\nsamples = 4\\nvalue = [3, 1]\\nclass = Unsurvived'),\n",
       " Text(67.5, 438.9570000000001, 'gini = 0.0\\nsamples = 3\\nvalue = [3, 0]\\nclass = Unsurvived'),\n",
       " Text(85.5, 438.9570000000001, 'gini = 0.0\\nsamples = 1\\nvalue = [0, 1]\\nclass = Survived'),\n",
       " Text(67.5, 577.575, 'gini = 0.0\\nsamples = 16\\nvalue = [16, 0]\\nclass = Unsurvived'),\n",
       " Text(103.5, 623.7810000000002, 'Fare <= 7.842\\ngini = 0.025\\nsamples = 80\\nvalue = [79, 1]\\nclass = Unsurvived'),\n",
       " Text(94.5, 577.575, 'gini = 0.0\\nsamples = 63\\nvalue = [63, 0]\\nclass = Unsurvived'),\n",
       " Text(112.5, 577.575, 'Fare <= 7.875\\ngini = 0.111\\nsamples = 17\\nvalue = [16, 1]\\nclass = Unsurvived'),\n",
       " Text(103.5, 531.3690000000001, 'Age <= 40.0\\ngini = 0.5\\nsamples = 2\\nvalue = [1, 1]\\nclass = Unsurvived'),\n",
       " Text(94.5, 485.16300000000007, 'gini = 0.0\\nsamples = 1\\nvalue = [0, 1]\\nclass = Survived'),\n",
       " Text(112.5, 485.16300000000007, 'gini = 0.0\\nsamples = 1\\nvalue = [1, 0]\\nclass = Unsurvived'),\n",
       " Text(121.5, 531.3690000000001, 'gini = 0.0\\nsamples = 15\\nvalue = [15, 0]\\nclass = Unsurvived'),\n",
       " Text(288.140625, 669.9870000000001, 'Fare <= 7.988\\ngini = 0.228\\nsamples = 160\\nvalue = [139, 21]\\nclass = Unsurvived'),\n",
       " Text(166.5, 623.7810000000002, 'Age <= 29.5\\ngini = 0.5\\nsamples = 8\\nvalue = [4, 4]\\nclass = Unsurvived'),\n",
       " Text(148.5, 577.575, 'Age <= 20.5\\ngini = 0.375\\nsamples = 4\\nvalue = [3, 1]\\nclass = Unsurvived'),\n",
       " Text(139.5, 531.3690000000001, 'gini = 0.0\\nsamples = 1\\nvalue = [0, 1]\\nclass = Survived'),\n",
       " Text(157.5, 531.3690000000001, 'gini = 0.0\\nsamples = 3\\nvalue = [3, 0]\\nclass = Unsurvived'),\n",
       " Text(184.5, 577.575, 'Age <= 31.5\\ngini = 0.375\\nsamples = 4\\nvalue = [1, 3]\\nclass = Survived'),\n",
       " Text(175.5, 531.3690000000001, 'gini = 0.0\\nsamples = 1\\nvalue = [0, 1]\\nclass = Survived'),\n",
       " Text(193.5, 531.3690000000001, 'Age <= 38.0\\ngini = 0.444\\nsamples = 3\\nvalue = [1, 2]\\nclass = Survived'),\n",
       " Text(184.5, 485.16300000000007, 'gini = 0.5\\nsamples = 2\\nvalue = [1, 1]\\nclass = Unsurvived'),\n",
       " Text(202.5, 485.16300000000007, 'gini = 0.0\\nsamples = 1\\nvalue = [0, 1]\\nclass = Survived'),\n",
       " Text(409.78125, 623.7810000000002, 'Cabin <= 1.0\\ngini = 0.199\\nsamples = 152\\nvalue = [135, 17]\\nclass = Unsurvived'),\n",
       " Text(343.6875, 577.575, 'Age <= 19.5\\ngini = 0.182\\nsamples = 148\\nvalue = [133, 15]\\nclass = Unsurvived'),\n",
       " Text(238.5, 531.3690000000001, 'Fare <= 8.104\\ngini = 0.346\\nsamples = 18\\nvalue = [14, 4]\\nclass = Unsurvived'),\n",
       " Text(220.5, 485.16300000000007, 'Age <= 17.0\\ngini = 0.375\\nsamples = 4\\nvalue = [1, 3]\\nclass = Survived'),\n",
       " Text(211.5, 438.9570000000001, 'gini = 0.5\\nsamples = 2\\nvalue = [1, 1]\\nclass = Unsurvived'),\n",
       " Text(229.5, 438.9570000000001, 'gini = 0.0\\nsamples = 2\\nvalue = [0, 2]\\nclass = Survived'),\n",
       " Text(256.5, 485.16300000000007, 'Age <= 18.5\\ngini = 0.133\\nsamples = 14\\nvalue = [13, 1]\\nclass = Unsurvived'),\n",
       " Text(247.5, 438.9570000000001, 'gini = 0.0\\nsamples = 9\\nvalue = [9, 0]\\nclass = Unsurvived'),\n",
       " Text(265.5, 438.9570000000001, 'Pclass <= 2.5\\ngini = 0.32\\nsamples = 5\\nvalue = [4, 1]\\nclass = Unsurvived'),\n",
       " Text(256.5, 392.7510000000001, 'Fare <= 11.75\\ngini = 0.444\\nsamples = 3\\nvalue = [2, 1]\\nclass = Unsurvived'),\n",
       " Text(247.5, 346.5450000000001, 'gini = 0.5\\nsamples = 2\\nvalue = [1, 1]\\nclass = Unsurvived'),\n",
       " Text(265.5, 346.5450000000001, 'gini = 0.0\\nsamples = 1\\nvalue = [1, 0]\\nclass = Unsurvived'),\n",
       " Text(274.5, 392.7510000000001, 'gini = 0.0\\nsamples = 2\\nvalue = [2, 0]\\nclass = Unsurvived'),\n",
       " Text(448.875, 531.3690000000001, 'Embarked <= 0.5\\ngini = 0.155\\nsamples = 130\\nvalue = [119, 11]\\nclass = Unsurvived'),\n",
       " Text(380.25, 485.16300000000007, 'Age <= 29.35\\ngini = 0.129\\nsamples = 115\\nvalue = [107, 8]\\nclass = Unsurvived'),\n",
       " Text(371.25, 438.9570000000001, 'gini = 0.0\\nsamples = 37\\nvalue = [37, 0]\\nclass = Unsurvived'),\n",
       " Text(389.25, 438.9570000000001, 'Fare <= 13.25\\ngini = 0.184\\nsamples = 78\\nvalue = [70, 8]\\nclass = Unsurvived'),\n",
       " Text(324.0, 392.7510000000001, 'Fare <= 8.081\\ngini = 0.245\\nsamples = 49\\nvalue = [42, 7]\\nclass = Unsurvived'),\n",
       " Text(283.5, 346.5450000000001, 'Age <= 44.5\\ngini = 0.087\\nsamples = 22\\nvalue = [21, 1]\\nclass = Unsurvived'),\n",
       " Text(274.5, 300.33900000000006, 'gini = 0.0\\nsamples = 18\\nvalue = [18, 0]\\nclass = Unsurvived'),\n",
       " Text(292.5, 300.33900000000006, 'Age <= 47.5\\ngini = 0.375\\nsamples = 4\\nvalue = [3, 1]\\nclass = Unsurvived'),\n",
       " Text(283.5, 254.13300000000004, 'gini = 0.0\\nsamples = 1\\nvalue = [0, 1]\\nclass = Survived'),\n",
       " Text(301.5, 254.13300000000004, 'gini = 0.0\\nsamples = 3\\nvalue = [3, 0]\\nclass = Unsurvived'),\n",
       " Text(364.5, 346.5450000000001, 'Age <= 29.85\\ngini = 0.346\\nsamples = 27\\nvalue = [21, 6]\\nclass = Unsurvived'),\n",
       " Text(328.5, 300.33900000000006, 'Pclass <= 2.5\\ngini = 0.444\\nsamples = 3\\nvalue = [1, 2]\\nclass = Survived'),\n",
       " Text(319.5, 254.13300000000004, 'gini = 0.0\\nsamples = 1\\nvalue = [0, 1]\\nclass = Survived'),\n",
       " Text(337.5, 254.13300000000004, 'Fare <= 8.806\\ngini = 0.5\\nsamples = 2\\nvalue = [1, 1]\\nclass = Unsurvived'),\n",
       " Text(328.5, 207.92700000000002, 'gini = 0.0\\nsamples = 1\\nvalue = [0, 1]\\nclass = Survived'),\n",
       " Text(346.5, 207.92700000000002, 'gini = 0.0\\nsamples = 1\\nvalue = [1, 0]\\nclass = Unsurvived'),\n",
       " Text(400.5, 300.33900000000006, 'Age <= 31.5\\ngini = 0.278\\nsamples = 24\\nvalue = [20, 4]\\nclass = Unsurvived'),\n",
       " Text(373.5, 254.13300000000004, 'Fare <= 10.0\\ngini = 0.444\\nsamples = 6\\nvalue = [4, 2]\\nclass = Unsurvived'),\n",
       " Text(364.5, 207.92700000000002, 'gini = 0.0\\nsamples = 1\\nvalue = [0, 1]\\nclass = Survived'),\n",
       " Text(382.5, 207.92700000000002, 'Age <= 30.5\\ngini = 0.32\\nsamples = 5\\nvalue = [4, 1]\\nclass = Unsurvived'),\n",
       " Text(373.5, 161.72100000000012, 'gini = 0.0\\nsamples = 3\\nvalue = [3, 0]\\nclass = Unsurvived'),\n",
       " Text(391.5, 161.72100000000012, 'Fare <= 11.75\\ngini = 0.5\\nsamples = 2\\nvalue = [1, 1]\\nclass = Unsurvived'),\n",
       " Text(382.5, 115.5150000000001, 'gini = 0.0\\nsamples = 1\\nvalue = [1, 0]\\nclass = Unsurvived'),\n",
       " Text(400.5, 115.5150000000001, 'gini = 0.0\\nsamples = 1\\nvalue = [0, 1]\\nclass = Survived'),\n",
       " Text(427.5, 254.13300000000004, 'Age <= 40.5\\ngini = 0.198\\nsamples = 18\\nvalue = [16, 2]\\nclass = Unsurvived'),\n",
       " Text(418.5, 207.92700000000002, 'gini = 0.0\\nsamples = 10\\nvalue = [10, 0]\\nclass = Unsurvived'),\n",
       " Text(436.5, 207.92700000000002, 'Age <= 64.0\\ngini = 0.375\\nsamples = 8\\nvalue = [6, 2]\\nclass = Unsurvived'),\n",
       " Text(427.5, 161.72100000000012, 'Age <= 57.0\\ngini = 0.444\\nsamples = 6\\nvalue = [4, 2]\\nclass = Unsurvived'),\n",
       " Text(418.5, 115.5150000000001, 'Age <= 45.0\\ngini = 0.32\\nsamples = 5\\nvalue = [4, 1]\\nclass = Unsurvived'),\n",
       " Text(409.5, 69.30900000000008, 'Pclass <= 2.5\\ngini = 0.5\\nsamples = 2\\nvalue = [1, 1]\\nclass = Unsurvived'),\n",
       " Text(400.5, 23.103000000000065, 'gini = 0.0\\nsamples = 1\\nvalue = [0, 1]\\nclass = Survived'),\n",
       " Text(418.5, 23.103000000000065, 'gini = 0.0\\nsamples = 1\\nvalue = [1, 0]\\nclass = Unsurvived'),\n",
       " Text(427.5, 69.30900000000008, 'gini = 0.0\\nsamples = 3\\nvalue = [3, 0]\\nclass = Unsurvived'),\n",
       " Text(436.5, 115.5150000000001, 'gini = 0.0\\nsamples = 1\\nvalue = [0, 1]\\nclass = Survived'),\n",
       " Text(445.5, 161.72100000000012, 'gini = 0.0\\nsamples = 2\\nvalue = [2, 0]\\nclass = Unsurvived'),\n",
       " Text(454.5, 392.7510000000001, 'Age <= 32.5\\ngini = 0.067\\nsamples = 29\\nvalue = [28, 1]\\nclass = Unsurvived'),\n",
       " Text(445.5, 346.5450000000001, 'Fare <= 25.962\\ngini = 0.198\\nsamples = 9\\nvalue = [8, 1]\\nclass = Unsurvived'),\n",
       " Text(436.5, 300.33900000000006, 'gini = 0.0\\nsamples = 7\\nvalue = [7, 0]\\nclass = Unsurvived'),\n",
       " Text(454.5, 300.33900000000006, 'FamilySize <= 1.5\\ngini = 0.5\\nsamples = 2\\nvalue = [1, 1]\\nclass = Unsurvived'),\n",
       " Text(445.5, 254.13300000000004, 'gini = 0.0\\nsamples = 1\\nvalue = [0, 1]\\nclass = Survived'),\n",
       " Text(463.5, 254.13300000000004, 'gini = 0.0\\nsamples = 1\\nvalue = [1, 0]\\nclass = Unsurvived'),\n",
       " Text(463.5, 346.5450000000001, 'gini = 0.0\\nsamples = 20\\nvalue = [20, 0]\\nclass = Unsurvived'),\n",
       " Text(517.5, 485.16300000000007, 'FamilySize <= 1.5\\ngini = 0.32\\nsamples = 15\\nvalue = [12, 3]\\nclass = Unsurvived'),\n",
       " Text(499.5, 438.9570000000001, 'Age <= 26.5\\ngini = 0.153\\nsamples = 12\\nvalue = [11, 1]\\nclass = Unsurvived'),\n",
       " Text(490.5, 392.7510000000001, 'Fare <= 16.917\\ngini = 0.444\\nsamples = 3\\nvalue = [2, 1]\\nclass = Unsurvived'),\n",
       " Text(481.5, 346.5450000000001, 'gini = 0.0\\nsamples = 2\\nvalue = [2, 0]\\nclass = Unsurvived'),\n",
       " Text(499.5, 346.5450000000001, 'gini = 0.0\\nsamples = 1\\nvalue = [0, 1]\\nclass = Survived'),\n",
       " Text(508.5, 392.7510000000001, 'gini = 0.0\\nsamples = 9\\nvalue = [9, 0]\\nclass = Unsurvived'),\n",
       " Text(535.5, 438.9570000000001, 'Age <= 34.85\\ngini = 0.444\\nsamples = 3\\nvalue = [1, 2]\\nclass = Survived'),\n",
       " Text(526.5, 392.7510000000001, 'gini = 0.0\\nsamples = 2\\nvalue = [0, 2]\\nclass = Survived'),\n",
       " Text(544.5, 392.7510000000001, 'gini = 0.0\\nsamples = 1\\nvalue = [1, 0]\\nclass = Unsurvived'),\n",
       " Text(475.875, 577.575, 'Age <= 35.0\\ngini = 0.5\\nsamples = 4\\nvalue = [2, 2]\\nclass = Unsurvived'),\n",
       " Text(466.875, 531.3690000000001, 'gini = 0.0\\nsamples = 2\\nvalue = [0, 2]\\nclass = Survived'),\n",
       " Text(484.875, 531.3690000000001, 'gini = 0.0\\nsamples = 2\\nvalue = [2, 0]\\nclass = Unsurvived'),\n",
       " Text(663.75, 762.3990000000001, 'FamilySize <= 3.5\\ngini = 0.446\\nsamples = 113\\nvalue = [75, 38]\\nclass = Unsurvived'),\n",
       " Text(654.75, 716.1930000000001, 'Pclass <= 2.5\\ngini = 0.475\\nsamples = 98\\nvalue = [60, 38]\\nclass = Unsurvived'),\n",
       " Text(645.75, 669.9870000000001, 'Fare <= 30.598\\ngini = 0.458\\nsamples = 93\\nvalue = [60, 33]\\nclass = Unsurvived'),\n",
       " Text(616.5, 623.7810000000002, 'Cabin <= 1.5\\ngini = 0.49\\nsamples = 28\\nvalue = [12, 16]\\nclass = Survived'),\n",
       " Text(607.5, 577.575, 'Age <= 37.5\\ngini = 0.49\\nsamples = 21\\nvalue = [12, 9]\\nclass = Unsurvived'),\n",
       " Text(589.5, 531.3690000000001, 'Pclass <= 1.5\\ngini = 0.444\\nsamples = 12\\nvalue = [4, 8]\\nclass = Survived'),\n",
       " Text(580.5, 485.16300000000007, 'Fare <= 28.875\\ngini = 0.397\\nsamples = 11\\nvalue = [3, 8]\\nclass = Survived'),\n",
       " Text(571.5, 438.9570000000001, 'Fare <= 27.135\\ngini = 0.49\\nsamples = 7\\nvalue = [3, 4]\\nclass = Survived'),\n",
       " Text(562.5, 392.7510000000001, 'Age <= 31.85\\ngini = 0.32\\nsamples = 5\\nvalue = [1, 4]\\nclass = Survived'),\n",
       " Text(553.5, 346.5450000000001, 'Age <= 28.85\\ngini = 0.444\\nsamples = 3\\nvalue = [1, 2]\\nclass = Survived'),\n",
       " Text(544.5, 300.33900000000006, 'gini = 0.0\\nsamples = 1\\nvalue = [0, 1]\\nclass = Survived'),\n",
       " Text(562.5, 300.33900000000006, 'gini = 0.5\\nsamples = 2\\nvalue = [1, 1]\\nclass = Unsurvived'),\n",
       " Text(571.5, 346.5450000000001, 'gini = 0.0\\nsamples = 2\\nvalue = [0, 2]\\nclass = Survived'),\n",
       " Text(580.5, 392.7510000000001, 'gini = 0.0\\nsamples = 2\\nvalue = [2, 0]\\nclass = Unsurvived'),\n",
       " Text(589.5, 438.9570000000001, 'gini = 0.0\\nsamples = 4\\nvalue = [0, 4]\\nclass = Survived'),\n",
       " Text(598.5, 485.16300000000007, 'gini = 0.0\\nsamples = 1\\nvalue = [1, 0]\\nclass = Unsurvived'),\n",
       " Text(625.5, 531.3690000000001, 'Age <= 45.25\\ngini = 0.198\\nsamples = 9\\nvalue = [8, 1]\\nclass = Unsurvived'),\n",
       " Text(616.5, 485.16300000000007, 'Fare <= 26.775\\ngini = 0.375\\nsamples = 4\\nvalue = [3, 1]\\nclass = Unsurvived'),\n",
       " Text(607.5, 438.9570000000001, 'Cabin <= 0.5\\ngini = 0.5\\nsamples = 2\\nvalue = [1, 1]\\nclass = Unsurvived'),\n",
       " Text(598.5, 392.7510000000001, 'gini = 0.0\\nsamples = 1\\nvalue = [0, 1]\\nclass = Survived'),\n",
       " Text(616.5, 392.7510000000001, 'gini = 0.0\\nsamples = 1\\nvalue = [1, 0]\\nclass = Unsurvived'),\n",
       " Text(625.5, 438.9570000000001, 'gini = 0.0\\nsamples = 2\\nvalue = [2, 0]\\nclass = Unsurvived'),\n",
       " Text(634.5, 485.16300000000007, 'gini = 0.0\\nsamples = 5\\nvalue = [5, 0]\\nclass = Unsurvived'),\n",
       " Text(625.5, 577.575, 'gini = 0.0\\nsamples = 7\\nvalue = [0, 7]\\nclass = Survived'),\n",
       " Text(675.0, 623.7810000000002, 'Age <= 17.5\\ngini = 0.386\\nsamples = 65\\nvalue = [48, 17]\\nclass = Unsurvived'),\n",
       " Text(666.0, 577.575, 'gini = 0.0\\nsamples = 2\\nvalue = [0, 2]\\nclass = Survived'),\n",
       " Text(684.0, 577.575, 'Cabin <= 0.5\\ngini = 0.363\\nsamples = 63\\nvalue = [48, 15]\\nclass = Unsurvived'),\n",
       " Text(661.5, 531.3690000000001, 'Embarked <= 0.5\\ngini = 0.175\\nsamples = 31\\nvalue = [28, 3]\\nclass = Unsurvived'),\n",
       " Text(652.5, 485.16300000000007, 'Age <= 48.5\\ngini = 0.266\\nsamples = 19\\nvalue = [16, 3]\\nclass = Unsurvived'),\n",
       " Text(643.5, 438.9570000000001, 'Age <= 29.35\\ngini = 0.198\\nsamples = 18\\nvalue = [16, 2]\\nclass = Unsurvived'),\n",
       " Text(634.5, 392.7510000000001, 'gini = 0.0\\nsamples = 8\\nvalue = [8, 0]\\nclass = Unsurvived'),\n",
       " Text(652.5, 392.7510000000001, 'Fare <= 43.75\\ngini = 0.32\\nsamples = 10\\nvalue = [8, 2]\\nclass = Unsurvived'),\n",
       " Text(634.5, 346.5450000000001, 'Fare <= 35.25\\ngini = 0.5\\nsamples = 2\\nvalue = [1, 1]\\nclass = Unsurvived'),\n",
       " Text(625.5, 300.33900000000006, 'gini = 0.0\\nsamples = 1\\nvalue = [1, 0]\\nclass = Unsurvived'),\n",
       " Text(643.5, 300.33900000000006, 'gini = 0.0\\nsamples = 1\\nvalue = [0, 1]\\nclass = Survived'),\n",
       " Text(670.5, 346.5450000000001, 'Fare <= 84.425\\ngini = 0.219\\nsamples = 8\\nvalue = [7, 1]\\nclass = Unsurvived'),\n",
       " Text(661.5, 300.33900000000006, 'gini = 0.0\\nsamples = 5\\nvalue = [5, 0]\\nclass = Unsurvived'),\n",
       " Text(679.5, 300.33900000000006, 'Fare <= 121.731\\ngini = 0.444\\nsamples = 3\\nvalue = [2, 1]\\nclass = Unsurvived'),\n",
       " Text(670.5, 254.13300000000004, 'gini = 0.0\\nsamples = 1\\nvalue = [0, 1]\\nclass = Survived'),\n",
       " Text(688.5, 254.13300000000004, 'gini = 0.0\\nsamples = 2\\nvalue = [2, 0]\\nclass = Unsurvived'),\n",
       " Text(661.5, 438.9570000000001, 'gini = 0.0\\nsamples = 1\\nvalue = [0, 1]\\nclass = Survived'),\n",
       " Text(670.5, 485.16300000000007, 'gini = 0.0\\nsamples = 12\\nvalue = [12, 0]\\nclass = Unsurvived'),\n",
       " Text(706.5, 531.3690000000001, 'Age <= 43.5\\ngini = 0.469\\nsamples = 32\\nvalue = [20, 12]\\nclass = Unsurvived'),\n",
       " Text(688.5, 485.16300000000007, 'Age <= 24.5\\ngini = 0.492\\nsamples = 16\\nvalue = [7, 9]\\nclass = Survived'),\n",
       " Text(679.5, 438.9570000000001, 'gini = 0.0\\nsamples = 4\\nvalue = [4, 0]\\nclass = Unsurvived'),\n",
       " Text(697.5, 438.9570000000001, 'Cabin <= 3.5\\ngini = 0.375\\nsamples = 12\\nvalue = [3, 9]\\nclass = Survived'),\n",
       " Text(688.5, 392.7510000000001, 'gini = 0.0\\nsamples = 7\\nvalue = [0, 7]\\nclass = Survived'),\n",
       " Text(706.5, 392.7510000000001, 'Fare <= 37.812\\ngini = 0.48\\nsamples = 5\\nvalue = [3, 2]\\nclass = Unsurvived'),\n",
       " Text(697.5, 346.5450000000001, 'gini = 0.0\\nsamples = 2\\nvalue = [0, 2]\\nclass = Survived'),\n",
       " Text(715.5, 346.5450000000001, 'gini = 0.0\\nsamples = 3\\nvalue = [3, 0]\\nclass = Unsurvived'),\n",
       " Text(724.5, 485.16300000000007, 'Embarked <= 0.5\\ngini = 0.305\\nsamples = 16\\nvalue = [13, 3]\\nclass = Unsurvived'),\n",
       " Text(715.5, 438.9570000000001, 'gini = 0.0\\nsamples = 9\\nvalue = [9, 0]\\nclass = Unsurvived'),\n",
       " Text(733.5, 438.9570000000001, 'FamilySize <= 0.5\\ngini = 0.49\\nsamples = 7\\nvalue = [4, 3]\\nclass = Unsurvived'),\n",
       " Text(724.5, 392.7510000000001, 'gini = 0.0\\nsamples = 3\\nvalue = [3, 0]\\nclass = Unsurvived'),\n",
       " Text(742.5, 392.7510000000001, 'Age <= 62.5\\ngini = 0.375\\nsamples = 4\\nvalue = [1, 3]\\nclass = Survived'),\n",
       " Text(733.5, 346.5450000000001, 'gini = 0.0\\nsamples = 3\\nvalue = [0, 3]\\nclass = Survived'),\n",
       " Text(751.5, 346.5450000000001, 'gini = 0.0\\nsamples = 1\\nvalue = [1, 0]\\nclass = Unsurvived'),\n",
       " Text(663.75, 669.9870000000001, 'gini = 0.0\\nsamples = 5\\nvalue = [0, 5]\\nclass = Survived'),\n",
       " Text(672.75, 716.1930000000001, 'gini = 0.0\\nsamples = 15\\nvalue = [15, 0]\\nclass = Unsurvived'),\n",
       " Text(897.75, 854.8110000000001, 'Pclass <= 2.5\\ngini = 0.369\\nsamples = 238\\nvalue = [58, 180]\\nclass = Survived'),\n",
       " Text(814.5, 808.6050000000001, 'Age <= 2.5\\ngini = 0.084\\nsamples = 137\\nvalue = [6, 131]\\nclass = Survived'),\n",
       " Text(796.5, 762.3990000000001, 'Fare <= 88.775\\ngini = 0.5\\nsamples = 2\\nvalue = [1, 1]\\nclass = Unsurvived'),\n",
       " Text(787.5, 716.1930000000001, 'gini = 0.0\\nsamples = 1\\nvalue = [0, 1]\\nclass = Survived'),\n",
       " Text(805.5, 716.1930000000001, 'gini = 0.0\\nsamples = 1\\nvalue = [1, 0]\\nclass = Unsurvived'),\n",
       " Text(832.5, 762.3990000000001, 'Fare <= 28.856\\ngini = 0.071\\nsamples = 135\\nvalue = [5, 130]\\nclass = Survived'),\n",
       " Text(823.5, 716.1930000000001, 'Fare <= 28.231\\ngini = 0.15\\nsamples = 61\\nvalue = [5, 56]\\nclass = Survived'),\n",
       " Text(814.5, 669.9870000000001, 'Age <= 56.0\\ngini = 0.124\\nsamples = 60\\nvalue = [4, 56]\\nclass = Survived'),\n",
       " Text(796.5, 623.7810000000002, 'Age <= 27.5\\ngini = 0.098\\nsamples = 58\\nvalue = [3, 55]\\nclass = Survived'),\n",
       " Text(787.5, 577.575, 'Age <= 25.5\\ngini = 0.227\\nsamples = 23\\nvalue = [3, 20]\\nclass = Survived'),\n",
       " Text(769.5, 531.3690000000001, 'Fare <= 13.396\\ngini = 0.1\\nsamples = 19\\nvalue = [1, 18]\\nclass = Survived'),\n",
       " Text(760.5, 485.16300000000007, 'Age <= 21.0\\ngini = 0.32\\nsamples = 5\\nvalue = [1, 4]\\nclass = Survived'),\n",
       " Text(751.5, 438.9570000000001, 'gini = 0.0\\nsamples = 3\\nvalue = [0, 3]\\nclass = Survived'),\n",
       " Text(769.5, 438.9570000000001, 'Cabin <= 2.5\\ngini = 0.5\\nsamples = 2\\nvalue = [1, 1]\\nclass = Unsurvived'),\n",
       " Text(760.5, 392.7510000000001, 'gini = 0.0\\nsamples = 1\\nvalue = [1, 0]\\nclass = Unsurvived'),\n",
       " Text(778.5, 392.7510000000001, 'gini = 0.0\\nsamples = 1\\nvalue = [0, 1]\\nclass = Survived'),\n",
       " Text(778.5, 485.16300000000007, 'gini = 0.0\\nsamples = 14\\nvalue = [0, 14]\\nclass = Survived'),\n",
       " Text(805.5, 531.3690000000001, 'Fare <= 17.429\\ngini = 0.5\\nsamples = 4\\nvalue = [2, 2]\\nclass = Unsurvived'),\n",
       " Text(796.5, 485.16300000000007, 'gini = 0.0\\nsamples = 2\\nvalue = [0, 2]\\nclass = Survived'),\n",
       " Text(814.5, 485.16300000000007, 'gini = 0.0\\nsamples = 2\\nvalue = [2, 0]\\nclass = Unsurvived'),\n",
       " Text(805.5, 577.575, 'gini = 0.0\\nsamples = 35\\nvalue = [0, 35]\\nclass = Survived'),\n",
       " Text(832.5, 623.7810000000002, 'Cabin <= 1.5\\ngini = 0.5\\nsamples = 2\\nvalue = [1, 1]\\nclass = Unsurvived'),\n",
       " Text(823.5, 577.575, 'gini = 0.0\\nsamples = 1\\nvalue = [0, 1]\\nclass = Survived'),\n",
       " Text(841.5, 577.575, 'gini = 0.0\\nsamples = 1\\nvalue = [1, 0]\\nclass = Unsurvived'),\n",
       " Text(832.5, 669.9870000000001, 'gini = 0.0\\nsamples = 1\\nvalue = [1, 0]\\nclass = Unsurvived'),\n",
       " Text(841.5, 716.1930000000001, 'gini = 0.0\\nsamples = 74\\nvalue = [0, 74]\\nclass = Survived'),\n",
       " Text(981.0, 808.6050000000001, 'FamilySize <= 3.5\\ngini = 0.5\\nsamples = 101\\nvalue = [52, 49]\\nclass = Unsurvived'),\n",
       " Text(900.0, 762.3990000000001, 'Age <= 7.0\\ngini = 0.493\\nsamples = 82\\nvalue = [36, 46]\\nclass = Survived'),\n",
       " Text(859.5, 716.1930000000001, 'Fare <= 10.798\\ngini = 0.219\\nsamples = 8\\nvalue = [1, 7]\\nclass = Survived'),\n",
       " Text(850.5, 669.9870000000001, 'gini = 0.0\\nsamples = 1\\nvalue = [1, 0]\\nclass = Unsurvived'),\n",
       " Text(868.5, 669.9870000000001, 'gini = 0.0\\nsamples = 7\\nvalue = [0, 7]\\nclass = Survived'),\n",
       " Text(940.5, 716.1930000000001, 'Fare <= 7.902\\ngini = 0.499\\nsamples = 74\\nvalue = [35, 39]\\nclass = Survived'),\n",
       " Text(886.5, 669.9870000000001, 'Age <= 30.1\\ngini = 0.428\\nsamples = 29\\nvalue = [9, 20]\\nclass = Survived'),\n",
       " Text(877.5, 623.7810000000002, 'Fare <= 6.987\\ngini = 0.408\\nsamples = 28\\nvalue = [8, 20]\\nclass = Survived'),\n",
       " Text(868.5, 577.575, 'gini = 0.0\\nsamples = 1\\nvalue = [1, 0]\\nclass = Unsurvived'),\n",
       " Text(886.5, 577.575, 'Embarked <= 0.5\\ngini = 0.384\\nsamples = 27\\nvalue = [7, 20]\\nclass = Survived'),\n",
       " Text(855.0, 531.3690000000001, 'Age <= 18.5\\ngini = 0.5\\nsamples = 8\\nvalue = [4, 4]\\nclass = Unsurvived'),\n",
       " Text(846.0, 485.16300000000007, 'gini = 0.0\\nsamples = 2\\nvalue = [2, 0]\\nclass = Unsurvived'),\n",
       " Text(864.0, 485.16300000000007, 'Age <= 23.5\\ngini = 0.444\\nsamples = 6\\nvalue = [2, 4]\\nclass = Survived'),\n",
       " Text(855.0, 438.9570000000001, 'gini = 0.0\\nsamples = 3\\nvalue = [0, 3]\\nclass = Survived'),\n",
       " Text(873.0, 438.9570000000001, 'Fare <= 7.815\\ngini = 0.444\\nsamples = 3\\nvalue = [2, 1]\\nclass = Unsurvived'),\n",
       " Text(864.0, 392.7510000000001, 'gini = 0.0\\nsamples = 2\\nvalue = [2, 0]\\nclass = Unsurvived'),\n",
       " Text(882.0, 392.7510000000001, 'gini = 0.0\\nsamples = 1\\nvalue = [0, 1]\\nclass = Survived'),\n",
       " Text(918.0, 531.3690000000001, 'FamilySize <= 1.0\\ngini = 0.266\\nsamples = 19\\nvalue = [3, 16]\\nclass = Survived'),\n",
       " Text(909.0, 485.16300000000007, 'Fare <= 7.744\\ngini = 0.198\\nsamples = 18\\nvalue = [2, 16]\\nclass = Survived'),\n",
       " Text(900.0, 438.9570000000001, 'gini = 0.0\\nsamples = 6\\nvalue = [0, 6]\\nclass = Survived'),\n",
       " Text(918.0, 438.9570000000001, 'Age <= 21.5\\ngini = 0.278\\nsamples = 12\\nvalue = [2, 10]\\nclass = Survived'),\n",
       " Text(900.0, 392.7510000000001, 'Age <= 18.5\\ngini = 0.5\\nsamples = 2\\nvalue = [1, 1]\\nclass = Unsurvived'),\n",
       " Text(891.0, 346.5450000000001, 'gini = 0.0\\nsamples = 1\\nvalue = [0, 1]\\nclass = Survived'),\n",
       " Text(909.0, 346.5450000000001, 'gini = 0.0\\nsamples = 1\\nvalue = [1, 0]\\nclass = Unsurvived'),\n",
       " Text(936.0, 392.7510000000001, 'Fare <= 7.769\\ngini = 0.18\\nsamples = 10\\nvalue = [1, 9]\\nclass = Survived'),\n",
       " Text(927.0, 346.5450000000001, 'Age <= 25.85\\ngini = 0.219\\nsamples = 8\\nvalue = [1, 7]\\nclass = Survived'),\n",
       " Text(918.0, 300.33900000000006, 'gini = 0.0\\nsamples = 1\\nvalue = [0, 1]\\nclass = Survived'),\n",
       " Text(936.0, 300.33900000000006, 'gini = 0.245\\nsamples = 7\\nvalue = [1, 6]\\nclass = Survived'),\n",
       " Text(945.0, 346.5450000000001, 'gini = 0.0\\nsamples = 2\\nvalue = [0, 2]\\nclass = Survived'),\n",
       " Text(927.0, 485.16300000000007, 'gini = 0.0\\nsamples = 1\\nvalue = [1, 0]\\nclass = Unsurvived'),\n",
       " Text(895.5, 623.7810000000002, 'gini = 0.0\\nsamples = 1\\nvalue = [1, 0]\\nclass = Unsurvived'),\n",
       " Text(994.5, 669.9870000000001, 'Age <= 23.5\\ngini = 0.488\\nsamples = 45\\nvalue = [26, 19]\\nclass = Unsurvived'),\n",
       " Text(963.0, 623.7810000000002, 'Age <= 19.0\\ngini = 0.245\\nsamples = 14\\nvalue = [12, 2]\\nclass = Unsurvived'),\n",
       " Text(954.0, 577.575, 'Fare <= 12.148\\ngini = 0.375\\nsamples = 8\\nvalue = [6, 2]\\nclass = Unsurvived'),\n",
       " Text(945.0, 531.3690000000001, 'gini = 0.0\\nsamples = 1\\nvalue = [0, 1]\\nclass = Survived'),\n",
       " Text(963.0, 531.3690000000001, 'Fare <= 14.456\\ngini = 0.245\\nsamples = 7\\nvalue = [6, 1]\\nclass = Unsurvived'),\n",
       " Text(954.0, 485.16300000000007, 'Age <= 14.75\\ngini = 0.444\\nsamples = 3\\nvalue = [2, 1]\\nclass = Unsurvived'),\n",
       " Text(945.0, 438.9570000000001, 'gini = 0.0\\nsamples = 1\\nvalue = [1, 0]\\nclass = Unsurvived'),\n",
       " Text(963.0, 438.9570000000001, 'Age <= 16.5\\ngini = 0.5\\nsamples = 2\\nvalue = [1, 1]\\nclass = Unsurvived'),\n",
       " Text(954.0, 392.7510000000001, 'gini = 0.0\\nsamples = 1\\nvalue = [0, 1]\\nclass = Survived'),\n",
       " Text(972.0, 392.7510000000001, 'gini = 0.0\\nsamples = 1\\nvalue = [1, 0]\\nclass = Unsurvived'),\n",
       " Text(972.0, 485.16300000000007, 'gini = 0.0\\nsamples = 4\\nvalue = [4, 0]\\nclass = Unsurvived'),\n",
       " Text(972.0, 577.575, 'gini = 0.0\\nsamples = 6\\nvalue = [6, 0]\\nclass = Unsurvived'),\n",
       " Text(1026.0, 623.7810000000002, 'Fare <= 8.673\\ngini = 0.495\\nsamples = 31\\nvalue = [14, 17]\\nclass = Survived'),\n",
       " Text(1008.0, 577.575, 'Age <= 28.35\\ngini = 0.32\\nsamples = 5\\nvalue = [4, 1]\\nclass = Unsurvived'),\n",
       " Text(999.0, 531.3690000000001, 'FamilySize <= 0.5\\ngini = 0.5\\nsamples = 2\\nvalue = [1, 1]\\nclass = Unsurvived'),\n",
       " Text(990.0, 485.16300000000007, 'gini = 0.0\\nsamples = 1\\nvalue = [0, 1]\\nclass = Survived'),\n",
       " Text(1008.0, 485.16300000000007, 'gini = 0.0\\nsamples = 1\\nvalue = [1, 0]\\nclass = Unsurvived'),\n",
       " Text(1017.0, 531.3690000000001, 'gini = 0.0\\nsamples = 3\\nvalue = [3, 0]\\nclass = Unsurvived'),\n",
       " Text(1044.0, 577.575, 'Fare <= 13.438\\ngini = 0.473\\nsamples = 26\\nvalue = [10, 16]\\nclass = Survived'),\n",
       " Text(1035.0, 531.3690000000001, 'gini = 0.0\\nsamples = 4\\nvalue = [0, 4]\\nclass = Survived'),\n",
       " Text(1053.0, 531.3690000000001, 'Fare <= 14.873\\ngini = 0.496\\nsamples = 22\\nvalue = [10, 12]\\nclass = Survived'),\n",
       " Text(1044.0, 485.16300000000007, 'gini = 0.0\\nsamples = 4\\nvalue = [4, 0]\\nclass = Unsurvived'),\n",
       " Text(1062.0, 485.16300000000007, 'Age <= 29.85\\ngini = 0.444\\nsamples = 18\\nvalue = [6, 12]\\nclass = Survived'),\n",
       " Text(1044.0, 438.9570000000001, 'Embarked <= 1.5\\ngini = 0.355\\nsamples = 13\\nvalue = [3, 10]\\nclass = Survived'),\n",
       " Text(1035.0, 392.7510000000001, 'Fare <= 22.904\\ngini = 0.444\\nsamples = 9\\nvalue = [3, 6]\\nclass = Survived'),\n",
       " Text(1026.0, 346.5450000000001, 'Fare <= 16.4\\ngini = 0.375\\nsamples = 8\\nvalue = [2, 6]\\nclass = Survived'),\n",
       " Text(1017.0, 300.33900000000006, 'Age <= 27.5\\ngini = 0.48\\nsamples = 5\\nvalue = [2, 3]\\nclass = Survived'),\n",
       " Text(1008.0, 254.13300000000004, 'gini = 0.0\\nsamples = 1\\nvalue = [1, 0]\\nclass = Unsurvived'),\n",
       " Text(1026.0, 254.13300000000004, 'Fare <= 15.673\\ngini = 0.375\\nsamples = 4\\nvalue = [1, 3]\\nclass = Survived'),\n",
       " Text(1017.0, 207.92700000000002, 'Age <= 29.35\\ngini = 0.5\\nsamples = 2\\nvalue = [1, 1]\\nclass = Unsurvived'),\n",
       " Text(1008.0, 161.72100000000012, 'gini = 0.0\\nsamples = 1\\nvalue = [0, 1]\\nclass = Survived'),\n",
       " Text(1026.0, 161.72100000000012, 'gini = 0.0\\nsamples = 1\\nvalue = [1, 0]\\nclass = Unsurvived'),\n",
       " Text(1035.0, 207.92700000000002, 'gini = 0.0\\nsamples = 2\\nvalue = [0, 2]\\nclass = Survived'),\n",
       " Text(1035.0, 300.33900000000006, 'gini = 0.0\\nsamples = 3\\nvalue = [0, 3]\\nclass = Survived'),\n",
       " Text(1044.0, 346.5450000000001, 'gini = 0.0\\nsamples = 1\\nvalue = [1, 0]\\nclass = Unsurvived'),\n",
       " Text(1053.0, 392.7510000000001, 'gini = 0.0\\nsamples = 4\\nvalue = [0, 4]\\nclass = Survived'),\n",
       " Text(1080.0, 438.9570000000001, 'Age <= 34.0\\ngini = 0.48\\nsamples = 5\\nvalue = [3, 2]\\nclass = Unsurvived'),\n",
       " Text(1071.0, 392.7510000000001, 'Fare <= 19.262\\ngini = 0.375\\nsamples = 4\\nvalue = [3, 1]\\nclass = Unsurvived'),\n",
       " Text(1062.0, 346.5450000000001, 'gini = 0.0\\nsamples = 2\\nvalue = [2, 0]\\nclass = Unsurvived'),\n",
       " Text(1080.0, 346.5450000000001, 'Fare <= 22.337\\ngini = 0.5\\nsamples = 2\\nvalue = [1, 1]\\nclass = Unsurvived'),\n",
       " Text(1071.0, 300.33900000000006, 'gini = 0.0\\nsamples = 1\\nvalue = [0, 1]\\nclass = Survived'),\n",
       " Text(1089.0, 300.33900000000006, 'gini = 0.0\\nsamples = 1\\nvalue = [1, 0]\\nclass = Unsurvived'),\n",
       " Text(1089.0, 392.7510000000001, 'gini = 0.0\\nsamples = 1\\nvalue = [0, 1]\\nclass = Survived'),\n",
       " Text(1062.0, 762.3990000000001, 'Fare <= 14.5\\ngini = 0.266\\nsamples = 19\\nvalue = [16, 3]\\nclass = Unsurvived'),\n",
       " Text(1053.0, 716.1930000000001, 'gini = 0.0\\nsamples = 1\\nvalue = [0, 1]\\nclass = Survived'),\n",
       " Text(1071.0, 716.1930000000001, 'Age <= 5.5\\ngini = 0.198\\nsamples = 18\\nvalue = [16, 2]\\nclass = Unsurvived'),\n",
       " Text(1053.0, 669.9870000000001, 'FamilySize <= 5.0\\ngini = 0.5\\nsamples = 2\\nvalue = [1, 1]\\nclass = Unsurvived'),\n",
       " Text(1044.0, 623.7810000000002, 'gini = 0.0\\nsamples = 1\\nvalue = [1, 0]\\nclass = Unsurvived'),\n",
       " Text(1062.0, 623.7810000000002, 'gini = 0.0\\nsamples = 1\\nvalue = [0, 1]\\nclass = Survived'),\n",
       " Text(1089.0, 669.9870000000001, 'Age <= 33.85\\ngini = 0.117\\nsamples = 16\\nvalue = [15, 1]\\nclass = Unsurvived'),\n",
       " Text(1080.0, 623.7810000000002, 'gini = 0.0\\nsamples = 11\\nvalue = [11, 0]\\nclass = Unsurvived'),\n",
       " Text(1098.0, 623.7810000000002, 'Age <= 38.5\\ngini = 0.32\\nsamples = 5\\nvalue = [4, 1]\\nclass = Unsurvived'),\n",
       " Text(1089.0, 577.575, 'gini = 0.0\\nsamples = 1\\nvalue = [0, 1]\\nclass = Survived'),\n",
       " Text(1107.0, 577.575, 'gini = 0.0\\nsamples = 4\\nvalue = [4, 0]\\nclass = Unsurvived')]"
      ]
     },
     "execution_count": 47,
     "metadata": {},
     "output_type": "execute_result"
    },
    {
     "data": {
      "image/png": "[encoded data removed]",
      "text/plain": [
       "<Figure size 1440x1224 with 1 Axes>"
      ]
     },
     "metadata": {
      "needs_background": "light"
     },
     "output_type": "display_data"
    }
   ],
   "source": [
    "# 시각화\n",
    "from sklearn import tree\n",
    "import matplotlib.pyplot as plt\n",
    "plt.figure(figsize=(20,17))\n",
    "feature_name=['Pclass','Sex','Age','Fare','Cabin','Embarked','FamilySize']\n",
    "tree.plot_tree(tree_dec,\n",
    "              class_names=['Unsurvived','Survived'],\n",
    "              feature_names=feature_name,\n",
    "              impurity=True,\n",
    "              filled=True,\n",
    "              rounded=True)"
   ]
  },
  {
   "cell_type": "code",
   "execution_count": 48,
   "id": "fd191ed2",
   "metadata": {},
   "outputs": [
    {
     "name": "stdout",
     "output_type": "stream",
     "text": [
      "importance :  [0.10352849 0.31140347 0.24049218 0.21311032 0.03909208 0.01825083\n",
      " 0.07412263]\n"
     ]
    }
   ],
   "source": [
    "print(\"importance : \", tree_dec.feature_importances_)"
   ]
  },
  {
   "cell_type": "code",
   "execution_count": 49,
   "id": "449f1b9c",
   "metadata": {},
   "outputs": [
    {
     "name": "stdout",
     "output_type": "stream",
     "text": [
      "Pclass: 0.103528\n",
      "Sex: 0.311403\n",
      "Age: 0.240492\n",
      "Fare: 0.213110\n",
      "Cabin: 0.039092\n",
      "Embarked: 0.018251\n",
      "FamilySize: 0.074123\n"
     ]
    }
   ],
   "source": [
    "for name, value in zip(feature_name, tree_dec.feature_importances_):\n",
    "    print('{0}: {1:3f}'.format(name, value))"
   ]
  },
  {
   "cell_type": "code",
   "execution_count": 51,
   "id": "2ae7ae0b",
   "metadata": {},
   "outputs": [
    {
     "data": {
      "text/plain": [
       "<AxesSubplot:>"
      ]
     },
     "execution_count": 51,
     "metadata": {},
     "output_type": "execute_result"
    },
    {
     "data": {
      "image/png": "[encoded data removed]",
      "text/plain": [
       "<Figure size 432x288 with 1 Axes>"
      ]
     },
     "metadata": {
      "needs_background": "light"
     },
     "output_type": "display_data"
    }
   ],
   "source": [
    "import seaborn as sns\n",
    "sns.barplot(x=tree_dec.feature_importances_, y=feature_name)"
   ]
  },
  {
   "cell_type": "code",
   "execution_count": 52,
   "id": "71a186f0",
   "metadata": {},
   "outputs": [],
   "source": [
    "from sklearn.model_selection import GridSearchCV\n",
    "from sklearn.metrics import accuracy_score"
   ]
  },
  {
   "cell_type": "code",
   "execution_count": 58,
   "id": "01a16654",
   "metadata": {},
   "outputs": [
    {
     "data": {
      "text/plain": [
       "GridSearchCV(cv=5, estimator=DecisionTreeClassifier(),\n",
       "             param_grid={'max_depth': [2, 3, 5, 10],\n",
       "                         'min_samples_leaf': [3, 4, 5],\n",
       "                         'min_samples_split': [7, 8, 9]},\n",
       "             scoring='accuracy')"
      ]
     },
     "execution_count": 58,
     "metadata": {},
     "output_type": "execute_result"
    }
   ],
   "source": [
    "# parameters = {\n",
    "#     'max_depth' : [8,10,12,15],\n",
    "#     'min_samples_split' : [4,5,7],\n",
    "#     'min_samples_leaf'  : [1,2,3]\n",
    "# }\n",
    "\n",
    "parameters = {\n",
    "    'max_depth' : [2,3,5,10],\n",
    "    'min_samples_split' : [7,8,9],\n",
    "    'min_samples_leaf'  : [3,4,5]\n",
    "}\n",
    "grid_dclf = GridSearchCV(tree_dec, param_grid=parameters, scoring='accuracy',cv=5)\n",
    "grid_dclf"
   ]
  },
  {
   "cell_type": "code",
   "execution_count": 59,
   "id": "5c346623",
   "metadata": {},
   "outputs": [
    {
     "data": {
      "text/plain": [
       "GridSearchCV(cv=5, estimator=DecisionTreeClassifier(),\n",
       "             param_grid={'max_depth': [2, 3, 5, 10],\n",
       "                         'min_samples_leaf': [3, 4, 5],\n",
       "                         'min_samples_split': [7, 8, 9]},\n",
       "             scoring='accuracy')"
      ]
     },
     "execution_count": 59,
     "metadata": {},
     "output_type": "execute_result"
    }
   ],
   "source": [
    "grid_dclf.fit(x_train, y_train)"
   ]
  },
  {
   "cell_type": "code",
   "execution_count": 60,
   "id": "598c1ff1",
   "metadata": {},
   "outputs": [
    {
     "name": "stdout",
     "output_type": "stream",
     "text": [
      "GridSearchCV 최적 하이퍼 파라미터: {'max_depth': 5, 'min_samples_leaf': 3, 'min_samples_split': 7}\n"
     ]
    }
   ],
   "source": [
    "print(f'GridSearchCV 최적 하이퍼 파라미터: {grid_dclf.best_params_}')"
   ]
  },
  {
   "cell_type": "code",
   "execution_count": 61,
   "id": "d0274636",
   "metadata": {},
   "outputs": [
    {
     "name": "stdout",
     "output_type": "stream",
     "text": [
      "GridSearchCV 최고 정확도: (0.8098417686006061, 4)\n"
     ]
    }
   ],
   "source": [
    "print(f'GridSearchCV 최고 정확도: {grid_dclf.best_score_,4}')"
   ]
  },
  {
   "cell_type": "code",
   "execution_count": 62,
   "id": "b7d9751c",
   "metadata": {},
   "outputs": [
    {
     "name": "stdout",
     "output_type": "stream",
     "text": [
      "테스트 세트에서의 DecisionTreeClassifier정확도 : 0.8161\n"
     ]
    }
   ],
   "source": [
    "best_dclf = grid_dclf.best_estimator_\n",
    "dpredictions = best_dclf.predict(x_valid)\n",
    "accuracy = accuracy_score(y_valid,dpredictions)\n",
    "print(f'테스트 세트에서의 DecisionTreeClassifier정확도 : {round(accuracy,4)}')"
   ]
  },
  {
   "cell_type": "code",
   "execution_count": 63,
   "id": "762bd6af",
   "metadata": {},
   "outputs": [
    {
     "name": "stdout",
     "output_type": "stream",
     "text": [
      "tree_dec DecisionTreeClassifier 정확도 : 0.7758\n"
     ]
    }
   ],
   "source": [
    "# 훈련용\n",
    "tree_dec.fit(x_train, y_train)\n",
    "dt_pred = tree_dec.predict(x_valid) # 검증용\n",
    "print('tree_dec DecisionTreeClassifier 정확도 : {0:.4f}'\n",
    "     .format(accuracy_score(y_valid, dt_pred)))"
   ]
  },
  {
   "cell_type": "code",
   "execution_count": 64,
   "id": "6b74d010",
   "metadata": {},
   "outputs": [
    {
     "data": {
      "text/plain": [
       "(223,)"
      ]
     },
     "execution_count": 64,
     "metadata": {},
     "output_type": "execute_result"
    }
   ],
   "source": [
    "y_valid.shape"
   ]
  },
  {
   "cell_type": "code",
   "execution_count": 67,
   "id": "a2434a1a",
   "metadata": {},
   "outputs": [
    {
     "name": "stdout",
     "output_type": "stream",
     "text": [
      "총 223명 중 77.578% 정확도로 생존을 맞춤\n"
     ]
    }
   ],
   "source": [
    "length = y_valid.shape[0]\n",
    "accuracy = accuracy_score(y_valid, dt_pred)\n",
    "print(f'총 {length}명 중 {accuracy * 100:.3f}% 정확도로 생존을 맞춤')"
   ]
  },
  {
   "cell_type": "code",
   "execution_count": 68,
   "id": "7039f34f",
   "metadata": {},
   "outputs": [
    {
     "name": "stdout",
     "output_type": "stream",
     "text": [
      "총 223명 중 81.614% 정확도로 생존을 맞춤\n"
     ]
    }
   ],
   "source": [
    "best_accuracy = accuracy_score(y_valid,dpredictions)\n",
    "print(f'총 {length}명 중 {best_accuracy * 100:.3f}% 정확도로 생존을 맞춤')"
   ]
  },
  {
   "cell_type": "code",
   "execution_count": 71,
   "id": "fb9a93aa",
   "metadata": {},
   "outputs": [
    {
     "data": {
      "text/plain": [
       "[Text(463.33928571428567, 847.1100000000001, 'Sex <= 0.5\\ngini = 0.477\\nsamples = 668\\nvalue = [405, 263]\\nclass = Unsurvived'),\n",
       " Text(199.28571428571428, 693.0900000000001, 'Age <= 5.5\\ngini = 0.312\\nsamples = 430\\nvalue = [347, 83]\\nclass = Unsurvived'),\n",
       " Text(79.71428571428571, 539.0700000000002, 'FamilySize <= 3.5\\ngini = 0.375\\nsamples = 16\\nvalue = [4, 12]\\nclass = Survived'),\n",
       " Text(39.857142857142854, 385.05000000000007, 'gini = 0.0\\nsamples = 11\\nvalue = [0, 11]\\nclass = Survived'),\n",
       " Text(119.57142857142856, 385.05000000000007, 'gini = 0.32\\nsamples = 5\\nvalue = [4, 1]\\nclass = Unsurvived'),\n",
       " Text(318.85714285714283, 539.0700000000002, 'Fare <= 26.269\\ngini = 0.284\\nsamples = 414\\nvalue = [343, 71]\\nclass = Unsurvived'),\n",
       " Text(199.28571428571428, 385.05000000000007, 'Age <= 13.5\\ngini = 0.195\\nsamples = 301\\nvalue = [268, 33]\\nclass = Unsurvived'),\n",
       " Text(159.42857142857142, 231.0300000000001, 'gini = 0.375\\nsamples = 4\\nvalue = [1, 3]\\nclass = Survived'),\n",
       " Text(239.1428571428571, 231.0300000000001, 'Fare <= 7.91\\ngini = 0.182\\nsamples = 297\\nvalue = [267, 30]\\nclass = Unsurvived'),\n",
       " Text(199.28571428571428, 77.0100000000001, 'gini = 0.123\\nsamples = 137\\nvalue = [128, 9]\\nclass = Unsurvived'),\n",
       " Text(279.0, 77.0100000000001, 'gini = 0.228\\nsamples = 160\\nvalue = [139, 21]\\nclass = Unsurvived'),\n",
       " Text(438.4285714285714, 385.05000000000007, 'FamilySize <= 3.5\\ngini = 0.446\\nsamples = 113\\nvalue = [75, 38]\\nclass = Unsurvived'),\n",
       " Text(398.57142857142856, 231.0300000000001, 'Pclass <= 2.5\\ngini = 0.475\\nsamples = 98\\nvalue = [60, 38]\\nclass = Unsurvived'),\n",
       " Text(358.71428571428567, 77.0100000000001, 'gini = 0.458\\nsamples = 93\\nvalue = [60, 33]\\nclass = Unsurvived'),\n",
       " Text(438.4285714285714, 77.0100000000001, 'gini = 0.0\\nsamples = 5\\nvalue = [0, 5]\\nclass = Survived'),\n",
       " Text(478.2857142857142, 231.0300000000001, 'gini = 0.0\\nsamples = 15\\nvalue = [15, 0]\\nclass = Unsurvived'),\n",
       " Text(727.3928571428571, 693.0900000000001, 'Pclass <= 2.5\\ngini = 0.369\\nsamples = 238\\nvalue = [58, 180]\\nclass = Survived'),\n",
       " Text(558.0, 539.0700000000002, 'Age <= 3.5\\ngini = 0.084\\nsamples = 137\\nvalue = [6, 131]\\nclass = Survived'),\n",
       " Text(518.1428571428571, 385.05000000000007, 'gini = 0.444\\nsamples = 3\\nvalue = [1, 2]\\nclass = Survived'),\n",
       " Text(597.8571428571428, 385.05000000000007, 'Fare <= 28.856\\ngini = 0.072\\nsamples = 134\\nvalue = [5, 129]\\nclass = Survived'),\n",
       " Text(558.0, 231.0300000000001, 'Age <= 49.5\\ngini = 0.15\\nsamples = 61\\nvalue = [5, 56]\\nclass = Survived'),\n",
       " Text(518.1428571428571, 77.0100000000001, 'gini = 0.107\\nsamples = 53\\nvalue = [3, 50]\\nclass = Survived'),\n",
       " Text(597.8571428571428, 77.0100000000001, 'gini = 0.375\\nsamples = 8\\nvalue = [2, 6]\\nclass = Survived'),\n",
       " Text(637.7142857142857, 231.0300000000001, 'gini = 0.0\\nsamples = 73\\nvalue = [0, 73]\\nclass = Survived'),\n",
       " Text(896.7857142857142, 539.0700000000002, 'FamilySize <= 3.5\\ngini = 0.5\\nsamples = 101\\nvalue = [52, 49]\\nclass = Unsurvived'),\n",
       " Text(797.1428571428571, 385.05000000000007, 'Age <= 7.0\\ngini = 0.493\\nsamples = 82\\nvalue = [36, 46]\\nclass = Survived'),\n",
       " Text(717.4285714285713, 231.0300000000001, 'Fare <= 12.381\\ngini = 0.219\\nsamples = 8\\nvalue = [1, 7]\\nclass = Survived'),\n",
       " Text(677.5714285714286, 77.0100000000001, 'gini = 0.444\\nsamples = 3\\nvalue = [1, 2]\\nclass = Survived'),\n",
       " Text(757.2857142857142, 77.0100000000001, 'gini = 0.0\\nsamples = 5\\nvalue = [0, 5]\\nclass = Survived'),\n",
       " Text(876.8571428571428, 231.0300000000001, 'Fare <= 7.902\\ngini = 0.499\\nsamples = 74\\nvalue = [35, 39]\\nclass = Survived'),\n",
       " Text(836.9999999999999, 77.0100000000001, 'gini = 0.428\\nsamples = 29\\nvalue = [9, 20]\\nclass = Survived'),\n",
       " Text(916.7142857142857, 77.0100000000001, 'gini = 0.488\\nsamples = 45\\nvalue = [26, 19]\\nclass = Unsurvived'),\n",
       " Text(996.4285714285713, 385.05000000000007, 'FamilySize <= 5.5\\ngini = 0.266\\nsamples = 19\\nvalue = [16, 3]\\nclass = Unsurvived'),\n",
       " Text(956.5714285714284, 231.0300000000001, 'gini = 0.0\\nsamples = 10\\nvalue = [10, 0]\\nclass = Unsurvived'),\n",
       " Text(1036.2857142857142, 231.0300000000001, 'FamilySize <= 6.5\\ngini = 0.444\\nsamples = 9\\nvalue = [6, 3]\\nclass = Unsurvived'),\n",
       " Text(996.4285714285713, 77.0100000000001, 'gini = 0.5\\nsamples = 6\\nvalue = [3, 3]\\nclass = Unsurvived'),\n",
       " Text(1076.142857142857, 77.0100000000001, 'gini = 0.0\\nsamples = 3\\nvalue = [3, 0]\\nclass = Unsurvived')]"
      ]
     },
     "execution_count": 71,
     "metadata": {},
     "output_type": "execute_result"
    },
    {
     "data": {
      "image/png": "[encoded data removed]",
      "text/plain": [
       "<Figure size 1440x1224 with 1 Axes>"
      ]
     },
     "metadata": {
      "needs_background": "light"
     },
     "output_type": "display_data"
    }
   ],
   "source": [
    "# 시각화 : 하이퍼파라미터 적용한 모델\n",
    "plt.figure(figsize=(20,17))\n",
    "feature_name=['Pclass','Sex','Age','Fare','Cabin','Embarked','FamilySize']\n",
    "tree.plot_tree(best_dclf,\n",
    "              class_names=['Unsurvived','Survived'],\n",
    "              feature_names=feature_name,\n",
    "              impurity=True,\n",
    "              filled=True,\n",
    "              rounded=True)"
   ]
  },
  {
   "cell_type": "code",
   "execution_count": null,
   "id": "0b31a3be",
   "metadata": {},
   "outputs": [],
   "source": []
  }
 ],
 "metadata": {
  "kernelspec": {
   "display_name": "Python 3",
   "language": "python",
   "name": "python3"
  },
  "language_info": {
   "codemirror_mode": {
    "name": "ipython",
    "version": 3
   },
   "file_extension": ".py",
   "mimetype": "text/x-python",
   "name": "python",
   "nbconvert_exporter": "python",
   "pygments_lexer": "ipython3",
   "version": "3.8.8"
  }
 },
 "nbformat": 4,
 "nbformat_minor": 5
}
