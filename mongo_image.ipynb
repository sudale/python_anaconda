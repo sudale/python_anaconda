{
 "cells": [
  {
   "cell_type": "code",
   "execution_count": 1,
   "id": "63cd984c",
   "metadata": {},
   "outputs": [],
   "source": [
    "from PIL import Image, ImageFilter"
   ]
  },
  {
   "cell_type": "code",
   "execution_count": 2,
   "id": "6acf0ac1",
   "metadata": {},
   "outputs": [
    {
     "data": {
      "text/plain": [
       "(1072, 720)"
      ]
     },
     "execution_count": 2,
     "metadata": {},
     "output_type": "execute_result"
    }
   ],
   "source": [
    "im = Image.open('otter1.png')\n",
    "im.size"
   ]
  },
  {
   "cell_type": "code",
   "execution_count": 3,
   "id": "b220f8ab",
   "metadata": {},
   "outputs": [],
   "source": [
    "im.save('otter11.png')"
   ]
  },
  {
   "cell_type": "code",
   "execution_count": 4,
   "id": "d5dbd2b4",
   "metadata": {},
   "outputs": [],
   "source": [
    "im = Image.open('otter1.png')\n",
    "size=(64,64) #thumbnail 이미지 생성\n",
    "im.thumbnail(size)\n",
    "im.save('otter1_thumb.png')"
   ]
  },
  {
   "cell_type": "code",
   "execution_count": 5,
   "id": "9d7a7308",
   "metadata": {},
   "outputs": [],
   "source": [
    "im = Image.open('otter1.png')\n",
    "cropImage = im.crop((100,100,150,150))\n",
    "cropImage.save('otter1_crop.png')"
   ]
  },
  {
   "cell_type": "code",
   "execution_count": 6,
   "id": "c36bcf83",
   "metadata": {},
   "outputs": [],
   "source": [
    "im = Image.open('otter1.png')\n",
    "img2 = im.resize((500,500))\n",
    "img2.save('otter1-500.png')"
   ]
  },
  {
   "cell_type": "code",
   "execution_count": 7,
   "id": "91de2994",
   "metadata": {},
   "outputs": [],
   "source": [
    "#90 도 회전\n",
    "img3 = im.rotate(90)\n",
    "img3.save('otter1-rotate.png')"
   ]
  },
  {
   "cell_type": "code",
   "execution_count": 8,
   "id": "ce66190a",
   "metadata": {},
   "outputs": [],
   "source": [
    "im = Image.open('otter1.png')\n",
    "blurImage = im.filter(ImageFilter.BLUR)\n",
    "blurImage.save('otter1-blur.png')"
   ]
  },
  {
   "cell_type": "code",
   "execution_count": null,
   "id": "58c385c5",
   "metadata": {},
   "outputs": [],
   "source": []
  }
 ],
 "metadata": {
  "kernelspec": {
   "display_name": "Python 3",
   "language": "python",
   "name": "python3"
  },
  "language_info": {
   "codemirror_mode": {
    "name": "ipython",
    "version": 3
   },
   "file_extension": ".py",
   "mimetype": "text/x-python",
   "name": "python",
   "nbconvert_exporter": "python",
   "pygments_lexer": "ipython3",
   "version": "3.8.8"
  }
 },
 "nbformat": 4,
 "nbformat_minor": 5
}
